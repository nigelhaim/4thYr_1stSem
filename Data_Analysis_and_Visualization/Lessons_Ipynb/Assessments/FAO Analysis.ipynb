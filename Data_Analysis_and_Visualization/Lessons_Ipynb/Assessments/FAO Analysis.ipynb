{
 "cells": [
  {
   "cell_type": "markdown",
   "metadata": {},
   "source": [
    "\n",
    "## Which are the most productive countries?\n"
   ]
  },
  {
   "cell_type": "code",
   "execution_count": 1,
   "metadata": {
    "ExecuteTime": {
     "end_time": "2020-11-07T09:42:45.008610Z",
     "start_time": "2020-11-07T09:42:44.995608Z"
    },
    "_cell_guid": "b1076dfc-b9ad-4769-8c92-a6c4dae69d19",
    "_uuid": "8f2839f25d086af736a60e9eeb907d3b93b6e0e5"
   },
   "outputs": [
    {
     "data": {
      "text/html": [
       "        <script type=\"text/javascript\">\n",
       "        window.PlotlyConfig = {MathJaxConfig: 'local'};\n",
       "        if (window.MathJax && window.MathJax.Hub && window.MathJax.Hub.Config) {window.MathJax.Hub.Config({SVG: {font: \"STIX-Web\"}});}\n",
       "        if (typeof require !== 'undefined') {\n",
       "        require.undef(\"plotly\");\n",
       "        requirejs.config({\n",
       "            paths: {\n",
       "                'plotly': ['https://cdn.plot.ly/plotly-2.26.0.min']\n",
       "            }\n",
       "        });\n",
       "        require(['plotly'], function(Plotly) {\n",
       "            window._Plotly = Plotly;\n",
       "        });\n",
       "        }\n",
       "        </script>\n",
       "        "
      ]
     },
     "metadata": {},
     "output_type": "display_data"
    }
   ],
   "source": [
    "import numpy as np \n",
    "import pandas as pd \n",
    "import matplotlib.pyplot as plt\n",
    "import seaborn as sns\n",
    "import plotly as py \n",
    "import plotly.graph_objs as go\n",
    "\n",
    "from plotly.offline import init_notebook_mode, plot, iplot\n",
    "init_notebook_mode(connected=True)\n",
    "\n",
    "from sklearn.cluster import KMeans, AgglomerativeClustering, AffinityPropagation\n",
    "from sklearn.preprocessing import StandardScaler\n",
    "import os"
   ]
  },
  {
   "cell_type": "markdown",
   "metadata": {},
   "source": [
    "<img src = 'sscaler.png'>"
   ]
  },
  {
   "cell_type": "code",
   "execution_count": 2,
   "metadata": {
    "ExecuteTime": {
     "end_time": "2020-11-07T09:42:45.891499Z",
     "start_time": "2020-11-07T09:42:45.564170Z"
    }
   },
   "outputs": [
    {
     "data": {
      "text/html": [
       "<div>\n",
       "<style scoped>\n",
       "    .dataframe tbody tr th:only-of-type {\n",
       "        vertical-align: middle;\n",
       "    }\n",
       "\n",
       "    .dataframe tbody tr th {\n",
       "        vertical-align: top;\n",
       "    }\n",
       "\n",
       "    .dataframe thead th {\n",
       "        text-align: right;\n",
       "    }\n",
       "</style>\n",
       "<table border=\"1\" class=\"dataframe\">\n",
       "  <thead>\n",
       "    <tr style=\"text-align: right;\">\n",
       "      <th></th>\n",
       "      <th>Area Abbreviation</th>\n",
       "      <th>Area Code</th>\n",
       "      <th>Area</th>\n",
       "      <th>Item Code</th>\n",
       "      <th>Item</th>\n",
       "      <th>Element Code</th>\n",
       "      <th>Element</th>\n",
       "      <th>Unit</th>\n",
       "      <th>latitude</th>\n",
       "      <th>longitude</th>\n",
       "      <th>...</th>\n",
       "      <th>Y2004</th>\n",
       "      <th>Y2005</th>\n",
       "      <th>Y2006</th>\n",
       "      <th>Y2007</th>\n",
       "      <th>Y2008</th>\n",
       "      <th>Y2009</th>\n",
       "      <th>Y2010</th>\n",
       "      <th>Y2011</th>\n",
       "      <th>Y2012</th>\n",
       "      <th>Y2013</th>\n",
       "    </tr>\n",
       "  </thead>\n",
       "  <tbody>\n",
       "    <tr>\n",
       "      <th>0</th>\n",
       "      <td>AFG</td>\n",
       "      <td>2</td>\n",
       "      <td>Afghanistan</td>\n",
       "      <td>2511</td>\n",
       "      <td>Wheat and products</td>\n",
       "      <td>5142</td>\n",
       "      <td>Food</td>\n",
       "      <td>1000 tonnes</td>\n",
       "      <td>33.94</td>\n",
       "      <td>67.71</td>\n",
       "      <td>...</td>\n",
       "      <td>3249.0</td>\n",
       "      <td>3486.0</td>\n",
       "      <td>3704.0</td>\n",
       "      <td>4164.0</td>\n",
       "      <td>4252.0</td>\n",
       "      <td>4538.0</td>\n",
       "      <td>4605.0</td>\n",
       "      <td>4711.0</td>\n",
       "      <td>4810</td>\n",
       "      <td>4895</td>\n",
       "    </tr>\n",
       "    <tr>\n",
       "      <th>1</th>\n",
       "      <td>AFG</td>\n",
       "      <td>2</td>\n",
       "      <td>Afghanistan</td>\n",
       "      <td>2805</td>\n",
       "      <td>Rice (Milled Equivalent)</td>\n",
       "      <td>5142</td>\n",
       "      <td>Food</td>\n",
       "      <td>1000 tonnes</td>\n",
       "      <td>33.94</td>\n",
       "      <td>67.71</td>\n",
       "      <td>...</td>\n",
       "      <td>419.0</td>\n",
       "      <td>445.0</td>\n",
       "      <td>546.0</td>\n",
       "      <td>455.0</td>\n",
       "      <td>490.0</td>\n",
       "      <td>415.0</td>\n",
       "      <td>442.0</td>\n",
       "      <td>476.0</td>\n",
       "      <td>425</td>\n",
       "      <td>422</td>\n",
       "    </tr>\n",
       "    <tr>\n",
       "      <th>2</th>\n",
       "      <td>AFG</td>\n",
       "      <td>2</td>\n",
       "      <td>Afghanistan</td>\n",
       "      <td>2513</td>\n",
       "      <td>Barley and products</td>\n",
       "      <td>5521</td>\n",
       "      <td>Feed</td>\n",
       "      <td>1000 tonnes</td>\n",
       "      <td>33.94</td>\n",
       "      <td>67.71</td>\n",
       "      <td>...</td>\n",
       "      <td>58.0</td>\n",
       "      <td>236.0</td>\n",
       "      <td>262.0</td>\n",
       "      <td>263.0</td>\n",
       "      <td>230.0</td>\n",
       "      <td>379.0</td>\n",
       "      <td>315.0</td>\n",
       "      <td>203.0</td>\n",
       "      <td>367</td>\n",
       "      <td>360</td>\n",
       "    </tr>\n",
       "    <tr>\n",
       "      <th>3</th>\n",
       "      <td>AFG</td>\n",
       "      <td>2</td>\n",
       "      <td>Afghanistan</td>\n",
       "      <td>2513</td>\n",
       "      <td>Barley and products</td>\n",
       "      <td>5142</td>\n",
       "      <td>Food</td>\n",
       "      <td>1000 tonnes</td>\n",
       "      <td>33.94</td>\n",
       "      <td>67.71</td>\n",
       "      <td>...</td>\n",
       "      <td>185.0</td>\n",
       "      <td>43.0</td>\n",
       "      <td>44.0</td>\n",
       "      <td>48.0</td>\n",
       "      <td>62.0</td>\n",
       "      <td>55.0</td>\n",
       "      <td>60.0</td>\n",
       "      <td>72.0</td>\n",
       "      <td>78</td>\n",
       "      <td>89</td>\n",
       "    </tr>\n",
       "    <tr>\n",
       "      <th>4</th>\n",
       "      <td>AFG</td>\n",
       "      <td>2</td>\n",
       "      <td>Afghanistan</td>\n",
       "      <td>2514</td>\n",
       "      <td>Maize and products</td>\n",
       "      <td>5521</td>\n",
       "      <td>Feed</td>\n",
       "      <td>1000 tonnes</td>\n",
       "      <td>33.94</td>\n",
       "      <td>67.71</td>\n",
       "      <td>...</td>\n",
       "      <td>120.0</td>\n",
       "      <td>208.0</td>\n",
       "      <td>233.0</td>\n",
       "      <td>249.0</td>\n",
       "      <td>247.0</td>\n",
       "      <td>195.0</td>\n",
       "      <td>178.0</td>\n",
       "      <td>191.0</td>\n",
       "      <td>200</td>\n",
       "      <td>200</td>\n",
       "    </tr>\n",
       "  </tbody>\n",
       "</table>\n",
       "<p>5 rows × 63 columns</p>\n",
       "</div>"
      ],
      "text/plain": [
       "  Area Abbreviation  Area Code         Area  Item Code   \n",
       "0               AFG          2  Afghanistan       2511  \\\n",
       "1               AFG          2  Afghanistan       2805   \n",
       "2               AFG          2  Afghanistan       2513   \n",
       "3               AFG          2  Afghanistan       2513   \n",
       "4               AFG          2  Afghanistan       2514   \n",
       "\n",
       "                       Item  Element Code Element         Unit  latitude   \n",
       "0        Wheat and products          5142    Food  1000 tonnes     33.94  \\\n",
       "1  Rice (Milled Equivalent)          5142    Food  1000 tonnes     33.94   \n",
       "2       Barley and products          5521    Feed  1000 tonnes     33.94   \n",
       "3       Barley and products          5142    Food  1000 tonnes     33.94   \n",
       "4        Maize and products          5521    Feed  1000 tonnes     33.94   \n",
       "\n",
       "   longitude  ...   Y2004   Y2005   Y2006   Y2007   Y2008   Y2009   Y2010   \n",
       "0      67.71  ...  3249.0  3486.0  3704.0  4164.0  4252.0  4538.0  4605.0  \\\n",
       "1      67.71  ...   419.0   445.0   546.0   455.0   490.0   415.0   442.0   \n",
       "2      67.71  ...    58.0   236.0   262.0   263.0   230.0   379.0   315.0   \n",
       "3      67.71  ...   185.0    43.0    44.0    48.0    62.0    55.0    60.0   \n",
       "4      67.71  ...   120.0   208.0   233.0   249.0   247.0   195.0   178.0   \n",
       "\n",
       "    Y2011  Y2012  Y2013  \n",
       "0  4711.0   4810   4895  \n",
       "1   476.0    425    422  \n",
       "2   203.0    367    360  \n",
       "3    72.0     78     89  \n",
       "4   191.0    200    200  \n",
       "\n",
       "[5 rows x 63 columns]"
      ]
     },
     "execution_count": 2,
     "metadata": {},
     "output_type": "execute_result"
    }
   ],
   "source": [
    "df = pd.read_csv(\"FAO.csv\",  encoding = \"ISO-8859-1\")\n",
    "df.head()"
   ]
  },
  {
   "cell_type": "markdown",
   "metadata": {},
   "source": [
    "# DATA DESCRIPTION\n",
    "\n",
    "Each row of this dataset contains the amount (values represent 1000 tonnes) of Feed/Food produced by each country ( 'Area' ) from 1961 to 2013 for a particular Item. \n",
    "\n",
    "More metadata are included such as Area Abbreviation, Area/Item/Element Code, latitude, longitude, not used in this analysis. \n",
    "\n",
    "The dataset is reduced containg only columns: Area, Item, Element, Y1961-Y2013"
   ]
  },
  {
   "cell_type": "code",
   "execution_count": 3,
   "metadata": {
    "ExecuteTime": {
     "end_time": "2020-11-07T09:42:45.909498Z",
     "start_time": "2020-11-07T09:42:45.895490Z"
    }
   },
   "outputs": [
    {
     "data": {
      "text/plain": [
       "Area Abbreviation     object\n",
       "Area Code              int64\n",
       "Area                  object\n",
       "Item Code              int64\n",
       "Item                  object\n",
       "Element Code           int64\n",
       "Element               object\n",
       "Unit                  object\n",
       "latitude             float64\n",
       "longitude            float64\n",
       "Y1961                float64\n",
       "Y1962                float64\n",
       "Y1963                float64\n",
       "Y1964                float64\n",
       "Y1965                float64\n",
       "Y1966                float64\n",
       "Y1967                float64\n",
       "Y1968                float64\n",
       "Y1969                float64\n",
       "Y1970                float64\n",
       "dtype: object"
      ]
     },
     "execution_count": 3,
     "metadata": {},
     "output_type": "execute_result"
    }
   ],
   "source": [
    "df.dtypes[:20]"
   ]
  },
  {
   "cell_type": "markdown",
   "metadata": {},
   "source": [
    "### ADDITION OF POPULATION AND SURFACE DIMENSIONS\n",
    "\n",
    "In order to make analysis richer I've decided to add to this dataset information about the population and the surface area of each country. \n",
    "\n",
    "Data is taken again from FAO stats website, considering the year of 2013.  \n",
    "\n",
    "Population data is specify as Million of people.\n",
    "Surface area instead as 1000 acres.\n",
    "\n",
    "Datasets are merged with existing dataset considering 'Area' as key.\n"
   ]
  },
  {
   "cell_type": "code",
   "execution_count": 4,
   "metadata": {
    "ExecuteTime": {
     "end_time": "2020-11-07T09:42:46.125570Z",
     "start_time": "2020-11-07T09:42:45.925501Z"
    }
   },
   "outputs": [
    {
     "data": {
      "text/html": [
       "<div>\n",
       "<style scoped>\n",
       "    .dataframe tbody tr th:only-of-type {\n",
       "        vertical-align: middle;\n",
       "    }\n",
       "\n",
       "    .dataframe tbody tr th {\n",
       "        vertical-align: top;\n",
       "    }\n",
       "\n",
       "    .dataframe thead th {\n",
       "        text-align: right;\n",
       "    }\n",
       "</style>\n",
       "<table border=\"1\" class=\"dataframe\">\n",
       "  <thead>\n",
       "    <tr style=\"text-align: right;\">\n",
       "      <th></th>\n",
       "      <th>Area</th>\n",
       "      <th>Item</th>\n",
       "      <th>Element</th>\n",
       "      <th>Population</th>\n",
       "      <th>Surface</th>\n",
       "      <th>Y1961</th>\n",
       "      <th>Y1962</th>\n",
       "      <th>Y1963</th>\n",
       "      <th>Y1964</th>\n",
       "      <th>Y1965</th>\n",
       "      <th>...</th>\n",
       "      <th>Y2004</th>\n",
       "      <th>Y2005</th>\n",
       "      <th>Y2006</th>\n",
       "      <th>Y2007</th>\n",
       "      <th>Y2008</th>\n",
       "      <th>Y2009</th>\n",
       "      <th>Y2010</th>\n",
       "      <th>Y2011</th>\n",
       "      <th>Y2012</th>\n",
       "      <th>Y2013</th>\n",
       "    </tr>\n",
       "  </thead>\n",
       "  <tbody>\n",
       "    <tr>\n",
       "      <th>0</th>\n",
       "      <td>Afghanistan</td>\n",
       "      <td>Wheat and products</td>\n",
       "      <td>Food</td>\n",
       "      <td>35530.081</td>\n",
       "      <td>65286.0</td>\n",
       "      <td>1928.0</td>\n",
       "      <td>1904.0</td>\n",
       "      <td>1666.0</td>\n",
       "      <td>1950.0</td>\n",
       "      <td>2001.0</td>\n",
       "      <td>...</td>\n",
       "      <td>3249.0</td>\n",
       "      <td>3486.0</td>\n",
       "      <td>3704.0</td>\n",
       "      <td>4164.0</td>\n",
       "      <td>4252.0</td>\n",
       "      <td>4538.0</td>\n",
       "      <td>4605.0</td>\n",
       "      <td>4711.0</td>\n",
       "      <td>4810</td>\n",
       "      <td>4895</td>\n",
       "    </tr>\n",
       "    <tr>\n",
       "      <th>1</th>\n",
       "      <td>Afghanistan</td>\n",
       "      <td>Rice (Milled Equivalent)</td>\n",
       "      <td>Food</td>\n",
       "      <td>35530.081</td>\n",
       "      <td>65286.0</td>\n",
       "      <td>183.0</td>\n",
       "      <td>183.0</td>\n",
       "      <td>182.0</td>\n",
       "      <td>220.0</td>\n",
       "      <td>220.0</td>\n",
       "      <td>...</td>\n",
       "      <td>419.0</td>\n",
       "      <td>445.0</td>\n",
       "      <td>546.0</td>\n",
       "      <td>455.0</td>\n",
       "      <td>490.0</td>\n",
       "      <td>415.0</td>\n",
       "      <td>442.0</td>\n",
       "      <td>476.0</td>\n",
       "      <td>425</td>\n",
       "      <td>422</td>\n",
       "    </tr>\n",
       "    <tr>\n",
       "      <th>2</th>\n",
       "      <td>Afghanistan</td>\n",
       "      <td>Barley and products</td>\n",
       "      <td>Feed</td>\n",
       "      <td>35530.081</td>\n",
       "      <td>65286.0</td>\n",
       "      <td>76.0</td>\n",
       "      <td>76.0</td>\n",
       "      <td>76.0</td>\n",
       "      <td>76.0</td>\n",
       "      <td>76.0</td>\n",
       "      <td>...</td>\n",
       "      <td>58.0</td>\n",
       "      <td>236.0</td>\n",
       "      <td>262.0</td>\n",
       "      <td>263.0</td>\n",
       "      <td>230.0</td>\n",
       "      <td>379.0</td>\n",
       "      <td>315.0</td>\n",
       "      <td>203.0</td>\n",
       "      <td>367</td>\n",
       "      <td>360</td>\n",
       "    </tr>\n",
       "    <tr>\n",
       "      <th>3</th>\n",
       "      <td>Afghanistan</td>\n",
       "      <td>Barley and products</td>\n",
       "      <td>Food</td>\n",
       "      <td>35530.081</td>\n",
       "      <td>65286.0</td>\n",
       "      <td>237.0</td>\n",
       "      <td>237.0</td>\n",
       "      <td>237.0</td>\n",
       "      <td>238.0</td>\n",
       "      <td>238.0</td>\n",
       "      <td>...</td>\n",
       "      <td>185.0</td>\n",
       "      <td>43.0</td>\n",
       "      <td>44.0</td>\n",
       "      <td>48.0</td>\n",
       "      <td>62.0</td>\n",
       "      <td>55.0</td>\n",
       "      <td>60.0</td>\n",
       "      <td>72.0</td>\n",
       "      <td>78</td>\n",
       "      <td>89</td>\n",
       "    </tr>\n",
       "    <tr>\n",
       "      <th>4</th>\n",
       "      <td>Afghanistan</td>\n",
       "      <td>Maize and products</td>\n",
       "      <td>Feed</td>\n",
       "      <td>35530.081</td>\n",
       "      <td>65286.0</td>\n",
       "      <td>210.0</td>\n",
       "      <td>210.0</td>\n",
       "      <td>214.0</td>\n",
       "      <td>216.0</td>\n",
       "      <td>216.0</td>\n",
       "      <td>...</td>\n",
       "      <td>120.0</td>\n",
       "      <td>208.0</td>\n",
       "      <td>233.0</td>\n",
       "      <td>249.0</td>\n",
       "      <td>247.0</td>\n",
       "      <td>195.0</td>\n",
       "      <td>178.0</td>\n",
       "      <td>191.0</td>\n",
       "      <td>200</td>\n",
       "      <td>200</td>\n",
       "    </tr>\n",
       "  </tbody>\n",
       "</table>\n",
       "<p>5 rows × 58 columns</p>\n",
       "</div>"
      ],
      "text/plain": [
       "          Area                      Item Element  Population  Surface   Y1961   \n",
       "0  Afghanistan        Wheat and products    Food   35530.081  65286.0  1928.0  \\\n",
       "1  Afghanistan  Rice (Milled Equivalent)    Food   35530.081  65286.0   183.0   \n",
       "2  Afghanistan       Barley and products    Feed   35530.081  65286.0    76.0   \n",
       "3  Afghanistan       Barley and products    Food   35530.081  65286.0   237.0   \n",
       "4  Afghanistan        Maize and products    Feed   35530.081  65286.0   210.0   \n",
       "\n",
       "    Y1962   Y1963   Y1964   Y1965  ...   Y2004   Y2005   Y2006   Y2007   \n",
       "0  1904.0  1666.0  1950.0  2001.0  ...  3249.0  3486.0  3704.0  4164.0  \\\n",
       "1   183.0   182.0   220.0   220.0  ...   419.0   445.0   546.0   455.0   \n",
       "2    76.0    76.0    76.0    76.0  ...    58.0   236.0   262.0   263.0   \n",
       "3   237.0   237.0   238.0   238.0  ...   185.0    43.0    44.0    48.0   \n",
       "4   210.0   214.0   216.0   216.0  ...   120.0   208.0   233.0   249.0   \n",
       "\n",
       "    Y2008   Y2009   Y2010   Y2011  Y2012  Y2013  \n",
       "0  4252.0  4538.0  4605.0  4711.0   4810   4895  \n",
       "1   490.0   415.0   442.0   476.0    425    422  \n",
       "2   230.0   379.0   315.0   203.0    367    360  \n",
       "3    62.0    55.0    60.0    72.0     78     89  \n",
       "4   247.0   195.0   178.0   191.0    200    200  \n",
       "\n",
       "[5 rows x 58 columns]"
      ]
     },
     "execution_count": 4,
     "metadata": {},
     "output_type": "execute_result"
    }
   ],
   "source": [
    "#In order to not have problems of consistency:\n",
    "df['Area'].replace(['Swaziland'], 'Eswatini', inplace=True)\n",
    "df['Area'].replace(['The former Yugoslav Republic of Macedonia'], 'North Macedonia', inplace=True)\n",
    "\n",
    "#GET NEW DATA\n",
    "df_pop = pd.read_csv(\"FAOSTAT.csv\")\n",
    "df_area = pd.read_csv(\"countries.csv\")\n",
    "df_pop = pd.DataFrame({'Area': df_pop['Area'] , 'Population': df_pop['Value'] })\n",
    "df_area = pd.DataFrame({'Area' : df_area['Area'], 'Surface': df_area['Value']})\n",
    "#add missing line\n",
    "##df_area = df_area.append({'Area' : 'Sudan' , 'Surface' : 1886} , ignore_index=True)\n",
    "\n",
    "#MERGE OF TABLES\n",
    "d1 = pd.DataFrame(df.loc[:, ['Area', 'Item', 'Element']])\n",
    "data = pd.merge(d1, df_pop, on='Area', how='left')\n",
    "new_data = pd.merge(data, df_area, on='Area', how='left')\n",
    "\n",
    "d2 = df.loc[:, 'Y1961':'Y2013']\n",
    "data = new_data.join(d2)\n",
    "data.head()"
   ]
  },
  {
   "cell_type": "code",
   "execution_count": 5,
   "metadata": {
    "ExecuteTime": {
     "end_time": "2020-11-07T09:42:46.142405Z",
     "start_time": "2020-11-07T09:42:46.129570Z"
    }
   },
   "outputs": [
    {
     "name": "stdout",
     "output_type": "stream",
     "text": [
      "Number of different Countries:  174\n",
      "Number of different Items:  115\n"
     ]
    }
   ],
   "source": [
    "print('Number of different Countries: ' , df['Area'].unique().size)\n",
    "print('Number of different Items: ' , df['Item'].unique().size)"
   ]
  },
  {
   "cell_type": "markdown",
   "metadata": {},
   "source": [
    "# DATA CLEANING\n",
    "\n",
    "Datasets of this kind mostly of the time contains missing values, represented by NaN. \n",
    "\n",
    "Let's see if there are some missing values on this dataset. Each yellow line represent some missing values, is possible to understand that there are a lot of them, the biggest part are before 1991. \n",
    "This is because in those period (end of cold war) a lot of new countries were born. \n",
    "\n",
    "According to this constraint different ways of proceeding may be taken into consideration, \n",
    "**one is to compute analysis only from 1993 where there are a less amount of missing values and computing analisys only for the last 2 decade 1993-2013.**\n",
    "\n",
    "\n",
    "The other way is to considering all the years removing from analysis the missing rows and so the missing countries.\n",
    "There is even the possibility to substitute NaN with 0\n",
    "\n",
    "\n",
    "I decide to substitute missing values with 0 in order to make ranking and then considering only the last 20 years for the clustering analysis, due to a less amount of missing values limiting this constraint.\n",
    "\n",
    "Let's visualize bettere those missing values."
   ]
  },
  {
   "cell_type": "code",
   "execution_count": 6,
   "metadata": {
    "ExecuteTime": {
     "end_time": "2020-11-07T09:42:48.540482Z",
     "start_time": "2020-11-07T09:42:46.216414Z"
    }
   },
   "outputs": [
    {
     "data": {
      "image/png": "[encoded data removed]",
      "text/plain": [
       "<Figure size 640x480 with 1 Axes>"
      ]
     },
     "metadata": {},
     "output_type": "display_data"
    }
   ],
   "source": [
    "#Graph of missing values\n",
    "sns.heatmap(data.isnull(),cbar=False,cmap='YlGnBu')   \n",
    "plt.show()"
   ]
  },
  {
   "cell_type": "markdown",
   "metadata": {},
   "source": [
    "From this graph is possible to visualize missing values represented by blue lines, only the last two years doesn't contains missing values."
   ]
  },
  {
   "cell_type": "code",
   "execution_count": 7,
   "metadata": {
    "ExecuteTime": {
     "end_time": "2020-11-07T09:42:48.582494Z",
     "start_time": "2020-11-07T09:42:48.545489Z"
    }
   },
   "outputs": [
    {
     "name": "stdout",
     "output_type": "stream",
     "text": [
      "YEAR  MISSING VALUES\n",
      "(21477, 63)\n",
      "Y1961    3539\n",
      "Y1962    3539\n",
      "Y1963    3539\n",
      "Y1964    3539\n",
      "Y1965    3539\n",
      "Y1966    3539\n",
      "Y1967    3539\n",
      "Y1968    3539\n",
      "Y1969    3539\n",
      "Y1970    3539\n",
      "Y1971    3539\n",
      "Y1972    3539\n",
      "Y1973    3539\n",
      "Y1974    3539\n",
      "Y1975    3539\n",
      "Y1976    3539\n",
      "Y1977    3539\n",
      "Y1978    3539\n",
      "Y1979    3539\n",
      "Y1980    3539\n",
      "Y1981    3539\n",
      "Y1982    3539\n",
      "Y1983    3539\n",
      "Y1984    3539\n",
      "Y1985    3539\n",
      "Y1986    3539\n",
      "Y1987    3539\n",
      "Y1988    3539\n",
      "Y1989    3539\n",
      "Y1990    3415\n",
      "Y1991    3415\n",
      "Y1992     987\n",
      "Y1993     612\n",
      "Y1994     612\n",
      "Y1995     612\n",
      "Y1996     612\n",
      "Y1997     612\n",
      "Y1998     612\n",
      "Y1999     612\n",
      "Y2000     349\n",
      "Y2001     349\n",
      "Y2002     349\n",
      "Y2003     349\n",
      "Y2004     349\n",
      "Y2005     349\n",
      "Y2006     104\n",
      "Y2007     104\n",
      "Y2008     104\n",
      "Y2009     104\n",
      "Y2010     104\n",
      "Y2011     104\n",
      "Y2012       0\n",
      "Y2013       0\n",
      "dtype: int64\n"
     ]
    }
   ],
   "source": [
    "# Total number of missing values per year\n",
    "print('YEAR  MISSING VALUES')\n",
    "print(df.shape)\n",
    "print (df.loc[:, 'Y1961':'Y2013'].isnull().sum())"
   ]
  },
  {
   "cell_type": "code",
   "execution_count": 8,
   "metadata": {
    "ExecuteTime": {
     "end_time": "2020-11-07T09:42:48.647496Z",
     "start_time": "2020-11-07T09:42:48.587489Z"
    }
   },
   "outputs": [
    {
     "data": {
      "text/html": [
       "<div>\n",
       "<style scoped>\n",
       "    .dataframe tbody tr th:only-of-type {\n",
       "        vertical-align: middle;\n",
       "    }\n",
       "\n",
       "    .dataframe tbody tr th {\n",
       "        vertical-align: top;\n",
       "    }\n",
       "\n",
       "    .dataframe thead th {\n",
       "        text-align: right;\n",
       "    }\n",
       "</style>\n",
       "<table border=\"1\" class=\"dataframe\">\n",
       "  <thead>\n",
       "    <tr style=\"text-align: right;\">\n",
       "      <th></th>\n",
       "      <th>Area</th>\n",
       "      <th>Item</th>\n",
       "      <th>Element</th>\n",
       "      <th>Population</th>\n",
       "      <th>Surface</th>\n",
       "      <th>Y1961</th>\n",
       "      <th>Y1962</th>\n",
       "      <th>Y1963</th>\n",
       "      <th>Y1964</th>\n",
       "      <th>Y1965</th>\n",
       "      <th>...</th>\n",
       "      <th>Y2004</th>\n",
       "      <th>Y2005</th>\n",
       "      <th>Y2006</th>\n",
       "      <th>Y2007</th>\n",
       "      <th>Y2008</th>\n",
       "      <th>Y2009</th>\n",
       "      <th>Y2010</th>\n",
       "      <th>Y2011</th>\n",
       "      <th>Y2012</th>\n",
       "      <th>Y2013</th>\n",
       "    </tr>\n",
       "  </thead>\n",
       "  <tbody>\n",
       "    <tr>\n",
       "      <th>679</th>\n",
       "      <td>Armenia</td>\n",
       "      <td>Wheat and products</td>\n",
       "      <td>Feed</td>\n",
       "      <td>2930.45</td>\n",
       "      <td>2847.0</td>\n",
       "      <td>NaN</td>\n",
       "      <td>NaN</td>\n",
       "      <td>NaN</td>\n",
       "      <td>NaN</td>\n",
       "      <td>NaN</td>\n",
       "      <td>...</td>\n",
       "      <td>69.0</td>\n",
       "      <td>59.0</td>\n",
       "      <td>46.0</td>\n",
       "      <td>67.0</td>\n",
       "      <td>57.0</td>\n",
       "      <td>56.0</td>\n",
       "      <td>61.0</td>\n",
       "      <td>65.0</td>\n",
       "      <td>92</td>\n",
       "      <td>93</td>\n",
       "    </tr>\n",
       "    <tr>\n",
       "      <th>680</th>\n",
       "      <td>Armenia</td>\n",
       "      <td>Wheat and products</td>\n",
       "      <td>Food</td>\n",
       "      <td>2930.45</td>\n",
       "      <td>2847.0</td>\n",
       "      <td>NaN</td>\n",
       "      <td>NaN</td>\n",
       "      <td>NaN</td>\n",
       "      <td>NaN</td>\n",
       "      <td>NaN</td>\n",
       "      <td>...</td>\n",
       "      <td>490.0</td>\n",
       "      <td>433.0</td>\n",
       "      <td>445.0</td>\n",
       "      <td>412.0</td>\n",
       "      <td>428.0</td>\n",
       "      <td>391.0</td>\n",
       "      <td>372.0</td>\n",
       "      <td>386.0</td>\n",
       "      <td>377</td>\n",
       "      <td>389</td>\n",
       "    </tr>\n",
       "    <tr>\n",
       "      <th>681</th>\n",
       "      <td>Armenia</td>\n",
       "      <td>Rice (Milled Equivalent)</td>\n",
       "      <td>Feed</td>\n",
       "      <td>2930.45</td>\n",
       "      <td>2847.0</td>\n",
       "      <td>NaN</td>\n",
       "      <td>NaN</td>\n",
       "      <td>NaN</td>\n",
       "      <td>NaN</td>\n",
       "      <td>NaN</td>\n",
       "      <td>...</td>\n",
       "      <td>0.0</td>\n",
       "      <td>0.0</td>\n",
       "      <td>0.0</td>\n",
       "      <td>0.0</td>\n",
       "      <td>0.0</td>\n",
       "      <td>0.0</td>\n",
       "      <td>0.0</td>\n",
       "      <td>0.0</td>\n",
       "      <td>0</td>\n",
       "      <td>0</td>\n",
       "    </tr>\n",
       "    <tr>\n",
       "      <th>682</th>\n",
       "      <td>Armenia</td>\n",
       "      <td>Rice (Milled Equivalent)</td>\n",
       "      <td>Food</td>\n",
       "      <td>2930.45</td>\n",
       "      <td>2847.0</td>\n",
       "      <td>NaN</td>\n",
       "      <td>NaN</td>\n",
       "      <td>NaN</td>\n",
       "      <td>NaN</td>\n",
       "      <td>NaN</td>\n",
       "      <td>...</td>\n",
       "      <td>11.0</td>\n",
       "      <td>14.0</td>\n",
       "      <td>17.0</td>\n",
       "      <td>15.0</td>\n",
       "      <td>13.0</td>\n",
       "      <td>13.0</td>\n",
       "      <td>11.0</td>\n",
       "      <td>9.0</td>\n",
       "      <td>9</td>\n",
       "      <td>9</td>\n",
       "    </tr>\n",
       "    <tr>\n",
       "      <th>683</th>\n",
       "      <td>Armenia</td>\n",
       "      <td>Barley and products</td>\n",
       "      <td>Feed</td>\n",
       "      <td>2930.45</td>\n",
       "      <td>2847.0</td>\n",
       "      <td>NaN</td>\n",
       "      <td>NaN</td>\n",
       "      <td>NaN</td>\n",
       "      <td>NaN</td>\n",
       "      <td>NaN</td>\n",
       "      <td>...</td>\n",
       "      <td>68.0</td>\n",
       "      <td>57.0</td>\n",
       "      <td>33.0</td>\n",
       "      <td>86.0</td>\n",
       "      <td>76.0</td>\n",
       "      <td>102.0</td>\n",
       "      <td>86.0</td>\n",
       "      <td>124.0</td>\n",
       "      <td>121</td>\n",
       "      <td>137</td>\n",
       "    </tr>\n",
       "  </tbody>\n",
       "</table>\n",
       "<p>5 rows × 58 columns</p>\n",
       "</div>"
      ],
      "text/plain": [
       "        Area                      Item Element  Population  Surface  Y1961   \n",
       "679  Armenia        Wheat and products    Feed     2930.45   2847.0    NaN  \\\n",
       "680  Armenia        Wheat and products    Food     2930.45   2847.0    NaN   \n",
       "681  Armenia  Rice (Milled Equivalent)    Feed     2930.45   2847.0    NaN   \n",
       "682  Armenia  Rice (Milled Equivalent)    Food     2930.45   2847.0    NaN   \n",
       "683  Armenia       Barley and products    Feed     2930.45   2847.0    NaN   \n",
       "\n",
       "     Y1962  Y1963  Y1964  Y1965  ...  Y2004  Y2005  Y2006  Y2007  Y2008   \n",
       "679    NaN    NaN    NaN    NaN  ...   69.0   59.0   46.0   67.0   57.0  \\\n",
       "680    NaN    NaN    NaN    NaN  ...  490.0  433.0  445.0  412.0  428.0   \n",
       "681    NaN    NaN    NaN    NaN  ...    0.0    0.0    0.0    0.0    0.0   \n",
       "682    NaN    NaN    NaN    NaN  ...   11.0   14.0   17.0   15.0   13.0   \n",
       "683    NaN    NaN    NaN    NaN  ...   68.0   57.0   33.0   86.0   76.0   \n",
       "\n",
       "     Y2009  Y2010  Y2011  Y2012  Y2013  \n",
       "679   56.0   61.0   65.0     92     93  \n",
       "680  391.0  372.0  386.0    377    389  \n",
       "681    0.0    0.0    0.0      0      0  \n",
       "682   13.0   11.0    9.0      9      9  \n",
       "683  102.0   86.0  124.0    121    137  \n",
       "\n",
       "[5 rows x 58 columns]"
      ]
     },
     "execution_count": 8,
     "metadata": {},
     "output_type": "execute_result"
    }
   ],
   "source": [
    "df1 = data[data.isna().any(axis=1)]\n",
    "df1.head()"
   ]
  },
  {
   "cell_type": "code",
   "execution_count": 9,
   "metadata": {
    "ExecuteTime": {
     "end_time": "2020-11-07T09:42:48.698508Z",
     "start_time": "2020-11-07T09:42:48.652496Z"
    }
   },
   "outputs": [
    {
     "data": {
      "text/plain": [
       "Area\n",
       "Turkmenistan               90\n",
       "Tajikistan                102\n",
       "Sudan                     104\n",
       "Ethiopia                  116\n",
       "Montenegro                118\n",
       "Uzbekistan                123\n",
       "Bosnia and Herzegovina    124\n",
       "Oman                      124\n",
       "Kyrgyzstan                124\n",
       "Azerbaijan                124\n",
       "Serbia                    127\n",
       "Luxembourg                127\n",
       "Czechia                   129\n",
       "Croatia                   129\n",
       "Slovakia                  130\n",
       "North Macedonia           130\n",
       "Republic of Moldova       130\n",
       "Belarus                   131\n",
       "Slovenia                  132\n",
       "Armenia                   133\n",
       "Georgia                   133\n",
       "Ukraine                   134\n",
       "Estonia                   135\n",
       "Latvia                    136\n",
       "Belgium                   136\n",
       "Russian Federation        137\n",
       "Lithuania                 140\n",
       "Kazakhstan                141\n",
       "dtype: int64"
      ]
     },
     "execution_count": 9,
     "metadata": {},
     "output_type": "execute_result"
    }
   ],
   "source": [
    "#Total number of missing values for Area\n",
    "values_per_area = data.pivot_table(index=['Area'], aggfunc='size')\n",
    "df1 = data[data.isna().any(axis=1)]\n",
    "df_missing_area = df1.pivot_table(index=['Area'], aggfunc='size')\n",
    "df_missing_area.sort_values()"
   ]
  },
  {
   "cell_type": "markdown",
   "metadata": {},
   "source": [
    "Countries shown in the list above represent the one for which there are missing values. \n",
    "\n",
    "The biggest part are countries born after the dissolve of Jugoslavia and URSS"
   ]
  },
  {
   "cell_type": "markdown",
   "metadata": {},
   "source": [
    "# RANKING\n",
    "\n"
   ]
  },
  {
   "cell_type": "code",
   "execution_count": 10,
   "metadata": {
    "ExecuteTime": {
     "end_time": "2020-11-07T09:42:48.832545Z",
     "start_time": "2020-11-07T09:42:48.702513Z"
    }
   },
   "outputs": [
    {
     "data": {
      "text/html": [
       "<div>\n",
       "<style scoped>\n",
       "    .dataframe tbody tr th:only-of-type {\n",
       "        vertical-align: middle;\n",
       "    }\n",
       "\n",
       "    .dataframe tbody tr th {\n",
       "        vertical-align: top;\n",
       "    }\n",
       "\n",
       "    .dataframe thead th {\n",
       "        text-align: right;\n",
       "    }\n",
       "</style>\n",
       "<table border=\"1\" class=\"dataframe\">\n",
       "  <thead>\n",
       "    <tr style=\"text-align: right;\">\n",
       "      <th></th>\n",
       "      <th>Area</th>\n",
       "      <th>Afghanistan</th>\n",
       "      <th>Albania</th>\n",
       "      <th>Algeria</th>\n",
       "      <th>Angola</th>\n",
       "      <th>Antigua and Barbuda</th>\n",
       "      <th>Argentina</th>\n",
       "      <th>Armenia</th>\n",
       "      <th>Australia</th>\n",
       "      <th>Austria</th>\n",
       "      <th>Azerbaijan</th>\n",
       "      <th>...</th>\n",
       "      <th>United Republic of Tanzania</th>\n",
       "      <th>United States of America</th>\n",
       "      <th>Uruguay</th>\n",
       "      <th>Uzbekistan</th>\n",
       "      <th>Vanuatu</th>\n",
       "      <th>Venezuela (Bolivarian Republic of)</th>\n",
       "      <th>Viet Nam</th>\n",
       "      <th>Yemen</th>\n",
       "      <th>Zambia</th>\n",
       "      <th>Zimbabwe</th>\n",
       "    </tr>\n",
       "    <tr>\n",
       "      <th></th>\n",
       "      <th>Element</th>\n",
       "      <th></th>\n",
       "      <th></th>\n",
       "      <th></th>\n",
       "      <th></th>\n",
       "      <th></th>\n",
       "      <th></th>\n",
       "      <th></th>\n",
       "      <th></th>\n",
       "      <th></th>\n",
       "      <th></th>\n",
       "      <th></th>\n",
       "      <th></th>\n",
       "      <th></th>\n",
       "      <th></th>\n",
       "      <th></th>\n",
       "      <th></th>\n",
       "      <th></th>\n",
       "      <th></th>\n",
       "      <th></th>\n",
       "      <th></th>\n",
       "      <th></th>\n",
       "    </tr>\n",
       "  </thead>\n",
       "  <tbody>\n",
       "    <tr>\n",
       "      <th rowspan=\"2\" valign=\"top\">Y1961</th>\n",
       "      <th>Feed</th>\n",
       "      <td>720.0</td>\n",
       "      <td>94.0</td>\n",
       "      <td>83.0</td>\n",
       "      <td>118.0</td>\n",
       "      <td>2.0</td>\n",
       "      <td>9552.0</td>\n",
       "      <td>0.0</td>\n",
       "      <td>7813.0</td>\n",
       "      <td>9539.0</td>\n",
       "      <td>0.0</td>\n",
       "      <td>...</td>\n",
       "      <td>134.0</td>\n",
       "      <td>234413.0</td>\n",
       "      <td>975.0</td>\n",
       "      <td>0.0</td>\n",
       "      <td>4.0</td>\n",
       "      <td>360.0</td>\n",
       "      <td>2104.0</td>\n",
       "      <td>167.0</td>\n",
       "      <td>90.0</td>\n",
       "      <td>180.0</td>\n",
       "    </tr>\n",
       "    <tr>\n",
       "      <th>Food</th>\n",
       "      <td>8761.0</td>\n",
       "      <td>1612.0</td>\n",
       "      <td>7405.0</td>\n",
       "      <td>4716.0</td>\n",
       "      <td>90.0</td>\n",
       "      <td>33850.0</td>\n",
       "      <td>0.0</td>\n",
       "      <td>17982.0</td>\n",
       "      <td>13003.0</td>\n",
       "      <td>0.0</td>\n",
       "      <td>...</td>\n",
       "      <td>12233.0</td>\n",
       "      <td>324934.0</td>\n",
       "      <td>3656.0</td>\n",
       "      <td>0.0</td>\n",
       "      <td>93.0</td>\n",
       "      <td>9163.0</td>\n",
       "      <td>21752.0</td>\n",
       "      <td>2815.0</td>\n",
       "      <td>2886.0</td>\n",
       "      <td>3080.0</td>\n",
       "    </tr>\n",
       "    <tr>\n",
       "      <th rowspan=\"2\" valign=\"top\">Y1962</th>\n",
       "      <th>Feed</th>\n",
       "      <td>720.0</td>\n",
       "      <td>108.0</td>\n",
       "      <td>94.0</td>\n",
       "      <td>118.0</td>\n",
       "      <td>2.0</td>\n",
       "      <td>7553.0</td>\n",
       "      <td>0.0</td>\n",
       "      <td>8982.0</td>\n",
       "      <td>9807.0</td>\n",
       "      <td>0.0</td>\n",
       "      <td>...</td>\n",
       "      <td>138.0</td>\n",
       "      <td>228541.0</td>\n",
       "      <td>970.0</td>\n",
       "      <td>0.0</td>\n",
       "      <td>6.0</td>\n",
       "      <td>291.0</td>\n",
       "      <td>2512.0</td>\n",
       "      <td>168.0</td>\n",
       "      <td>90.0</td>\n",
       "      <td>216.0</td>\n",
       "    </tr>\n",
       "    <tr>\n",
       "      <th>Food</th>\n",
       "      <td>8694.0</td>\n",
       "      <td>1641.0</td>\n",
       "      <td>7141.0</td>\n",
       "      <td>4657.0</td>\n",
       "      <td>92.0</td>\n",
       "      <td>33231.0</td>\n",
       "      <td>0.0</td>\n",
       "      <td>18636.0</td>\n",
       "      <td>12820.0</td>\n",
       "      <td>0.0</td>\n",
       "      <td>...</td>\n",
       "      <td>12672.0</td>\n",
       "      <td>327778.0</td>\n",
       "      <td>3478.0</td>\n",
       "      <td>0.0</td>\n",
       "      <td>95.0</td>\n",
       "      <td>9078.0</td>\n",
       "      <td>22708.0</td>\n",
       "      <td>2870.0</td>\n",
       "      <td>2967.0</td>\n",
       "      <td>3287.0</td>\n",
       "    </tr>\n",
       "    <tr>\n",
       "      <th>Y1963</th>\n",
       "      <th>Feed</th>\n",
       "      <td>736.0</td>\n",
       "      <td>124.0</td>\n",
       "      <td>63.0</td>\n",
       "      <td>116.0</td>\n",
       "      <td>2.0</td>\n",
       "      <td>6527.0</td>\n",
       "      <td>0.0</td>\n",
       "      <td>9556.0</td>\n",
       "      <td>10229.0</td>\n",
       "      <td>0.0</td>\n",
       "      <td>...</td>\n",
       "      <td>163.0</td>\n",
       "      <td>223570.0</td>\n",
       "      <td>1004.0</td>\n",
       "      <td>0.0</td>\n",
       "      <td>6.0</td>\n",
       "      <td>321.0</td>\n",
       "      <td>2614.0</td>\n",
       "      <td>172.0</td>\n",
       "      <td>70.0</td>\n",
       "      <td>190.0</td>\n",
       "    </tr>\n",
       "  </tbody>\n",
       "</table>\n",
       "<p>5 rows × 174 columns</p>\n",
       "</div>"
      ],
      "text/plain": [
       "Area           Afghanistan  Albania  Algeria  Angola  Antigua and Barbuda   \n",
       "      Element                                                               \n",
       "Y1961 Feed           720.0     94.0     83.0   118.0                  2.0  \\\n",
       "      Food          8761.0   1612.0   7405.0  4716.0                 90.0   \n",
       "Y1962 Feed           720.0    108.0     94.0   118.0                  2.0   \n",
       "      Food          8694.0   1641.0   7141.0  4657.0                 92.0   \n",
       "Y1963 Feed           736.0    124.0     63.0   116.0                  2.0   \n",
       "\n",
       "Area           Argentina  Armenia  Australia  Austria  Azerbaijan  ...   \n",
       "      Element                                                      ...   \n",
       "Y1961 Feed        9552.0      0.0     7813.0   9539.0         0.0  ...  \\\n",
       "      Food       33850.0      0.0    17982.0  13003.0         0.0  ...   \n",
       "Y1962 Feed        7553.0      0.0     8982.0   9807.0         0.0  ...   \n",
       "      Food       33231.0      0.0    18636.0  12820.0         0.0  ...   \n",
       "Y1963 Feed        6527.0      0.0     9556.0  10229.0         0.0  ...   \n",
       "\n",
       "Area           United Republic of Tanzania  United States of America  Uruguay   \n",
       "      Element                                                                   \n",
       "Y1961 Feed                           134.0                  234413.0    975.0  \\\n",
       "      Food                         12233.0                  324934.0   3656.0   \n",
       "Y1962 Feed                           138.0                  228541.0    970.0   \n",
       "      Food                         12672.0                  327778.0   3478.0   \n",
       "Y1963 Feed                           163.0                  223570.0   1004.0   \n",
       "\n",
       "Area           Uzbekistan  Vanuatu  Venezuela (Bolivarian Republic of)   \n",
       "      Element                                                            \n",
       "Y1961 Feed            0.0      4.0                               360.0  \\\n",
       "      Food            0.0     93.0                              9163.0   \n",
       "Y1962 Feed            0.0      6.0                               291.0   \n",
       "      Food            0.0     95.0                              9078.0   \n",
       "Y1963 Feed            0.0      6.0                               321.0   \n",
       "\n",
       "Area           Viet Nam   Yemen  Zambia  Zimbabwe  \n",
       "      Element                                      \n",
       "Y1961 Feed       2104.0   167.0    90.0     180.0  \n",
       "      Food      21752.0  2815.0  2886.0    3080.0  \n",
       "Y1962 Feed       2512.0   168.0    90.0     216.0  \n",
       "      Food      22708.0  2870.0  2967.0    3287.0  \n",
       "Y1963 Feed       2614.0   172.0    70.0     190.0  \n",
       "\n",
       "[5 rows x 174 columns]"
      ]
     },
     "execution_count": 10,
     "metadata": {},
     "output_type": "execute_result"
    }
   ],
   "source": [
    "year_list = list(df.iloc[:,10:].columns)\n",
    "df_new = df.pivot_table(values=year_list,columns = 'Element', index=['Area'], aggfunc='sum') #for each country sum over years separatly Food&Feed\n",
    "df_fao = df_new.T\n",
    "df_fao.head()"
   ]
  },
  {
   "cell_type": "markdown",
   "metadata": {},
   "source": [
    "## RANK FOR FOOD AND FEED"
   ]
  },
  {
   "cell_type": "code",
   "execution_count": 11,
   "metadata": {
    "ExecuteTime": {
     "end_time": "2020-11-07T09:42:49.114563Z",
     "start_time": "2020-11-07T09:42:48.836527Z"
    }
   },
   "outputs": [
    {
     "data": {
      "text/plain": [
       "<Axes: title={'center': 'Top 5 Food & Feed producer'}, xlabel='Area'>"
      ]
     },
     "execution_count": 11,
     "metadata": {},
     "output_type": "execute_result"
    },
    {
     "data": {
      "image/png": "[encoded data removed]",
      "text/plain": [
       "<Figure size 640x480 with 1 Axes>"
      ]
     },
     "metadata": {},
     "output_type": "display_data"
    }
   ],
   "source": [
    "# Finding the Top 5 producer of Feed and Food from 1961 to 2013\n",
    "df_fao_tot = df_fao.sum(axis=0).sort_values(ascending=False).head()\n",
    "df_fao_tot.plot(kind='bar', title='Top 5 Food & Feed producer', color='black')"
   ]
  },
  {
   "cell_type": "markdown",
   "metadata": {},
   "source": [
    "#### COMMENT: \n",
    "It not surprisingly appeared as China is the country with the biggest amount of Food and Feed production, it is the most populous country in the world and also one of the biggest, with over 1 billion people to feed, there are a lot of food to produce. China is followed by USA and India respectively 3rd and 2nd most populous countries. \n",
    "It is logical to think that this rank isn't affected only by the amount of population of a country, but also by GDP, total cultivable area, and geographical position."
   ]
  },
  {
   "cell_type": "markdown",
   "metadata": {},
   "source": [
    "## RANK FOR JUST FOOD OR FEED"
   ]
  },
  {
   "cell_type": "code",
   "execution_count": 12,
   "metadata": {
    "ExecuteTime": {
     "end_time": "2020-11-07T09:42:49.665154Z",
     "start_time": "2020-11-07T09:42:49.119549Z"
    }
   },
   "outputs": [
    {
     "data": {
      "text/plain": [
       "<Axes: title={'center': 'Top 5 Feed producer'}, xlabel='Area'>"
      ]
     },
     "execution_count": 12,
     "metadata": {},
     "output_type": "execute_result"
    },
    {
     "data": {
      "image/png": "[encoded data removed]",
      "text/plain": [
       "<Figure size 640x480 with 2 Axes>"
      ]
     },
     "metadata": {},
     "output_type": "display_data"
    }
   ],
   "source": [
    "#Producer of just Food\n",
    "df_food = df_fao.xs('Food', level=1, axis=0)\n",
    "df_food_tot = df_food.sum(axis=0).sort_values(ascending=False).head()\n",
    "#Producer of just Feed\n",
    "df_feed = df_fao.xs('Feed', level=1, axis=0)\n",
    "df_feed = df_feed.sum(axis=0).sort_values(ascending=False).head()\n",
    "\n",
    "#Plot\n",
    "f, (ax1, ax2) = plt.subplots(1, 2, sharey=True)\n",
    "df_food_tot.plot(kind='bar', title='Top 5 Food producer', color='black', ax=ax1)\n",
    "df_feed.plot(kind='bar', title='Top 5 Feed producer', color='black', ax=ax2 )"
   ]
  },
  {
   "cell_type": "markdown",
   "metadata": {},
   "source": [
    "#### COMMENT:\n",
    "The graph on the left contains only countries producer of Food for humans, is the same as before and this means that Feed production is irrelevant on the total amount. The right graph instead contains only Feed for animals, here is disappeared **India**, probably because the biggest part of Feed is intended for cattle (cows) and those animals are considered sacred there."
   ]
  },
  {
   "cell_type": "markdown",
   "metadata": {},
   "source": [
    "## RANK OF MOST PRODUCED ITEMS"
   ]
  },
  {
   "cell_type": "code",
   "execution_count": 13,
   "metadata": {
    "ExecuteTime": {
     "end_time": "2020-11-07T09:42:50.256928Z",
     "start_time": "2020-11-07T09:42:49.670156Z"
    }
   },
   "outputs": [
    {
     "data": {
      "text/plain": [
       "<Axes: title={'center': 'Top 5 Feed produced item'}, xlabel='Item'>"
      ]
     },
     "execution_count": 13,
     "metadata": {},
     "output_type": "execute_result"
    },
    {
     "data": {
      "image/png": "[encoded data removed]",
      "text/plain": [
       "<Figure size 640x480 with 2 Axes>"
      ]
     },
     "metadata": {},
     "output_type": "display_data"
    }
   ],
   "source": [
    "#Rank of most Produced Items \n",
    "df_item = df.pivot_table(values=year_list, columns='Element',index=['Item'], aggfunc='sum')\n",
    "df_item = df_item.T\n",
    "#FOOD\n",
    "df_food_item = df_item.xs('Food', level=1, axis=0)\n",
    "df_food_item = df_food_item.sum(axis=0).sort_values(ascending=False).head()\n",
    "#FEED\n",
    "df_feed_item = df_item.xs('Feed', level=1, axis=0)\n",
    "df_feed_item = df_feed_item.sum(axis=0).sort_values(ascending=False).head()\n",
    "#Plot\n",
    "f, (ax1, ax2) = plt.subplots(1, 2, sharey=True)\n",
    "df_food_item.plot(kind='bar', title='Top 5 Food produced item', color='black', ax=ax1)\n",
    "df_feed_item.plot(kind='bar', title='Top 5 Feed produced item', color='black' , ax=ax2)"
   ]
  },
  {
   "cell_type": "markdown",
   "metadata": {},
   "source": [
    "#### COMMENT:\n",
    "From the calculation appears how Milk is the most produced item in the world from 1960 to 2013, followed by cereals and vegetables, regarding feed intended to animals, Cereals and Maize are the most produced items.\n"
   ]
  },
  {
   "cell_type": "markdown",
   "metadata": {},
   "source": [
    "## SHOWING DEVELOPING COUNTRIES "
   ]
  },
  {
   "cell_type": "code",
   "execution_count": 16,
   "metadata": {
    "ExecuteTime": {
     "end_time": "2020-11-07T09:42:50.267930Z",
     "start_time": "2020-11-07T09:42:50.260933Z"
    }
   },
   "outputs": [
    {
     "data": {
      "text/plain": [
       "Area\n",
       "China, mainland             60723839.0\n",
       "India                       34570279.0\n",
       "United States of America    26227192.0\n",
       "Brazil                       9393856.0\n",
       "Germany                      7977690.0\n",
       "dtype: float64"
      ]
     },
     "execution_count": 16,
     "metadata": {},
     "output_type": "execute_result"
    }
   ],
   "source": [
    " df_food_tot\n",
    " #df_food[i]"
   ]
  },
  {
   "cell_type": "code",
   "execution_count": 17,
   "metadata": {
    "ExecuteTime": {
     "end_time": "2020-11-07T09:42:51.585079Z",
     "start_time": "2020-11-07T09:42:50.271429Z"
    }
   },
   "outputs": [
    {
     "name": "stdout",
     "output_type": "stream",
     "text": [
      "China, mainland\n",
      "India\n",
      "United States of America\n",
      "Brazil\n",
      "Germany\n"
     ]
    },
    {
     "data": {
      "image/png": "[encoded data removed]",
      "text/plain": [
       "<Figure size 1000x600 with 1 Axes>"
      ]
     },
     "metadata": {},
     "output_type": "display_data"
    }
   ],
   "source": [
    "# Visualization of the top 5 producer countries among years\n",
    "plt.figure(figsize = (10,6))\n",
    "top_5 = []\n",
    "for i in df_food_tot.index:\n",
    "    print(i)\n",
    "    year = df_food[i]\n",
    "    top_5.append(year)\n",
    "    plt.plot(year, marker='p')\n",
    "    plt.xticks(df_food.index, rotation='vertical')\n",
    "    plt.legend(i, loc='right')"
   ]
  },
  {
   "cell_type": "code",
   "execution_count": 18,
   "metadata": {
    "ExecuteTime": {
     "end_time": "2020-11-07T09:42:52.115208Z",
     "start_time": "2020-11-07T09:42:51.589072Z"
    }
   },
   "outputs": [
    {
     "data": {
      "image/png": "[encoded data removed]",
      "text/plain": [
       "<Figure size 1000x700 with 2 Axes>"
      ]
     },
     "metadata": {},
     "output_type": "display_data"
    }
   ],
   "source": [
    "fig, ax = plt.subplots(figsize=(10,7))\n",
    "sns.heatmap(data=pd.DataFrame(top_5),linewidths=0, ax=ax)\n",
    "plt.show()"
   ]
  },
  {
   "cell_type": "markdown",
   "metadata": {},
   "source": [
    "# CLUSTERING\n",
    "Clustering is an unsupervised learning method used in order to find new groups from data such that intra-cluster distances are minimized and inter-cluster distances are maximised. \n",
    "It doesn't not require any knowledge about the data,\n",
    "similarly to classification algorithms, clustering algorithms assign (or predict) a number to each data\n",
    "point, indicating which cluster a particular point belongs to.\n",
    "There are two different type of clusering:\n",
    "*  PARTITIONAL\n",
    "*  HIERARCHICAL\n",
    "\n",
    "Hierarchical clustering requires only a similarity measure, while partitional clustering requires stronger assumptions such as number of clusters and the initial centers. Hierarchical clustering returns a much more meaningful and subjective division of clusters but partitional clustering results in exactly k clusters. \n",
    "\n",
    "Most common clustering algorithm are: K-Means, Hierarchical, Density-based (DBSCAN)."
   ]
  },
  {
   "cell_type": "markdown",
   "metadata": {},
   "source": [
    "## DATA PREPARATION\n",
    "\n",
    "Considering that initially not all the countries of the world are included in the dataset (due probably to political problems) and considering that there are some missing values for existing countries, opted to use only information about the last 20 years avalaible (1993-2013) in order also to simplify the amount of data. Remaining missing values are filled with 0 (Belgium, Luxembourg, Montenegro, Serbia, Sudan)\n",
    "\n",
    "\n",
    "I provide different data structures:  \n",
    "\n",
    "* COUNTRY - POPULATION - SURFACE - Y1993 ------ Y2013\n",
    "* COUNTRY - POPULATION - SURFACE - TOTAL \n",
    "* ITEM    - Y1993 ------ Y2013 (world wide)\n",
    "* ITEM    - Y1993 ------ Y2013 (for **Italy**)"
   ]
  },
  {
   "cell_type": "code",
   "execution_count": 19,
   "metadata": {
    "ExecuteTime": {
     "end_time": "2020-11-07T09:42:52.335261Z",
     "start_time": "2020-11-07T09:42:52.120729Z"
    },
    "_kg_hide-input": true
   },
   "outputs": [],
   "source": [
    "d3 = df.loc[:, 'Y1993':'Y2013'] #take only last 20 years\n",
    "data1 = new_data.join(d3) #recap: new_data does not contains years data\n",
    "\n",
    "d4 = data1.loc[data1['Element'] == 'Food'] #get just food\n",
    "d5 = d4.drop('Element', axis=1)\n",
    "d5 = d5.fillna(0) #substitute missing values with 0\n",
    "\n",
    "year_list = list(d3.iloc[:,:].columns)\n",
    "d6 = d5.pivot_table(values=year_list, index=['Area'], aggfunc='sum')\n",
    "\n",
    "italy = d4[d4['Area'] == 'Italy']\n",
    "italy = italy.pivot_table(values=year_list, index=['Item'], aggfunc='sum')\n",
    "italy = pd.DataFrame(italy.to_records())\n",
    "\n",
    "item = d5.pivot_table(values=year_list, index=['Item'], aggfunc='sum')\n",
    "item = pd.DataFrame(item.to_records())\n",
    "\n",
    "d5 = d5.pivot_table(values=year_list, index=['Area', 'Population', 'Surface'], aggfunc='sum')\n",
    "area = pd.DataFrame(d5.to_records())\n",
    "d6.loc[:, 'Total'] = d6.sum(axis=1)\n",
    "d6 = pd.DataFrame(d6.to_records())\n",
    "d = pd.DataFrame({'Area' : d6['Area'] , 'Total': d6['Total'] , 'Population': area['Population'], 'Surface': area['Surface']})"
   ]
  },
  {
   "cell_type": "code",
   "execution_count": 20,
   "metadata": {
    "ExecuteTime": {
     "end_time": "2020-11-07T09:42:52.356783Z",
     "start_time": "2020-11-07T09:42:52.339248Z"
    }
   },
   "outputs": [
    {
     "data": {
      "text/html": [
       "<div>\n",
       "<style scoped>\n",
       "    .dataframe tbody tr th:only-of-type {\n",
       "        vertical-align: middle;\n",
       "    }\n",
       "\n",
       "    .dataframe tbody tr th {\n",
       "        vertical-align: top;\n",
       "    }\n",
       "\n",
       "    .dataframe thead th {\n",
       "        text-align: right;\n",
       "    }\n",
       "</style>\n",
       "<table border=\"1\" class=\"dataframe\">\n",
       "  <thead>\n",
       "    <tr style=\"text-align: right;\">\n",
       "      <th></th>\n",
       "      <th>Area</th>\n",
       "      <th>Total</th>\n",
       "      <th>Population</th>\n",
       "      <th>Surface</th>\n",
       "    </tr>\n",
       "  </thead>\n",
       "  <tbody>\n",
       "    <tr>\n",
       "      <th>0</th>\n",
       "      <td>Afghanistan</td>\n",
       "      <td>326921.0</td>\n",
       "      <td>35530.081</td>\n",
       "      <td>65286.0</td>\n",
       "    </tr>\n",
       "    <tr>\n",
       "      <th>1</th>\n",
       "      <td>Albania</td>\n",
       "      <td>120172.0</td>\n",
       "      <td>2930.187</td>\n",
       "      <td>2740.0</td>\n",
       "    </tr>\n",
       "    <tr>\n",
       "      <th>2</th>\n",
       "      <td>Algeria</td>\n",
       "      <td>896114.0</td>\n",
       "      <td>41318.142</td>\n",
       "      <td>238174.0</td>\n",
       "    </tr>\n",
       "    <tr>\n",
       "      <th>3</th>\n",
       "      <td>Angola</td>\n",
       "      <td>352564.0</td>\n",
       "      <td>29784.193</td>\n",
       "      <td>124670.0</td>\n",
       "    </tr>\n",
       "    <tr>\n",
       "      <th>4</th>\n",
       "      <td>Antigua and Barbuda</td>\n",
       "      <td>2079.0</td>\n",
       "      <td>102.012</td>\n",
       "      <td>44.0</td>\n",
       "    </tr>\n",
       "  </tbody>\n",
       "</table>\n",
       "</div>"
      ],
      "text/plain": [
       "                  Area     Total  Population   Surface\n",
       "0          Afghanistan  326921.0   35530.081   65286.0\n",
       "1              Albania  120172.0    2930.187    2740.0\n",
       "2              Algeria  896114.0   41318.142  238174.0\n",
       "3               Angola  352564.0   29784.193  124670.0\n",
       "4  Antigua and Barbuda    2079.0     102.012      44.0"
      ]
     },
     "execution_count": 20,
     "metadata": {},
     "output_type": "execute_result"
    }
   ],
   "source": [
    "d.head()"
   ]
  },
  {
   "cell_type": "code",
   "execution_count": 21,
   "metadata": {
    "ExecuteTime": {
     "end_time": "2020-11-07T09:42:52.441789Z",
     "start_time": "2020-11-07T09:42:52.361769Z"
    },
    "_kg_hide-input": true
   },
   "outputs": [
    {
     "data": {
      "application/vnd.plotly.v1+json": {
       "config": {
        "linkText": "Export to plot.ly",
        "plotlyServerURL": "https://plot.ly",
        "showLink": false
       },
       "data": [
        {
         "colorbar": {
          "title": {
           "text": "Tons of food"
          }
         },
         "locationmode": "country names",
         "locations": [
          "Afghanistan",
          "Albania",
          "Algeria",
          "Angola",
          "Antigua and Barbuda",
          "Argentina",
          "Armenia",
          "Australia",
          "Austria",
          "Azerbaijan",
          "Bahamas",
          "Bangladesh",
          "Barbados",
          "Belarus",
          "Belgium",
          "Belize",
          "Benin",
          "Bermuda",
          "Bolivia (Plurinational State of)",
          "Bosnia and Herzegovina",
          "Botswana",
          "Brazil",
          "Brunei Darussalam",
          "Bulgaria",
          "Burkina Faso",
          "Cabo Verde",
          "Cambodia",
          "Cameroon",
          "Canada",
          "Central African Republic",
          "Chad",
          "Chile",
          "China, Hong Kong SAR",
          "China, Macao SAR",
          "China, Taiwan Province of",
          "China, mainland",
          "Colombia",
          "Congo",
          "Costa Rica",
          "Croatia",
          "Cuba",
          "Cyprus",
          "Czechia",
          "Côte d'Ivoire",
          "Democratic People's Republic of Korea",
          "Denmark",
          "Djibouti",
          "Dominica",
          "Dominican Republic",
          "Ecuador",
          "Egypt",
          "El Salvador",
          "Estonia",
          "Eswatini",
          "Ethiopia",
          "Fiji",
          "Finland",
          "France",
          "French Polynesia",
          "Gabon",
          "Gambia",
          "Georgia",
          "Germany",
          "Ghana",
          "Greece",
          "Grenada",
          "Guatemala",
          "Guinea",
          "Guinea-Bissau",
          "Guyana",
          "Haiti",
          "Honduras",
          "Hungary",
          "Iceland",
          "India",
          "Indonesia",
          "Iran (Islamic Republic of)",
          "Iraq",
          "Ireland",
          "Israel",
          "Italy",
          "Jamaica",
          "Japan",
          "Jordan",
          "Kazakhstan",
          "Kenya",
          "Kiribati",
          "Kuwait",
          "Kyrgyzstan",
          "Lao People's Democratic Republic",
          "Latvia",
          "Lebanon",
          "Lesotho",
          "Liberia",
          "Lithuania",
          "Luxembourg",
          "Madagascar",
          "Malawi",
          "Malaysia",
          "Maldives",
          "Mali",
          "Malta",
          "Mauritania",
          "Mauritius",
          "Mexico",
          "Mongolia",
          "Montenegro",
          "Morocco",
          "Mozambique",
          "Myanmar",
          "Namibia",
          "Nepal",
          "Netherlands",
          "New Caledonia",
          "New Zealand",
          "Nicaragua",
          "Niger",
          "Nigeria",
          "North Macedonia",
          "Norway",
          "Oman",
          "Pakistan",
          "Panama",
          "Paraguay",
          "Peru",
          "Philippines",
          "Poland",
          "Portugal",
          "Republic of Korea",
          "Republic of Moldova",
          "Romania",
          "Russian Federation",
          "Rwanda",
          "Saint Kitts and Nevis",
          "Saint Lucia",
          "Saint Vincent and the Grenadines",
          "Samoa",
          "Sao Tome and Principe",
          "Saudi Arabia",
          "Senegal",
          "Serbia",
          "Sierra Leone",
          "Slovakia",
          "Slovenia",
          "Solomon Islands",
          "South Africa",
          "Spain",
          "Sri Lanka",
          "Sudan",
          "Suriname",
          "Sweden",
          "Switzerland",
          "Tajikistan",
          "Thailand",
          "Timor-Leste",
          "Togo",
          "Trinidad and Tobago",
          "Tunisia",
          "Turkey",
          "Turkmenistan",
          "Uganda",
          "Ukraine",
          "United Arab Emirates",
          "United Kingdom",
          "United Republic of Tanzania",
          "United States of America",
          "Uruguay",
          "Uzbekistan",
          "Vanuatu",
          "Venezuela (Bolivarian Republic of)",
          "Viet Nam",
          "Yemen",
          "Zambia",
          "Zimbabwe"
         ],
         "text": [
          "Afghanistan",
          "Albania",
          "Algeria",
          "Angola",
          "Antigua and Barbuda",
          "Argentina",
          "Armenia",
          "Australia",
          "Austria",
          "Azerbaijan",
          "Bahamas",
          "Bangladesh",
          "Barbados",
          "Belarus",
          "Belgium",
          "Belize",
          "Benin",
          "Bermuda",
          "Bolivia (Plurinational State of)",
          "Bosnia and Herzegovina",
          "Botswana",
          "Brazil",
          "Brunei Darussalam",
          "Bulgaria",
          "Burkina Faso",
          "Cabo Verde",
          "Cambodia",
          "Cameroon",
          "Canada",
          "Central African Republic",
          "Chad",
          "Chile",
          "China, Hong Kong SAR",
          "China, Macao SAR",
          "China, Taiwan Province of",
          "China, mainland",
          "Colombia",
          "Congo",
          "Costa Rica",
          "Croatia",
          "Cuba",
          "Cyprus",
          "Czechia",
          "Côte d'Ivoire",
          "Democratic People's Republic of Korea",
          "Denmark",
          "Djibouti",
          "Dominica",
          "Dominican Republic",
          "Ecuador",
          "Egypt",
          "El Salvador",
          "Estonia",
          "Eswatini",
          "Ethiopia",
          "Fiji",
          "Finland",
          "France",
          "French Polynesia",
          "Gabon",
          "Gambia",
          "Georgia",
          "Germany",
          "Ghana",
          "Greece",
          "Grenada",
          "Guatemala",
          "Guinea",
          "Guinea-Bissau",
          "Guyana",
          "Haiti",
          "Honduras",
          "Hungary",
          "Iceland",
          "India",
          "Indonesia",
          "Iran (Islamic Republic of)",
          "Iraq",
          "Ireland",
          "Israel",
          "Italy",
          "Jamaica",
          "Japan",
          "Jordan",
          "Kazakhstan",
          "Kenya",
          "Kiribati",
          "Kuwait",
          "Kyrgyzstan",
          "Lao People's Democratic Republic",
          "Latvia",
          "Lebanon",
          "Lesotho",
          "Liberia",
          "Lithuania",
          "Luxembourg",
          "Madagascar",
          "Malawi",
          "Malaysia",
          "Maldives",
          "Mali",
          "Malta",
          "Mauritania",
          "Mauritius",
          "Mexico",
          "Mongolia",
          "Montenegro",
          "Morocco",
          "Mozambique",
          "Myanmar",
          "Namibia",
          "Nepal",
          "Netherlands",
          "New Caledonia",
          "New Zealand",
          "Nicaragua",
          "Niger",
          "Nigeria",
          "North Macedonia",
          "Norway",
          "Oman",
          "Pakistan",
          "Panama",
          "Paraguay",
          "Peru",
          "Philippines",
          "Poland",
          "Portugal",
          "Republic of Korea",
          "Republic of Moldova",
          "Romania",
          "Russian Federation",
          "Rwanda",
          "Saint Kitts and Nevis",
          "Saint Lucia",
          "Saint Vincent and the Grenadines",
          "Samoa",
          "Sao Tome and Principe",
          "Saudi Arabia",
          "Senegal",
          "Serbia",
          "Sierra Leone",
          "Slovakia",
          "Slovenia",
          "Solomon Islands",
          "South Africa",
          "Spain",
          "Sri Lanka",
          "Sudan",
          "Suriname",
          "Sweden",
          "Switzerland",
          "Tajikistan",
          "Thailand",
          "Timor-Leste",
          "Togo",
          "Trinidad and Tobago",
          "Tunisia",
          "Turkey",
          "Turkmenistan",
          "Uganda",
          "Ukraine",
          "United Arab Emirates",
          "United Kingdom",
          "United Republic of Tanzania",
          "United States of America",
          "Uruguay",
          "Uzbekistan",
          "Vanuatu",
          "Venezuela (Bolivarian Republic of)",
          "Viet Nam",
          "Yemen",
          "Zambia",
          "Zimbabwe"
         ],
         "type": "choropleth",
         "z": [
          326921,
          120172,
          896114,
          352564,
          2079,
          1260870,
          93011,
          779031,
          354176,
          234677,
          10534,
          1797998,
          7764,
          366256,
          301287,
          7560,
          179902,
          2027,
          186292,
          127086,
          38010,
          5363608,
          9063,
          232529,
          290771,
          10269,
          185684,
          438739,
          1319821,
          80357,
          122502,
          442651,
          199523,
          11460,
          614834,
          39003086,
          1114673,
          79749,
          114224,
          154677,
          343217,
          30030,
          393672,
          466487,
          464102,
          229300,
          10936,
          2888,
          209343,
          320778,
          2255352,
          127739,
          51901,
          22362,
          908083,
          20265,
          217594,
          2499790,
          7358,
          40676,
          21497,
          120486,
          3324458,
          669110,
          538562,
          2511,
          223753,
          187570,
          21351,
          19244,
          138918,
          136890,
          344326,
          11037,
          19900340,
          3932518,
          2123485,
          482171,
          188771,
          262200,
          2593024,
          76638,
          3400471,
          126141,
          505006,
          701186,
          2326,
          77108,
          146567,
          110075,
          81263,
          136665,
          32418,
          53157,
          130558,
          15243,
          316546,
          244860,
          532251,
          7819,
          223695,
          16499,
          56113,
          29633,
          3019528,
          50326,
          11853,
          787088,
          369041,
          763194,
          41060,
          498234,
          710143,
          6282,
          146726,
          82299,
          223057,
          3641538,
          64388,
          182271,
          75669,
          3112101,
          69708,
          155647,
          630532,
          1698382,
          1460041,
          462108,
          1477941,
          108532,
          870340,
          4815293,
          268797,
          1009,
          4491,
          2781,
          5658,
          4321,
          566755,
          165602,
          113940,
          84660,
          165403,
          76559,
          12120,
          1054383,
          1695650,
          360730,
          84646,
          11149,
          377793,
          303248,
          118220,
          1477069,
          15110,
          98826,
          30671,
          309576,
          2563733,
          122484,
          744769,
          1608335,
          147012,
          2423034,
          847789,
          12779748,
          103895,
          683251,
          6059,
          682364,
          1540944,
          281252,
          165288,
          167171
         ]
        }
       ],
       "layout": {
        "geo": {
         "projection": {
          "type": "mercator"
         },
         "showframe": false
        },
        "template": {
         "data": {
          "bar": [
           {
            "error_x": {
             "color": "#2a3f5f"
            },
            "error_y": {
             "color": "#2a3f5f"
            },
            "marker": {
             "line": {
              "color": "#E5ECF6",
              "width": 0.5
             },
             "pattern": {
              "fillmode": "overlay",
              "size": 10,
              "solidity": 0.2
             }
            },
            "type": "bar"
           }
          ],
          "barpolar": [
           {
            "marker": {
             "line": {
              "color": "#E5ECF6",
              "width": 0.5
             },
             "pattern": {
              "fillmode": "overlay",
              "size": 10,
              "solidity": 0.2
             }
            },
            "type": "barpolar"
           }
          ],
          "carpet": [
           {
            "aaxis": {
             "endlinecolor": "#2a3f5f",
             "gridcolor": "white",
             "linecolor": "white",
             "minorgridcolor": "white",
             "startlinecolor": "#2a3f5f"
            },
            "baxis": {
             "endlinecolor": "#2a3f5f",
             "gridcolor": "white",
             "linecolor": "white",
             "minorgridcolor": "white",
             "startlinecolor": "#2a3f5f"
            },
            "type": "carpet"
           }
          ],
          "choropleth": [
           {
            "colorbar": {
             "outlinewidth": 0,
             "ticks": ""
            },
            "type": "choropleth"
           }
          ],
          "contour": [
           {
            "colorbar": {
             "outlinewidth": 0,
             "ticks": ""
            },
            "colorscale": [
             [
              0,
              "#0d0887"
             ],
             [
              0.1111111111111111,
              "#46039f"
             ],
             [
              0.2222222222222222,
              "#7201a8"
             ],
             [
              0.3333333333333333,
              "#9c179e"
             ],
             [
              0.4444444444444444,
              "#bd3786"
             ],
             [
              0.5555555555555556,
              "#d8576b"
             ],
             [
              0.6666666666666666,
              "#ed7953"
             ],
             [
              0.7777777777777778,
              "#fb9f3a"
             ],
             [
              0.8888888888888888,
              "#fdca26"
             ],
             [
              1,
              "#f0f921"
             ]
            ],
            "type": "contour"
           }
          ],
          "contourcarpet": [
           {
            "colorbar": {
             "outlinewidth": 0,
             "ticks": ""
            },
            "type": "contourcarpet"
           }
          ],
          "heatmap": [
           {
            "colorbar": {
             "outlinewidth": 0,
             "ticks": ""
            },
            "colorscale": [
             [
              0,
              "#0d0887"
             ],
             [
              0.1111111111111111,
              "#46039f"
             ],
             [
              0.2222222222222222,
              "#7201a8"
             ],
             [
              0.3333333333333333,
              "#9c179e"
             ],
             [
              0.4444444444444444,
              "#bd3786"
             ],
             [
              0.5555555555555556,
              "#d8576b"
             ],
             [
              0.6666666666666666,
              "#ed7953"
             ],
             [
              0.7777777777777778,
              "#fb9f3a"
             ],
             [
              0.8888888888888888,
              "#fdca26"
             ],
             [
              1,
              "#f0f921"
             ]
            ],
            "type": "heatmap"
           }
          ],
          "heatmapgl": [
           {
            "colorbar": {
             "outlinewidth": 0,
             "ticks": ""
            },
            "colorscale": [
             [
              0,
              "#0d0887"
             ],
             [
              0.1111111111111111,
              "#46039f"
             ],
             [
              0.2222222222222222,
              "#7201a8"
             ],
             [
              0.3333333333333333,
              "#9c179e"
             ],
             [
              0.4444444444444444,
              "#bd3786"
             ],
             [
              0.5555555555555556,
              "#d8576b"
             ],
             [
              0.6666666666666666,
              "#ed7953"
             ],
             [
              0.7777777777777778,
              "#fb9f3a"
             ],
             [
              0.8888888888888888,
              "#fdca26"
             ],
             [
              1,
              "#f0f921"
             ]
            ],
            "type": "heatmapgl"
           }
          ],
          "histogram": [
           {
            "marker": {
             "pattern": {
              "fillmode": "overlay",
              "size": 10,
              "solidity": 0.2
             }
            },
            "type": "histogram"
           }
          ],
          "histogram2d": [
           {
            "colorbar": {
             "outlinewidth": 0,
             "ticks": ""
            },
            "colorscale": [
             [
              0,
              "#0d0887"
             ],
             [
              0.1111111111111111,
              "#46039f"
             ],
             [
              0.2222222222222222,
              "#7201a8"
             ],
             [
              0.3333333333333333,
              "#9c179e"
             ],
             [
              0.4444444444444444,
              "#bd3786"
             ],
             [
              0.5555555555555556,
              "#d8576b"
             ],
             [
              0.6666666666666666,
              "#ed7953"
             ],
             [
              0.7777777777777778,
              "#fb9f3a"
             ],
             [
              0.8888888888888888,
              "#fdca26"
             ],
             [
              1,
              "#f0f921"
             ]
            ],
            "type": "histogram2d"
           }
          ],
          "histogram2dcontour": [
           {
            "colorbar": {
             "outlinewidth": 0,
             "ticks": ""
            },
            "colorscale": [
             [
              0,
              "#0d0887"
             ],
             [
              0.1111111111111111,
              "#46039f"
             ],
             [
              0.2222222222222222,
              "#7201a8"
             ],
             [
              0.3333333333333333,
              "#9c179e"
             ],
             [
              0.4444444444444444,
              "#bd3786"
             ],
             [
              0.5555555555555556,
              "#d8576b"
             ],
             [
              0.6666666666666666,
              "#ed7953"
             ],
             [
              0.7777777777777778,
              "#fb9f3a"
             ],
             [
              0.8888888888888888,
              "#fdca26"
             ],
             [
              1,
              "#f0f921"
             ]
            ],
            "type": "histogram2dcontour"
           }
          ],
          "mesh3d": [
           {
            "colorbar": {
             "outlinewidth": 0,
             "ticks": ""
            },
            "type": "mesh3d"
           }
          ],
          "parcoords": [
           {
            "line": {
             "colorbar": {
              "outlinewidth": 0,
              "ticks": ""
             }
            },
            "type": "parcoords"
           }
          ],
          "pie": [
           {
            "automargin": true,
            "type": "pie"
           }
          ],
          "scatter": [
           {
            "fillpattern": {
             "fillmode": "overlay",
             "size": 10,
             "solidity": 0.2
            },
            "type": "scatter"
           }
          ],
          "scatter3d": [
           {
            "line": {
             "colorbar": {
              "outlinewidth": 0,
              "ticks": ""
             }
            },
            "marker": {
             "colorbar": {
              "outlinewidth": 0,
              "ticks": ""
             }
            },
            "type": "scatter3d"
           }
          ],
          "scattercarpet": [
           {
            "marker": {
             "colorbar": {
              "outlinewidth": 0,
              "ticks": ""
             }
            },
            "type": "scattercarpet"
           }
          ],
          "scattergeo": [
           {
            "marker": {
             "colorbar": {
              "outlinewidth": 0,
              "ticks": ""
             }
            },
            "type": "scattergeo"
           }
          ],
          "scattergl": [
           {
            "marker": {
             "colorbar": {
              "outlinewidth": 0,
              "ticks": ""
             }
            },
            "type": "scattergl"
           }
          ],
          "scattermapbox": [
           {
            "marker": {
             "colorbar": {
              "outlinewidth": 0,
              "ticks": ""
             }
            },
            "type": "scattermapbox"
           }
          ],
          "scatterpolar": [
           {
            "marker": {
             "colorbar": {
              "outlinewidth": 0,
              "ticks": ""
             }
            },
            "type": "scatterpolar"
           }
          ],
          "scatterpolargl": [
           {
            "marker": {
             "colorbar": {
              "outlinewidth": 0,
              "ticks": ""
             }
            },
            "type": "scatterpolargl"
           }
          ],
          "scatterternary": [
           {
            "marker": {
             "colorbar": {
              "outlinewidth": 0,
              "ticks": ""
             }
            },
            "type": "scatterternary"
           }
          ],
          "surface": [
           {
            "colorbar": {
             "outlinewidth": 0,
             "ticks": ""
            },
            "colorscale": [
             [
              0,
              "#0d0887"
             ],
             [
              0.1111111111111111,
              "#46039f"
             ],
             [
              0.2222222222222222,
              "#7201a8"
             ],
             [
              0.3333333333333333,
              "#9c179e"
             ],
             [
              0.4444444444444444,
              "#bd3786"
             ],
             [
              0.5555555555555556,
              "#d8576b"
             ],
             [
              0.6666666666666666,
              "#ed7953"
             ],
             [
              0.7777777777777778,
              "#fb9f3a"
             ],
             [
              0.8888888888888888,
              "#fdca26"
             ],
             [
              1,
              "#f0f921"
             ]
            ],
            "type": "surface"
           }
          ],
          "table": [
           {
            "cells": {
             "fill": {
              "color": "#EBF0F8"
             },
             "line": {
              "color": "white"
             }
            },
            "header": {
             "fill": {
              "color": "#C8D4E3"
             },
             "line": {
              "color": "white"
             }
            },
            "type": "table"
           }
          ]
         },
         "layout": {
          "annotationdefaults": {
           "arrowcolor": "#2a3f5f",
           "arrowhead": 0,
           "arrowwidth": 1
          },
          "autotypenumbers": "strict",
          "coloraxis": {
           "colorbar": {
            "outlinewidth": 0,
            "ticks": ""
           }
          },
          "colorscale": {
           "diverging": [
            [
             0,
             "#8e0152"
            ],
            [
             0.1,
             "#c51b7d"
            ],
            [
             0.2,
             "#de77ae"
            ],
            [
             0.3,
             "#f1b6da"
            ],
            [
             0.4,
             "#fde0ef"
            ],
            [
             0.5,
             "#f7f7f7"
            ],
            [
             0.6,
             "#e6f5d0"
            ],
            [
             0.7,
             "#b8e186"
            ],
            [
             0.8,
             "#7fbc41"
            ],
            [
             0.9,
             "#4d9221"
            ],
            [
             1,
             "#276419"
            ]
           ],
           "sequential": [
            [
             0,
             "#0d0887"
            ],
            [
             0.1111111111111111,
             "#46039f"
            ],
            [
             0.2222222222222222,
             "#7201a8"
            ],
            [
             0.3333333333333333,
             "#9c179e"
            ],
            [
             0.4444444444444444,
             "#bd3786"
            ],
            [
             0.5555555555555556,
             "#d8576b"
            ],
            [
             0.6666666666666666,
             "#ed7953"
            ],
            [
             0.7777777777777778,
             "#fb9f3a"
            ],
            [
             0.8888888888888888,
             "#fdca26"
            ],
            [
             1,
             "#f0f921"
            ]
           ],
           "sequentialminus": [
            [
             0,
             "#0d0887"
            ],
            [
             0.1111111111111111,
             "#46039f"
            ],
            [
             0.2222222222222222,
             "#7201a8"
            ],
            [
             0.3333333333333333,
             "#9c179e"
            ],
            [
             0.4444444444444444,
             "#bd3786"
            ],
            [
             0.5555555555555556,
             "#d8576b"
            ],
            [
             0.6666666666666666,
             "#ed7953"
            ],
            [
             0.7777777777777778,
             "#fb9f3a"
            ],
            [
             0.8888888888888888,
             "#fdca26"
            ],
            [
             1,
             "#f0f921"
            ]
           ]
          },
          "colorway": [
           "#636efa",
           "#EF553B",
           "#00cc96",
           "#ab63fa",
           "#FFA15A",
           "#19d3f3",
           "#FF6692",
           "#B6E880",
           "#FF97FF",
           "#FECB52"
          ],
          "font": {
           "color": "#2a3f5f"
          },
          "geo": {
           "bgcolor": "white",
           "lakecolor": "white",
           "landcolor": "#E5ECF6",
           "showlakes": true,
           "showland": true,
           "subunitcolor": "white"
          },
          "hoverlabel": {
           "align": "left"
          },
          "hovermode": "closest",
          "mapbox": {
           "style": "light"
          },
          "paper_bgcolor": "white",
          "plot_bgcolor": "#E5ECF6",
          "polar": {
           "angularaxis": {
            "gridcolor": "white",
            "linecolor": "white",
            "ticks": ""
           },
           "bgcolor": "#E5ECF6",
           "radialaxis": {
            "gridcolor": "white",
            "linecolor": "white",
            "ticks": ""
           }
          },
          "scene": {
           "xaxis": {
            "backgroundcolor": "#E5ECF6",
            "gridcolor": "white",
            "gridwidth": 2,
            "linecolor": "white",
            "showbackground": true,
            "ticks": "",
            "zerolinecolor": "white"
           },
           "yaxis": {
            "backgroundcolor": "#E5ECF6",
            "gridcolor": "white",
            "gridwidth": 2,
            "linecolor": "white",
            "showbackground": true,
            "ticks": "",
            "zerolinecolor": "white"
           },
           "zaxis": {
            "backgroundcolor": "#E5ECF6",
            "gridcolor": "white",
            "gridwidth": 2,
            "linecolor": "white",
            "showbackground": true,
            "ticks": "",
            "zerolinecolor": "white"
           }
          },
          "shapedefaults": {
           "line": {
            "color": "#2a3f5f"
           }
          },
          "ternary": {
           "aaxis": {
            "gridcolor": "white",
            "linecolor": "white",
            "ticks": ""
           },
           "baxis": {
            "gridcolor": "white",
            "linecolor": "white",
            "ticks": ""
           },
           "bgcolor": "#E5ECF6",
           "caxis": {
            "gridcolor": "white",
            "linecolor": "white",
            "ticks": ""
           }
          },
          "title": {
           "x": 0.05
          },
          "xaxis": {
           "automargin": true,
           "gridcolor": "white",
           "linecolor": "white",
           "ticks": "",
           "title": {
            "standoff": 15
           },
           "zerolinecolor": "white",
           "zerolinewidth": 2
          },
          "yaxis": {
           "automargin": true,
           "gridcolor": "white",
           "linecolor": "white",
           "ticks": "",
           "title": {
            "standoff": 15
           },
           "zerolinecolor": "white",
           "zerolinewidth": 2
          }
         }
        },
        "title": {
         "text": "Total Production of Food 1993-2013"
        }
       }
      },
      "text/html": [
       "<div>                            <div id=\"edf42ddf-c17b-4586-8c5c-e720464eb1f4\" class=\"plotly-graph-div\" style=\"height:525px; width:100%;\"></div>            <script type=\"text/javascript\">                require([\"plotly\"], function(Plotly) {                    window.PLOTLYENV=window.PLOTLYENV || {};                                    if (document.getElementById(\"edf42ddf-c17b-4586-8c5c-e720464eb1f4\")) {                    Plotly.newPlot(                        \"edf42ddf-c17b-4586-8c5c-e720464eb1f4\",                        [{\"colorbar\":{\"title\":{\"text\":\"Tons of food\"}},\"locationmode\":\"country names\",\"locations\":[\"Afghanistan\",\"Albania\",\"Algeria\",\"Angola\",\"Antigua and Barbuda\",\"Argentina\",\"Armenia\",\"Australia\",\"Austria\",\"Azerbaijan\",\"Bahamas\",\"Bangladesh\",\"Barbados\",\"Belarus\",\"Belgium\",\"Belize\",\"Benin\",\"Bermuda\",\"Bolivia (Plurinational State of)\",\"Bosnia and Herzegovina\",\"Botswana\",\"Brazil\",\"Brunei Darussalam\",\"Bulgaria\",\"Burkina Faso\",\"Cabo Verde\",\"Cambodia\",\"Cameroon\",\"Canada\",\"Central African Republic\",\"Chad\",\"Chile\",\"China, Hong Kong SAR\",\"China, Macao SAR\",\"China, Taiwan Province of\",\"China, mainland\",\"Colombia\",\"Congo\",\"Costa Rica\",\"Croatia\",\"Cuba\",\"Cyprus\",\"Czechia\",\"C\\u00f4te d'Ivoire\",\"Democratic People's Republic of Korea\",\"Denmark\",\"Djibouti\",\"Dominica\",\"Dominican Republic\",\"Ecuador\",\"Egypt\",\"El Salvador\",\"Estonia\",\"Eswatini\",\"Ethiopia\",\"Fiji\",\"Finland\",\"France\",\"French Polynesia\",\"Gabon\",\"Gambia\",\"Georgia\",\"Germany\",\"Ghana\",\"Greece\",\"Grenada\",\"Guatemala\",\"Guinea\",\"Guinea-Bissau\",\"Guyana\",\"Haiti\",\"Honduras\",\"Hungary\",\"Iceland\",\"India\",\"Indonesia\",\"Iran (Islamic Republic of)\",\"Iraq\",\"Ireland\",\"Israel\",\"Italy\",\"Jamaica\",\"Japan\",\"Jordan\",\"Kazakhstan\",\"Kenya\",\"Kiribati\",\"Kuwait\",\"Kyrgyzstan\",\"Lao People's Democratic Republic\",\"Latvia\",\"Lebanon\",\"Lesotho\",\"Liberia\",\"Lithuania\",\"Luxembourg\",\"Madagascar\",\"Malawi\",\"Malaysia\",\"Maldives\",\"Mali\",\"Malta\",\"Mauritania\",\"Mauritius\",\"Mexico\",\"Mongolia\",\"Montenegro\",\"Morocco\",\"Mozambique\",\"Myanmar\",\"Namibia\",\"Nepal\",\"Netherlands\",\"New Caledonia\",\"New Zealand\",\"Nicaragua\",\"Niger\",\"Nigeria\",\"North Macedonia\",\"Norway\",\"Oman\",\"Pakistan\",\"Panama\",\"Paraguay\",\"Peru\",\"Philippines\",\"Poland\",\"Portugal\",\"Republic of Korea\",\"Republic of Moldova\",\"Romania\",\"Russian Federation\",\"Rwanda\",\"Saint Kitts and Nevis\",\"Saint Lucia\",\"Saint Vincent and the Grenadines\",\"Samoa\",\"Sao Tome and Principe\",\"Saudi Arabia\",\"Senegal\",\"Serbia\",\"Sierra Leone\",\"Slovakia\",\"Slovenia\",\"Solomon Islands\",\"South Africa\",\"Spain\",\"Sri Lanka\",\"Sudan\",\"Suriname\",\"Sweden\",\"Switzerland\",\"Tajikistan\",\"Thailand\",\"Timor-Leste\",\"Togo\",\"Trinidad and Tobago\",\"Tunisia\",\"Turkey\",\"Turkmenistan\",\"Uganda\",\"Ukraine\",\"United Arab Emirates\",\"United Kingdom\",\"United Republic of Tanzania\",\"United States of America\",\"Uruguay\",\"Uzbekistan\",\"Vanuatu\",\"Venezuela (Bolivarian Republic of)\",\"Viet Nam\",\"Yemen\",\"Zambia\",\"Zimbabwe\"],\"text\":[\"Afghanistan\",\"Albania\",\"Algeria\",\"Angola\",\"Antigua and Barbuda\",\"Argentina\",\"Armenia\",\"Australia\",\"Austria\",\"Azerbaijan\",\"Bahamas\",\"Bangladesh\",\"Barbados\",\"Belarus\",\"Belgium\",\"Belize\",\"Benin\",\"Bermuda\",\"Bolivia (Plurinational State of)\",\"Bosnia and Herzegovina\",\"Botswana\",\"Brazil\",\"Brunei Darussalam\",\"Bulgaria\",\"Burkina Faso\",\"Cabo Verde\",\"Cambodia\",\"Cameroon\",\"Canada\",\"Central African Republic\",\"Chad\",\"Chile\",\"China, Hong Kong SAR\",\"China, Macao SAR\",\"China, Taiwan Province of\",\"China, mainland\",\"Colombia\",\"Congo\",\"Costa Rica\",\"Croatia\",\"Cuba\",\"Cyprus\",\"Czechia\",\"C\\u00f4te d'Ivoire\",\"Democratic People's Republic of Korea\",\"Denmark\",\"Djibouti\",\"Dominica\",\"Dominican Republic\",\"Ecuador\",\"Egypt\",\"El Salvador\",\"Estonia\",\"Eswatini\",\"Ethiopia\",\"Fiji\",\"Finland\",\"France\",\"French Polynesia\",\"Gabon\",\"Gambia\",\"Georgia\",\"Germany\",\"Ghana\",\"Greece\",\"Grenada\",\"Guatemala\",\"Guinea\",\"Guinea-Bissau\",\"Guyana\",\"Haiti\",\"Honduras\",\"Hungary\",\"Iceland\",\"India\",\"Indonesia\",\"Iran (Islamic Republic of)\",\"Iraq\",\"Ireland\",\"Israel\",\"Italy\",\"Jamaica\",\"Japan\",\"Jordan\",\"Kazakhstan\",\"Kenya\",\"Kiribati\",\"Kuwait\",\"Kyrgyzstan\",\"Lao People's Democratic Republic\",\"Latvia\",\"Lebanon\",\"Lesotho\",\"Liberia\",\"Lithuania\",\"Luxembourg\",\"Madagascar\",\"Malawi\",\"Malaysia\",\"Maldives\",\"Mali\",\"Malta\",\"Mauritania\",\"Mauritius\",\"Mexico\",\"Mongolia\",\"Montenegro\",\"Morocco\",\"Mozambique\",\"Myanmar\",\"Namibia\",\"Nepal\",\"Netherlands\",\"New Caledonia\",\"New Zealand\",\"Nicaragua\",\"Niger\",\"Nigeria\",\"North Macedonia\",\"Norway\",\"Oman\",\"Pakistan\",\"Panama\",\"Paraguay\",\"Peru\",\"Philippines\",\"Poland\",\"Portugal\",\"Republic of Korea\",\"Republic of Moldova\",\"Romania\",\"Russian Federation\",\"Rwanda\",\"Saint Kitts and Nevis\",\"Saint Lucia\",\"Saint Vincent and the Grenadines\",\"Samoa\",\"Sao Tome and Principe\",\"Saudi Arabia\",\"Senegal\",\"Serbia\",\"Sierra Leone\",\"Slovakia\",\"Slovenia\",\"Solomon Islands\",\"South Africa\",\"Spain\",\"Sri Lanka\",\"Sudan\",\"Suriname\",\"Sweden\",\"Switzerland\",\"Tajikistan\",\"Thailand\",\"Timor-Leste\",\"Togo\",\"Trinidad and Tobago\",\"Tunisia\",\"Turkey\",\"Turkmenistan\",\"Uganda\",\"Ukraine\",\"United Arab Emirates\",\"United Kingdom\",\"United Republic of Tanzania\",\"United States of America\",\"Uruguay\",\"Uzbekistan\",\"Vanuatu\",\"Venezuela (Bolivarian Republic of)\",\"Viet Nam\",\"Yemen\",\"Zambia\",\"Zimbabwe\"],\"z\":[326921.0,120172.0,896114.0,352564.0,2079.0,1260870.0,93011.0,779031.0,354176.0,234677.0,10534.0,1797998.0,7764.0,366256.0,301287.0,7560.0,179902.0,2027.0,186292.0,127086.0,38010.0,5363608.0,9063.0,232529.0,290771.0,10269.0,185684.0,438739.0,1319821.0,80357.0,122502.0,442651.0,199523.0,11460.0,614834.0,39003086.0,1114673.0,79749.0,114224.0,154677.0,343217.0,30030.0,393672.0,466487.0,464102.0,229300.0,10936.0,2888.0,209343.0,320778.0,2255352.0,127739.0,51901.0,22362.0,908083.0,20265.0,217594.0,2499790.0,7358.0,40676.0,21497.0,120486.0,3324458.0,669110.0,538562.0,2511.0,223753.0,187570.0,21351.0,19244.0,138918.0,136890.0,344326.0,11037.0,19900340.0,3932518.0,2123485.0,482171.0,188771.0,262200.0,2593024.0,76638.0,3400471.0,126141.0,505006.0,701186.0,2326.0,77108.0,146567.0,110075.0,81263.0,136665.0,32418.0,53157.0,130558.0,15243.0,316546.0,244860.0,532251.0,7819.0,223695.0,16499.0,56113.0,29633.0,3019528.0,50326.0,11853.0,787088.0,369041.0,763194.0,41060.0,498234.0,710143.0,6282.0,146726.0,82299.0,223057.0,3641538.0,64388.0,182271.0,75669.0,3112101.0,69708.0,155647.0,630532.0,1698382.0,1460041.0,462108.0,1477941.0,108532.0,870340.0,4815293.0,268797.0,1009.0,4491.0,2781.0,5658.0,4321.0,566755.0,165602.0,113940.0,84660.0,165403.0,76559.0,12120.0,1054383.0,1695650.0,360730.0,84646.0,11149.0,377793.0,303248.0,118220.0,1477069.0,15110.0,98826.0,30671.0,309576.0,2563733.0,122484.0,744769.0,1608335.0,147012.0,2423034.0,847789.0,12779748.0,103895.0,683251.0,6059.0,682364.0,1540944.0,281252.0,165288.0,167171.0],\"type\":\"choropleth\"}],                        {\"geo\":{\"projection\":{\"type\":\"mercator\"},\"showframe\":false},\"template\":{\"data\":{\"barpolar\":[{\"marker\":{\"line\":{\"color\":\"#E5ECF6\",\"width\":0.5},\"pattern\":{\"fillmode\":\"overlay\",\"size\":10,\"solidity\":0.2}},\"type\":\"barpolar\"}],\"bar\":[{\"error_x\":{\"color\":\"#2a3f5f\"},\"error_y\":{\"color\":\"#2a3f5f\"},\"marker\":{\"line\":{\"color\":\"#E5ECF6\",\"width\":0.5},\"pattern\":{\"fillmode\":\"overlay\",\"size\":10,\"solidity\":0.2}},\"type\":\"bar\"}],\"carpet\":[{\"aaxis\":{\"endlinecolor\":\"#2a3f5f\",\"gridcolor\":\"white\",\"linecolor\":\"white\",\"minorgridcolor\":\"white\",\"startlinecolor\":\"#2a3f5f\"},\"baxis\":{\"endlinecolor\":\"#2a3f5f\",\"gridcolor\":\"white\",\"linecolor\":\"white\",\"minorgridcolor\":\"white\",\"startlinecolor\":\"#2a3f5f\"},\"type\":\"carpet\"}],\"choropleth\":[{\"colorbar\":{\"outlinewidth\":0,\"ticks\":\"\"},\"type\":\"choropleth\"}],\"contourcarpet\":[{\"colorbar\":{\"outlinewidth\":0,\"ticks\":\"\"},\"type\":\"contourcarpet\"}],\"contour\":[{\"colorbar\":{\"outlinewidth\":0,\"ticks\":\"\"},\"colorscale\":[[0.0,\"#0d0887\"],[0.1111111111111111,\"#46039f\"],[0.2222222222222222,\"#7201a8\"],[0.3333333333333333,\"#9c179e\"],[0.4444444444444444,\"#bd3786\"],[0.5555555555555556,\"#d8576b\"],[0.6666666666666666,\"#ed7953\"],[0.7777777777777778,\"#fb9f3a\"],[0.8888888888888888,\"#fdca26\"],[1.0,\"#f0f921\"]],\"type\":\"contour\"}],\"heatmapgl\":[{\"colorbar\":{\"outlinewidth\":0,\"ticks\":\"\"},\"colorscale\":[[0.0,\"#0d0887\"],[0.1111111111111111,\"#46039f\"],[0.2222222222222222,\"#7201a8\"],[0.3333333333333333,\"#9c179e\"],[0.4444444444444444,\"#bd3786\"],[0.5555555555555556,\"#d8576b\"],[0.6666666666666666,\"#ed7953\"],[0.7777777777777778,\"#fb9f3a\"],[0.8888888888888888,\"#fdca26\"],[1.0,\"#f0f921\"]],\"type\":\"heatmapgl\"}],\"heatmap\":[{\"colorbar\":{\"outlinewidth\":0,\"ticks\":\"\"},\"colorscale\":[[0.0,\"#0d0887\"],[0.1111111111111111,\"#46039f\"],[0.2222222222222222,\"#7201a8\"],[0.3333333333333333,\"#9c179e\"],[0.4444444444444444,\"#bd3786\"],[0.5555555555555556,\"#d8576b\"],[0.6666666666666666,\"#ed7953\"],[0.7777777777777778,\"#fb9f3a\"],[0.8888888888888888,\"#fdca26\"],[1.0,\"#f0f921\"]],\"type\":\"heatmap\"}],\"histogram2dcontour\":[{\"colorbar\":{\"outlinewidth\":0,\"ticks\":\"\"},\"colorscale\":[[0.0,\"#0d0887\"],[0.1111111111111111,\"#46039f\"],[0.2222222222222222,\"#7201a8\"],[0.3333333333333333,\"#9c179e\"],[0.4444444444444444,\"#bd3786\"],[0.5555555555555556,\"#d8576b\"],[0.6666666666666666,\"#ed7953\"],[0.7777777777777778,\"#fb9f3a\"],[0.8888888888888888,\"#fdca26\"],[1.0,\"#f0f921\"]],\"type\":\"histogram2dcontour\"}],\"histogram2d\":[{\"colorbar\":{\"outlinewidth\":0,\"ticks\":\"\"},\"colorscale\":[[0.0,\"#0d0887\"],[0.1111111111111111,\"#46039f\"],[0.2222222222222222,\"#7201a8\"],[0.3333333333333333,\"#9c179e\"],[0.4444444444444444,\"#bd3786\"],[0.5555555555555556,\"#d8576b\"],[0.6666666666666666,\"#ed7953\"],[0.7777777777777778,\"#fb9f3a\"],[0.8888888888888888,\"#fdca26\"],[1.0,\"#f0f921\"]],\"type\":\"histogram2d\"}],\"histogram\":[{\"marker\":{\"pattern\":{\"fillmode\":\"overlay\",\"size\":10,\"solidity\":0.2}},\"type\":\"histogram\"}],\"mesh3d\":[{\"colorbar\":{\"outlinewidth\":0,\"ticks\":\"\"},\"type\":\"mesh3d\"}],\"parcoords\":[{\"line\":{\"colorbar\":{\"outlinewidth\":0,\"ticks\":\"\"}},\"type\":\"parcoords\"}],\"pie\":[{\"automargin\":true,\"type\":\"pie\"}],\"scatter3d\":[{\"line\":{\"colorbar\":{\"outlinewidth\":0,\"ticks\":\"\"}},\"marker\":{\"colorbar\":{\"outlinewidth\":0,\"ticks\":\"\"}},\"type\":\"scatter3d\"}],\"scattercarpet\":[{\"marker\":{\"colorbar\":{\"outlinewidth\":0,\"ticks\":\"\"}},\"type\":\"scattercarpet\"}],\"scattergeo\":[{\"marker\":{\"colorbar\":{\"outlinewidth\":0,\"ticks\":\"\"}},\"type\":\"scattergeo\"}],\"scattergl\":[{\"marker\":{\"colorbar\":{\"outlinewidth\":0,\"ticks\":\"\"}},\"type\":\"scattergl\"}],\"scattermapbox\":[{\"marker\":{\"colorbar\":{\"outlinewidth\":0,\"ticks\":\"\"}},\"type\":\"scattermapbox\"}],\"scatterpolargl\":[{\"marker\":{\"colorbar\":{\"outlinewidth\":0,\"ticks\":\"\"}},\"type\":\"scatterpolargl\"}],\"scatterpolar\":[{\"marker\":{\"colorbar\":{\"outlinewidth\":0,\"ticks\":\"\"}},\"type\":\"scatterpolar\"}],\"scatter\":[{\"fillpattern\":{\"fillmode\":\"overlay\",\"size\":10,\"solidity\":0.2},\"type\":\"scatter\"}],\"scatterternary\":[{\"marker\":{\"colorbar\":{\"outlinewidth\":0,\"ticks\":\"\"}},\"type\":\"scatterternary\"}],\"surface\":[{\"colorbar\":{\"outlinewidth\":0,\"ticks\":\"\"},\"colorscale\":[[0.0,\"#0d0887\"],[0.1111111111111111,\"#46039f\"],[0.2222222222222222,\"#7201a8\"],[0.3333333333333333,\"#9c179e\"],[0.4444444444444444,\"#bd3786\"],[0.5555555555555556,\"#d8576b\"],[0.6666666666666666,\"#ed7953\"],[0.7777777777777778,\"#fb9f3a\"],[0.8888888888888888,\"#fdca26\"],[1.0,\"#f0f921\"]],\"type\":\"surface\"}],\"table\":[{\"cells\":{\"fill\":{\"color\":\"#EBF0F8\"},\"line\":{\"color\":\"white\"}},\"header\":{\"fill\":{\"color\":\"#C8D4E3\"},\"line\":{\"color\":\"white\"}},\"type\":\"table\"}]},\"layout\":{\"annotationdefaults\":{\"arrowcolor\":\"#2a3f5f\",\"arrowhead\":0,\"arrowwidth\":1},\"autotypenumbers\":\"strict\",\"coloraxis\":{\"colorbar\":{\"outlinewidth\":0,\"ticks\":\"\"}},\"colorscale\":{\"diverging\":[[0,\"#8e0152\"],[0.1,\"#c51b7d\"],[0.2,\"#de77ae\"],[0.3,\"#f1b6da\"],[0.4,\"#fde0ef\"],[0.5,\"#f7f7f7\"],[0.6,\"#e6f5d0\"],[0.7,\"#b8e186\"],[0.8,\"#7fbc41\"],[0.9,\"#4d9221\"],[1,\"#276419\"]],\"sequential\":[[0.0,\"#0d0887\"],[0.1111111111111111,\"#46039f\"],[0.2222222222222222,\"#7201a8\"],[0.3333333333333333,\"#9c179e\"],[0.4444444444444444,\"#bd3786\"],[0.5555555555555556,\"#d8576b\"],[0.6666666666666666,\"#ed7953\"],[0.7777777777777778,\"#fb9f3a\"],[0.8888888888888888,\"#fdca26\"],[1.0,\"#f0f921\"]],\"sequentialminus\":[[0.0,\"#0d0887\"],[0.1111111111111111,\"#46039f\"],[0.2222222222222222,\"#7201a8\"],[0.3333333333333333,\"#9c179e\"],[0.4444444444444444,\"#bd3786\"],[0.5555555555555556,\"#d8576b\"],[0.6666666666666666,\"#ed7953\"],[0.7777777777777778,\"#fb9f3a\"],[0.8888888888888888,\"#fdca26\"],[1.0,\"#f0f921\"]]},\"colorway\":[\"#636efa\",\"#EF553B\",\"#00cc96\",\"#ab63fa\",\"#FFA15A\",\"#19d3f3\",\"#FF6692\",\"#B6E880\",\"#FF97FF\",\"#FECB52\"],\"font\":{\"color\":\"#2a3f5f\"},\"geo\":{\"bgcolor\":\"white\",\"lakecolor\":\"white\",\"landcolor\":\"#E5ECF6\",\"showlakes\":true,\"showland\":true,\"subunitcolor\":\"white\"},\"hoverlabel\":{\"align\":\"left\"},\"hovermode\":\"closest\",\"mapbox\":{\"style\":\"light\"},\"paper_bgcolor\":\"white\",\"plot_bgcolor\":\"#E5ECF6\",\"polar\":{\"angularaxis\":{\"gridcolor\":\"white\",\"linecolor\":\"white\",\"ticks\":\"\"},\"bgcolor\":\"#E5ECF6\",\"radialaxis\":{\"gridcolor\":\"white\",\"linecolor\":\"white\",\"ticks\":\"\"}},\"scene\":{\"xaxis\":{\"backgroundcolor\":\"#E5ECF6\",\"gridcolor\":\"white\",\"gridwidth\":2,\"linecolor\":\"white\",\"showbackground\":true,\"ticks\":\"\",\"zerolinecolor\":\"white\"},\"yaxis\":{\"backgroundcolor\":\"#E5ECF6\",\"gridcolor\":\"white\",\"gridwidth\":2,\"linecolor\":\"white\",\"showbackground\":true,\"ticks\":\"\",\"zerolinecolor\":\"white\"},\"zaxis\":{\"backgroundcolor\":\"#E5ECF6\",\"gridcolor\":\"white\",\"gridwidth\":2,\"linecolor\":\"white\",\"showbackground\":true,\"ticks\":\"\",\"zerolinecolor\":\"white\"}},\"shapedefaults\":{\"line\":{\"color\":\"#2a3f5f\"}},\"ternary\":{\"aaxis\":{\"gridcolor\":\"white\",\"linecolor\":\"white\",\"ticks\":\"\"},\"baxis\":{\"gridcolor\":\"white\",\"linecolor\":\"white\",\"ticks\":\"\"},\"bgcolor\":\"#E5ECF6\",\"caxis\":{\"gridcolor\":\"white\",\"linecolor\":\"white\",\"ticks\":\"\"}},\"title\":{\"x\":0.05},\"xaxis\":{\"automargin\":true,\"gridcolor\":\"white\",\"linecolor\":\"white\",\"ticks\":\"\",\"title\":{\"standoff\":15},\"zerolinecolor\":\"white\",\"zerolinewidth\":2},\"yaxis\":{\"automargin\":true,\"gridcolor\":\"white\",\"linecolor\":\"white\",\"ticks\":\"\",\"title\":{\"standoff\":15},\"zerolinecolor\":\"white\",\"zerolinewidth\":2}}},\"title\":{\"text\":\"Total Production of Food 1993-2013\"}},                        {\"responsive\": true}                    ).then(function(){\n",
       "                            \n",
       "var gd = document.getElementById('edf42ddf-c17b-4586-8c5c-e720464eb1f4');\n",
       "var x = new MutationObserver(function (mutations, observer) {{\n",
       "        var display = window.getComputedStyle(gd).display;\n",
       "        if (!display || display === 'none') {{\n",
       "            console.log([gd, 'removed!']);\n",
       "            Plotly.purge(gd);\n",
       "            observer.disconnect();\n",
       "        }}\n",
       "}});\n",
       "\n",
       "// Listen for the removal of the full notebook cells\n",
       "var notebookContainer = gd.closest('#notebook-container');\n",
       "if (notebookContainer) {{\n",
       "    x.observe(notebookContainer, {childList: true});\n",
       "}}\n",
       "\n",
       "// Listen for the clearing of the current output cell\n",
       "var outputEl = gd.closest('.output');\n",
       "if (outputEl) {{\n",
       "    x.observe(outputEl, {childList: true});\n",
       "}}\n",
       "\n",
       "                        })                };                });            </script>        </div>"
      ]
     },
     "metadata": {},
     "output_type": "display_data"
    }
   ],
   "source": [
    "import plotly.graph_objects as geo\n",
    "\n",
    "data_ = dict(type = 'choropleth',\n",
    "locations = d['Area'],\n",
    "locationmode = 'country names',\n",
    "z = d['Total'],\n",
    "text = d['Area'],\n",
    "colorbar = {'title':'Tons of food'})\n",
    "layout = dict(title = 'Total Production of Food 1993-2013',\n",
    "geo = dict(showframe = False,\n",
    "projection = {'type': 'mercator'}))\n",
    "choromap3 = geo.Figure(data = [data_], layout=layout)\n",
    "iplot(choromap3)"
   ]
  },
  {
   "cell_type": "markdown",
   "metadata": {},
   "source": [
    "### DATA FOR CLUSTERING"
   ]
  },
  {
   "cell_type": "code",
   "execution_count": 22,
   "metadata": {
    "ExecuteTime": {
     "end_time": "2020-11-07T09:42:52.465779Z",
     "start_time": "2020-11-07T09:42:52.445791Z"
    }
   },
   "outputs": [
    {
     "data": {
      "text/html": [
       "<div>\n",
       "<style scoped>\n",
       "    .dataframe tbody tr th:only-of-type {\n",
       "        vertical-align: middle;\n",
       "    }\n",
       "\n",
       "    .dataframe tbody tr th {\n",
       "        vertical-align: top;\n",
       "    }\n",
       "\n",
       "    .dataframe thead th {\n",
       "        text-align: right;\n",
       "    }\n",
       "</style>\n",
       "<table border=\"1\" class=\"dataframe\">\n",
       "  <thead>\n",
       "    <tr style=\"text-align: right;\">\n",
       "      <th></th>\n",
       "      <th>Total</th>\n",
       "      <th>Surface</th>\n",
       "      <th>Population</th>\n",
       "    </tr>\n",
       "  </thead>\n",
       "  <tbody>\n",
       "    <tr>\n",
       "      <th>0</th>\n",
       "      <td>326921.0</td>\n",
       "      <td>65286.0</td>\n",
       "      <td>35530.081</td>\n",
       "    </tr>\n",
       "    <tr>\n",
       "      <th>1</th>\n",
       "      <td>120172.0</td>\n",
       "      <td>2740.0</td>\n",
       "      <td>2930.187</td>\n",
       "    </tr>\n",
       "    <tr>\n",
       "      <th>2</th>\n",
       "      <td>896114.0</td>\n",
       "      <td>238174.0</td>\n",
       "      <td>41318.142</td>\n",
       "    </tr>\n",
       "    <tr>\n",
       "      <th>3</th>\n",
       "      <td>352564.0</td>\n",
       "      <td>124670.0</td>\n",
       "      <td>29784.193</td>\n",
       "    </tr>\n",
       "    <tr>\n",
       "      <th>4</th>\n",
       "      <td>2079.0</td>\n",
       "      <td>44.0</td>\n",
       "      <td>102.012</td>\n",
       "    </tr>\n",
       "  </tbody>\n",
       "</table>\n",
       "</div>"
      ],
      "text/plain": [
       "      Total   Surface  Population\n",
       "0  326921.0   65286.0   35530.081\n",
       "1  120172.0    2740.0    2930.187\n",
       "2  896114.0  238174.0   41318.142\n",
       "3  352564.0  124670.0   29784.193\n",
       "4    2079.0      44.0     102.012"
      ]
     },
     "execution_count": 22,
     "metadata": {},
     "output_type": "execute_result"
    }
   ],
   "source": [
    "X = pd.DataFrame({'Total': d['Total'], 'Surface' : d['Surface'], 'Population' : d['Population']})\n",
    "X.head()"
   ]
  },
  {
   "cell_type": "markdown",
   "metadata": {},
   "source": [
    "**Statistical overview of the data**\n",
    "\n",
    "The following statistical measures can be seen for each column using the describe-function of DataFrame of the pandas library:\n",
    "\n",
    "* count: number of samples\n",
    "* mean: the mean of this attribute among all samples\n",
    "* std: the standard deviation of this attribute\n",
    "* min: the minimal value of this attribute\n",
    "* 25%: the lower percentile\n",
    "* 50%: the median\n",
    "* 75%: the upper percentile\n",
    "* max: the maximal value of this attribute"
   ]
  },
  {
   "cell_type": "code",
   "execution_count": 23,
   "metadata": {
    "ExecuteTime": {
     "end_time": "2020-11-07T09:42:53.075557Z",
     "start_time": "2020-11-07T09:42:53.032982Z"
    }
   },
   "outputs": [
    {
     "data": {
      "text/html": [
       "<div>\n",
       "<style scoped>\n",
       "    .dataframe tbody tr th:only-of-type {\n",
       "        vertical-align: middle;\n",
       "    }\n",
       "\n",
       "    .dataframe tbody tr th {\n",
       "        vertical-align: top;\n",
       "    }\n",
       "\n",
       "    .dataframe thead th {\n",
       "        text-align: right;\n",
       "    }\n",
       "</style>\n",
       "<table border=\"1\" class=\"dataframe\">\n",
       "  <thead>\n",
       "    <tr style=\"text-align: right;\">\n",
       "      <th></th>\n",
       "      <th>Total</th>\n",
       "      <th>Surface</th>\n",
       "      <th>Population</th>\n",
       "    </tr>\n",
       "  </thead>\n",
       "  <tbody>\n",
       "    <tr>\n",
       "      <th>count</th>\n",
       "      <td>1.740000e+02</td>\n",
       "      <td>1.740000e+02</td>\n",
       "      <td>1.740000e+02</td>\n",
       "    </tr>\n",
       "    <tr>\n",
       "      <th>mean</th>\n",
       "      <td>9.536121e+05</td>\n",
       "      <td>6.977175e+04</td>\n",
       "      <td>4.233778e+04</td>\n",
       "    </tr>\n",
       "    <tr>\n",
       "      <th>std</th>\n",
       "      <td>3.500840e+06</td>\n",
       "      <td>1.925312e+05</td>\n",
       "      <td>1.516214e+05</td>\n",
       "    </tr>\n",
       "    <tr>\n",
       "      <th>min</th>\n",
       "      <td>1.009000e+03</td>\n",
       "      <td>0.000000e+00</td>\n",
       "      <td>5.534500e+01</td>\n",
       "    </tr>\n",
       "    <tr>\n",
       "      <th>25%</th>\n",
       "      <td>5.818175e+04</td>\n",
       "      <td>2.802250e+03</td>\n",
       "      <td>2.622920e+03</td>\n",
       "    </tr>\n",
       "    <tr>\n",
       "      <th>50%</th>\n",
       "      <td>1.859880e+05</td>\n",
       "      <td>1.295350e+04</td>\n",
       "      <td>9.585345e+03</td>\n",
       "    </tr>\n",
       "    <tr>\n",
       "      <th>75%</th>\n",
       "      <td>6.028142e+05</td>\n",
       "      <td>5.237000e+04</td>\n",
       "      <td>3.116425e+04</td>\n",
       "    </tr>\n",
       "    <tr>\n",
       "      <th>max</th>\n",
       "      <td>3.900309e+07</td>\n",
       "      <td>1.637687e+06</td>\n",
       "      <td>1.409517e+06</td>\n",
       "    </tr>\n",
       "  </tbody>\n",
       "</table>\n",
       "</div>"
      ],
      "text/plain": [
       "              Total       Surface    Population\n",
       "count  1.740000e+02  1.740000e+02  1.740000e+02\n",
       "mean   9.536121e+05  6.977175e+04  4.233778e+04\n",
       "std    3.500840e+06  1.925312e+05  1.516214e+05\n",
       "min    1.009000e+03  0.000000e+00  5.534500e+01\n",
       "25%    5.818175e+04  2.802250e+03  2.622920e+03\n",
       "50%    1.859880e+05  1.295350e+04  9.585345e+03\n",
       "75%    6.028142e+05  5.237000e+04  3.116425e+04\n",
       "max    3.900309e+07  1.637687e+06  1.409517e+06"
      ]
     },
     "execution_count": 23,
     "metadata": {},
     "output_type": "execute_result"
    }
   ],
   "source": [
    "X.describe()"
   ]
  },
  {
   "cell_type": "markdown",
   "metadata": {},
   "source": [
    "### BOXPLOT"
   ]
  },
  {
   "cell_type": "code",
   "execution_count": 24,
   "metadata": {
    "ExecuteTime": {
     "end_time": "2020-11-07T09:42:54.284153Z",
     "start_time": "2020-11-07T09:42:53.635492Z"
    }
   },
   "outputs": [
    {
     "name": "stderr",
     "output_type": "stream",
     "text": [
      "c:\\Python311\\Lib\\site-packages\\seaborn\\_base.py:1606: UserWarning:\n",
      "\n",
      "Vertical orientation ignored with only `x` specified.\n",
      "\n",
      "c:\\Python311\\Lib\\site-packages\\seaborn\\_base.py:1606: UserWarning:\n",
      "\n",
      "Vertical orientation ignored with only `x` specified.\n",
      "\n",
      "c:\\Python311\\Lib\\site-packages\\seaborn\\_base.py:1606: UserWarning:\n",
      "\n",
      "Vertical orientation ignored with only `x` specified.\n",
      "\n"
     ]
    },
    {
     "data": {
      "image/png": "[encoded data removed]",
      "text/plain": [
       "<Figure size 2000x2600 with 3 Axes>"
      ]
     },
     "metadata": {},
     "output_type": "display_data"
    }
   ],
   "source": [
    "fig = plt.figure(figsize=(20,26))\n",
    "\n",
    "ax1 = fig.add_subplot(231)\n",
    "ax1=sns.boxplot(x='Total',data=X, orient='v') \n",
    "ax2 = fig.add_subplot(232)\n",
    "ax2=sns.boxplot(x='Surface',data=X,orient='v')\n",
    "ax3 = fig.add_subplot(233)\n",
    "ax3=sns.boxplot(x='Population',data=X, orient='v')"
   ]
  },
  {
   "cell_type": "markdown",
   "metadata": {},
   "source": [
    "#### COMMENT\n",
    "\n",
    "From boxplot graphs is possible to see that there are some **outliers** that will surely affect the clustering. \n",
    "\n",
    "In order to cluster better the Countries a solution could be to cut-off bigger outliers, for example China and India"
   ]
  },
  {
   "cell_type": "markdown",
   "metadata": {},
   "source": [
    "### CORRELATION OF VARIABLES\n",
    "The correlation matrix is simply a table of correlations. The most common correlation coefficient is Pearson’s correlation coefficient, which compares two interval variables or ratio variables, and it's used in this case."
   ]
  },
  {
   "cell_type": "code",
   "execution_count": 25,
   "metadata": {
    "ExecuteTime": {
     "end_time": "2020-11-07T09:42:54.637214Z",
     "start_time": "2020-11-07T09:42:54.289159Z"
    }
   },
   "outputs": [
    {
     "data": {
      "text/plain": [
       "<Axes: >"
      ]
     },
     "execution_count": 25,
     "metadata": {},
     "output_type": "execute_result"
    },
    {
     "data": {
      "image/png": "[encoded data removed]",
      "text/plain": [
       "<Figure size 600x600 with 2 Axes>"
      ]
     },
     "metadata": {},
     "output_type": "display_data"
    }
   ],
   "source": [
    "f,ax = plt.subplots(figsize=(6, 6))\n",
    "sns.heatmap(X.corr(), annot=True, linewidths=.5, fmt= '.1f',ax=ax)"
   ]
  },
  {
   "cell_type": "markdown",
   "metadata": {},
   "source": [
    "Population and Total sum of productive have a correlation value of ** 0.9 **<br>\n",
    "This means that countries that are a lot populous produce a lot of food in order to feed them all.\n",
    "\n",
    "Population and Surface instead have a correlation value of ** 0.4 **<br>\n",
    "Is reasonable to unsterstand why they are not correlated\n",
    "\n",
    "Total amount of Food and Surface have a correlation value of ** 0.5 **<br>\n",
    "Not all the surface of a country is cultivable"
   ]
  },
  {
   "cell_type": "markdown",
   "metadata": {},
   "source": [
    "# K-MEANS CLUSTERING\n",
    "K-Means clustering is one of the simplest and most commonly used clustering algorithms.\n",
    "It tries to find cluster centers that are representative of certain regions of the\n",
    "data. The algorithm alternates between two steps: assigning each data point to the\n",
    "closest cluster center, and then setting each cluster center as the mean of the data\n",
    "points that are assigned to it. The algorithm is finished when the assignment of\n",
    "instances to clusters no longer changes.\n",
    "\n",
    "It's a partitional complete approach, it requires a metric (how to measure distance) and data needs to be normalized. \n",
    "The most common way to measure distances is with sum of squared error: \n",
    "\n",
    "$$\n",
    "SSE = \\sum_{i=0}^n d(x_i, c_j)^2\n",
    "$$\n",
    "\n",
    "K-Means has the advantage that it’s pretty fast, as all we’re really doing is computing the distances between points and group centers. It thus has a linear complexity O(n)"
   ]
  },
  {
   "cell_type": "markdown",
   "metadata": {},
   "source": [
    "## ELBOW METHOD\n",
    "It's possible to find the best value of K on a plot of SSE at varing of number of K, from the graph you choose the value of K for which there is the higher slope in our case K=2"
   ]
  },
  {
   "cell_type": "code",
   "execution_count": 26,
   "metadata": {
    "ExecuteTime": {
     "end_time": "2020-11-07T09:42:56.036858Z",
     "start_time": "2020-11-07T09:42:55.342590Z"
    }
   },
   "outputs": [
    {
     "data": {
      "image/png": "[encoded data removed]",
      "text/plain": [
       "<Figure size 640x480 with 1 Axes>"
      ]
     },
     "metadata": {},
     "output_type": "display_data"
    }
   ],
   "source": [
    "wcss = []\n",
    "for i in range(1,8):\n",
    "    kmeans = KMeans(n_clusters=i,init='k-means++',max_iter=300,n_init=7,random_state=0)\n",
    "    kmeans.fit(X)\n",
    "    wcss.append(kmeans.inertia_)\n",
    "plt.plot(range(1,8),wcss)\n",
    "plt.title('The Elbow Method')\n",
    "plt.xlabel('Number of clusters')\n",
    "plt.ylabel('WCSS')\n",
    "plt.show()"
   ]
  },
  {
   "cell_type": "markdown",
   "metadata": {},
   "source": [
    "## K-MEANS"
   ]
  },
  {
   "cell_type": "code",
   "execution_count": 27,
   "metadata": {
    "ExecuteTime": {
     "end_time": "2020-11-07T09:42:56.134864Z",
     "start_time": "2020-11-07T09:42:56.127865Z"
    }
   },
   "outputs": [],
   "source": [
    "def K_Means(X, n):\n",
    "    scaler = StandardScaler()\n",
    "    X = scaler.fit_transform(X)\n",
    "    model = KMeans(n)\n",
    "    model.fit(X)\n",
    "    clust_labels = model.predict(X)\n",
    "    cent = model.cluster_centers_\n",
    "    return (clust_labels, cent)"
   ]
  },
  {
   "cell_type": "markdown",
   "metadata": {},
   "source": [
    "### N_CLUSTER = 2"
   ]
  },
  {
   "cell_type": "code",
   "execution_count": 28,
   "metadata": {
    "ExecuteTime": {
     "end_time": "2020-11-07T09:43:00.689080Z",
     "start_time": "2020-11-07T09:43:00.630060Z"
    }
   },
   "outputs": [
    {
     "name": "stderr",
     "output_type": "stream",
     "text": [
      "c:\\Python311\\Lib\\site-packages\\sklearn\\cluster\\_kmeans.py:870: FutureWarning:\n",
      "\n",
      "The default value of `n_init` will change from 10 to 'auto' in 1.4. Set the value of `n_init` explicitly to suppress the warning\n",
      "\n"
     ]
    }
   ],
   "source": [
    "clust_labels, cent = K_Means(X, 2)\n",
    "kmeans = pd.DataFrame(clust_labels)\n",
    "X.insert((X.shape[1]),'kmeans',kmeans)"
   ]
  },
  {
   "cell_type": "code",
   "execution_count": 29,
   "metadata": {
    "ExecuteTime": {
     "end_time": "2020-11-07T09:43:02.297187Z",
     "start_time": "2020-11-07T09:43:02.288200Z"
    }
   },
   "outputs": [
    {
     "data": {
      "text/plain": [
       "array([0, 0, 0, 0, 0, 0, 0, 0, 0, 0, 0, 0, 0, 0, 0, 0, 0, 0, 0, 0, 0, 0,\n",
       "       0, 0, 0, 0, 0, 0, 0, 0, 0, 0, 0, 0, 0, 1, 0, 0, 0, 0, 0, 0, 0, 0,\n",
       "       0, 0, 0, 0, 0, 0, 0, 0, 0, 0, 0, 0, 0, 0, 0, 0, 0, 0, 0, 0, 0, 0,\n",
       "       0, 0, 0, 0, 0, 0, 0, 0, 1, 0, 0, 0, 0, 0, 0, 0, 0, 0, 0, 0, 0, 0,\n",
       "       0, 0, 0, 0, 0, 0, 0, 0, 0, 0, 0, 0, 0, 0, 0, 0, 0, 0, 0, 0, 0, 0,\n",
       "       0, 0, 0, 0, 0, 0, 0, 0, 0, 0, 0, 0, 0, 0, 0, 0, 0, 0, 0, 0, 0, 0,\n",
       "       0, 0, 0, 0, 0, 0, 0, 0, 0, 0, 0, 0, 0, 0, 0, 0, 0, 0, 0, 0, 0, 0,\n",
       "       0, 0, 0, 0, 0, 0, 0, 0, 0, 0, 0, 0, 0, 0, 0, 0, 0, 0, 0, 0])"
      ]
     },
     "execution_count": 29,
     "metadata": {},
     "output_type": "execute_result"
    }
   ],
   "source": [
    "clust_labels"
   ]
  },
  {
   "cell_type": "code",
   "execution_count": 30,
   "metadata": {
    "ExecuteTime": {
     "end_time": "2020-11-07T09:43:02.971510Z",
     "start_time": "2020-11-07T09:43:02.947491Z"
    },
    "_kg_hide-input": true
   },
   "outputs": [],
   "source": [
    "def Plot3dClustering(n, X, type_c): \n",
    "    data = []\n",
    "    clusters = []\n",
    "    colors = ['rgb(228,26,28)','rgb(55,126,184)','rgb(77,175,74)']\n",
    "\n",
    "    for i in range(n):\n",
    "        name = i\n",
    "        color = colors[i]\n",
    "        x = X[ X[type_c] == i ]['Total']\n",
    "        y = X[ X[type_c] == i ]['Population']\n",
    "        z = X[ X[type_c] == i ]['Surface']\n",
    "\n",
    "        trace = dict(\n",
    "            name = name,\n",
    "            x = x, y = y, z = z,\n",
    "            type = \"scatter3d\",    \n",
    "            mode = 'markers',\n",
    "            marker = dict( size=4, color=color, line=dict(width=0) ) )\n",
    "        data.append( trace )\n",
    "\n",
    "        cluster = dict(\n",
    "            color = color,\n",
    "            opacity = 0.1,\n",
    "            type = \"mesh3d\", \n",
    "            alphahull = 7,\n",
    "            name = \"y\",\n",
    "            x = x, y = y, z = z )\n",
    "        data.append( cluster )\n",
    "\n",
    "    layout = dict(\n",
    "        width=800,\n",
    "        height=550,\n",
    "        autosize=False,\n",
    "        title='3D Clustering Plot',\n",
    "        scene=dict(\n",
    "            xaxis=dict(\n",
    "                gridcolor='rgb(255, 255, 255)',\n",
    "                zerolinecolor='rgb(255, 255, 255)',\n",
    "                showbackground=True,\n",
    "                title='Total Production',\n",
    "                backgroundcolor='rgb(230, 230,230)'\n",
    "            ),\n",
    "            yaxis=dict(\n",
    "                gridcolor='rgb(255, 255, 255)',\n",
    "                zerolinecolor='rgb(255, 255, 255)',\n",
    "                showbackground=True,\n",
    "                title='Population',\n",
    "                backgroundcolor='rgb(230, 230,230)'\n",
    "            ),\n",
    "            zaxis=dict(\n",
    "                gridcolor='rgb(255, 255, 255)',\n",
    "                zerolinecolor='rgb(255, 255, 255)',\n",
    "                showbackground=True,\n",
    "                title='Surface Area',\n",
    "                backgroundcolor='rgb(230, 230,230)'\n",
    "            ),\n",
    "            aspectratio = dict( x=1, y=1, z=0.7 ),\n",
    "            aspectmode = 'manual'        \n",
    "        ),\n",
    "    )\n",
    "\n",
    "    fig = dict(data=data, layout=layout)\n",
    "    iplot(fig, filename='total_surface_population_plot', validate=False)\n"
   ]
  },
  {
   "cell_type": "code",
   "execution_count": 31,
   "metadata": {
    "ExecuteTime": {
     "end_time": "2020-11-07T09:43:03.689186Z",
     "start_time": "2020-11-07T09:43:03.651446Z"
    }
   },
   "outputs": [
    {
     "data": {
      "application/vnd.plotly.v1+json": {
       "config": {
        "linkText": "Export to plot.ly",
        "plotlyServerURL": "https://plot.ly",
        "showLink": false
       },
       "data": [
        {
         "marker": {
          "color": "rgb(228,26,28)",
          "line": {
           "width": 0
          },
          "size": 4
         },
         "mode": "markers",
         "name": 0,
         "type": "scatter3d",
         "x": [
          326921,
          120172,
          896114,
          352564,
          2079,
          1260870,
          93011,
          779031,
          354176,
          234677,
          10534,
          1797998,
          7764,
          366256,
          301287,
          7560,
          179902,
          2027,
          186292,
          127086,
          38010,
          5363608,
          9063,
          232529,
          290771,
          10269,
          185684,
          438739,
          1319821,
          80357,
          122502,
          442651,
          199523,
          11460,
          614834,
          1114673,
          79749,
          114224,
          154677,
          343217,
          30030,
          393672,
          466487,
          464102,
          229300,
          10936,
          2888,
          209343,
          320778,
          2255352,
          127739,
          51901,
          22362,
          908083,
          20265,
          217594,
          2499790,
          7358,
          40676,
          21497,
          120486,
          3324458,
          669110,
          538562,
          2511,
          223753,
          187570,
          21351,
          19244,
          138918,
          136890,
          344326,
          11037,
          3932518,
          2123485,
          482171,
          188771,
          262200,
          2593024,
          76638,
          3400471,
          126141,
          505006,
          701186,
          2326,
          77108,
          146567,
          110075,
          81263,
          136665,
          32418,
          53157,
          130558,
          15243,
          316546,
          244860,
          532251,
          7819,
          223695,
          16499,
          56113,
          29633,
          3019528,
          50326,
          11853,
          787088,
          369041,
          763194,
          41060,
          498234,
          710143,
          6282,
          146726,
          82299,
          223057,
          3641538,
          64388,
          182271,
          75669,
          3112101,
          69708,
          155647,
          630532,
          1698382,
          1460041,
          462108,
          1477941,
          108532,
          870340,
          4815293,
          268797,
          1009,
          4491,
          2781,
          5658,
          4321,
          566755,
          165602,
          113940,
          84660,
          165403,
          76559,
          12120,
          1054383,
          1695650,
          360730,
          84646,
          11149,
          377793,
          303248,
          118220,
          1477069,
          15110,
          98826,
          30671,
          309576,
          2563733,
          122484,
          744769,
          1608335,
          147012,
          2423034,
          847789,
          12779748,
          103895,
          683251,
          6059,
          682364,
          1540944,
          281252,
          165288,
          167171
         ],
         "y": [
          35530.081,
          2930.187,
          41318.142,
          29784.193,
          102.012,
          44271.041,
          2930.45,
          24450.561,
          8735.453,
          9827.589,
          395.361,
          164669.751,
          285.719,
          9468.338,
          11429.336,
          374.681,
          11175.692,
          61.349,
          11051.6,
          3507.017,
          2291.661,
          209288.278,
          428.697,
          7084.571,
          19193.382,
          546.388,
          16005.373,
          24053.727,
          36624.199,
          4659.08,
          14899.994,
          18054.726,
          7364.883,
          622.567,
          23626.456,
          49065.615,
          5260.75,
          4905.769,
          4189.353,
          11484.636,
          1179.551,
          10618.303,
          24294.75,
          25490.965,
          5733.551,
          956.985,
          73.925,
          10766.998,
          16624.858,
          97553.151,
          6377.853,
          1309.632,
          1367.254,
          104957.438,
          905.502,
          5523.231,
          64979.548,
          283.007,
          2025.137,
          2100.568,
          3912.061,
          82114.224,
          28833.629,
          11159.773,
          107.825,
          16913.503,
          12717.176,
          1861.283,
          777.859,
          10981.229,
          9265.067,
          9721.559,
          335.025,
          263991.379,
          81162.788,
          38274.618,
          4761.657,
          8321.57,
          59359.9,
          2890.299,
          127484.45,
          9702.353,
          18204.499,
          49699.862,
          116.398,
          4136.528,
          6045.117,
          6858.16,
          1949.67,
          6082.357,
          2233.339,
          4731.906,
          2890.297,
          583.455,
          25570.895,
          18622.104,
          31624.264,
          436.33,
          18541.98,
          430.835,
          4420.184,
          1265.138,
          129163.276,
          3075.647,
          628.96,
          35739.58,
          29668.834,
          53370.609,
          2533.794,
          29304.998,
          17035.938,
          276.255,
          4705.818,
          6217.581,
          21477.348,
          190886.311,
          2083.16,
          5305.383,
          4636.262,
          197015.955,
          4098.587,
          6811.297,
          32165.485,
          104918.09,
          38170.712,
          10329.506,
          50982.212,
          4051.212,
          19679.306,
          143989.754,
          12208.407,
          55.345,
          178.844,
          109.897,
          196.44,
          204.327,
          32938.213,
          15850.567,
          8790.574,
          7557.212,
          5447.662,
          2079.976,
          611.343,
          56717.156,
          46354.321,
          20876.917,
          40533.33,
          563.402,
          9910.701,
          8476.005,
          8921.343,
          69037.513,
          1296.311,
          7797.694,
          1369.125,
          11532.127,
          80745.02,
          5758.075,
          42862.958,
          44222.947,
          9400.145,
          66181.585,
          57310.019,
          324459.463,
          3456.75,
          31910.641,
          276.244,
          31977.065,
          95540.8,
          28250.42,
          17094.13,
          16529.904
         ],
         "z": [
          65286,
          2740,
          238174,
          124670,
          44,
          273669,
          2847,
          768230,
          8253.1,
          8265.9,
          1001,
          13017,
          43,
          20290.8,
          3028,
          2281,
          11276,
          5.4,
          108330,
          5120,
          56673,
          835814,
          527,
          10856,
          27360,
          403,
          17652,
          47271,
          909351,
          62298,
          125920,
          74353.2,
          105,
          3.03,
          3541,
          110950,
          34150,
          5106,
          5596,
          10422,
          924,
          7722,
          31800,
          12041,
          4199,
          2318,
          75,
          4831,
          24836,
          99545,
          2072,
          4347,
          1720,
          100000,
          1827,
          30389,
          54755.7,
          366,
          25767,
          1012,
          6949,
          34888,
          22754,
          12890,
          34,
          10716,
          24572,
          2812,
          19685,
          2756,
          11189,
          9053,
          10025,
          181157,
          162876,
          43412.8,
          6889,
          2164,
          29414,
          1083,
          36456,
          8878,
          269970,
          56914,
          81,
          1782,
          19180,
          23080,
          6219,
          1023,
          3036,
          9632,
          6267.5,
          243,
          58180,
          9428,
          32855,
          30,
          122019,
          32,
          103070,
          203,
          194395,
          155356,
          1345,
          44630,
          78638,
          65308,
          82329,
          14335,
          3369,
          1828,
          26331,
          12034,
          126670,
          91077,
          2522,
          36512.3,
          30950,
          77088,
          7434,
          39730,
          128000,
          29817,
          30621,
          9160.52,
          9742.6,
          3288,
          23003,
          1637687,
          2467,
          26,
          61,
          39,
          283,
          96,
          214969,
          19253,
          8746,
          7218,
          4808.8,
          2014,
          2799,
          121309,
          50021,
          6271,
          0,
          15600,
          40734,
          3951.6,
          13996,
          51089,
          1487,
          5439,
          513,
          15536,
          76963,
          46993,
          20052,
          57932,
          7102,
          24193,
          88580,
          914742,
          17502,
          42540,
          1219,
          88205,
          31007,
          52797,
          74339,
          38685
         ]
        },
        {
         "alphahull": 7,
         "color": "rgb(228,26,28)",
         "name": "y",
         "opacity": 0.1,
         "type": "mesh3d",
         "x": [
          326921,
          120172,
          896114,
          352564,
          2079,
          1260870,
          93011,
          779031,
          354176,
          234677,
          10534,
          1797998,
          7764,
          366256,
          301287,
          7560,
          179902,
          2027,
          186292,
          127086,
          38010,
          5363608,
          9063,
          232529,
          290771,
          10269,
          185684,
          438739,
          1319821,
          80357,
          122502,
          442651,
          199523,
          11460,
          614834,
          1114673,
          79749,
          114224,
          154677,
          343217,
          30030,
          393672,
          466487,
          464102,
          229300,
          10936,
          2888,
          209343,
          320778,
          2255352,
          127739,
          51901,
          22362,
          908083,
          20265,
          217594,
          2499790,
          7358,
          40676,
          21497,
          120486,
          3324458,
          669110,
          538562,
          2511,
          223753,
          187570,
          21351,
          19244,
          138918,
          136890,
          344326,
          11037,
          3932518,
          2123485,
          482171,
          188771,
          262200,
          2593024,
          76638,
          3400471,
          126141,
          505006,
          701186,
          2326,
          77108,
          146567,
          110075,
          81263,
          136665,
          32418,
          53157,
          130558,
          15243,
          316546,
          244860,
          532251,
          7819,
          223695,
          16499,
          56113,
          29633,
          3019528,
          50326,
          11853,
          787088,
          369041,
          763194,
          41060,
          498234,
          710143,
          6282,
          146726,
          82299,
          223057,
          3641538,
          64388,
          182271,
          75669,
          3112101,
          69708,
          155647,
          630532,
          1698382,
          1460041,
          462108,
          1477941,
          108532,
          870340,
          4815293,
          268797,
          1009,
          4491,
          2781,
          5658,
          4321,
          566755,
          165602,
          113940,
          84660,
          165403,
          76559,
          12120,
          1054383,
          1695650,
          360730,
          84646,
          11149,
          377793,
          303248,
          118220,
          1477069,
          15110,
          98826,
          30671,
          309576,
          2563733,
          122484,
          744769,
          1608335,
          147012,
          2423034,
          847789,
          12779748,
          103895,
          683251,
          6059,
          682364,
          1540944,
          281252,
          165288,
          167171
         ],
         "y": [
          35530.081,
          2930.187,
          41318.142,
          29784.193,
          102.012,
          44271.041,
          2930.45,
          24450.561,
          8735.453,
          9827.589,
          395.361,
          164669.751,
          285.719,
          9468.338,
          11429.336,
          374.681,
          11175.692,
          61.349,
          11051.6,
          3507.017,
          2291.661,
          209288.278,
          428.697,
          7084.571,
          19193.382,
          546.388,
          16005.373,
          24053.727,
          36624.199,
          4659.08,
          14899.994,
          18054.726,
          7364.883,
          622.567,
          23626.456,
          49065.615,
          5260.75,
          4905.769,
          4189.353,
          11484.636,
          1179.551,
          10618.303,
          24294.75,
          25490.965,
          5733.551,
          956.985,
          73.925,
          10766.998,
          16624.858,
          97553.151,
          6377.853,
          1309.632,
          1367.254,
          104957.438,
          905.502,
          5523.231,
          64979.548,
          283.007,
          2025.137,
          2100.568,
          3912.061,
          82114.224,
          28833.629,
          11159.773,
          107.825,
          16913.503,
          12717.176,
          1861.283,
          777.859,
          10981.229,
          9265.067,
          9721.559,
          335.025,
          263991.379,
          81162.788,
          38274.618,
          4761.657,
          8321.57,
          59359.9,
          2890.299,
          127484.45,
          9702.353,
          18204.499,
          49699.862,
          116.398,
          4136.528,
          6045.117,
          6858.16,
          1949.67,
          6082.357,
          2233.339,
          4731.906,
          2890.297,
          583.455,
          25570.895,
          18622.104,
          31624.264,
          436.33,
          18541.98,
          430.835,
          4420.184,
          1265.138,
          129163.276,
          3075.647,
          628.96,
          35739.58,
          29668.834,
          53370.609,
          2533.794,
          29304.998,
          17035.938,
          276.255,
          4705.818,
          6217.581,
          21477.348,
          190886.311,
          2083.16,
          5305.383,
          4636.262,
          197015.955,
          4098.587,
          6811.297,
          32165.485,
          104918.09,
          38170.712,
          10329.506,
          50982.212,
          4051.212,
          19679.306,
          143989.754,
          12208.407,
          55.345,
          178.844,
          109.897,
          196.44,
          204.327,
          32938.213,
          15850.567,
          8790.574,
          7557.212,
          5447.662,
          2079.976,
          611.343,
          56717.156,
          46354.321,
          20876.917,
          40533.33,
          563.402,
          9910.701,
          8476.005,
          8921.343,
          69037.513,
          1296.311,
          7797.694,
          1369.125,
          11532.127,
          80745.02,
          5758.075,
          42862.958,
          44222.947,
          9400.145,
          66181.585,
          57310.019,
          324459.463,
          3456.75,
          31910.641,
          276.244,
          31977.065,
          95540.8,
          28250.42,
          17094.13,
          16529.904
         ],
         "z": [
          65286,
          2740,
          238174,
          124670,
          44,
          273669,
          2847,
          768230,
          8253.1,
          8265.9,
          1001,
          13017,
          43,
          20290.8,
          3028,
          2281,
          11276,
          5.4,
          108330,
          5120,
          56673,
          835814,
          527,
          10856,
          27360,
          403,
          17652,
          47271,
          909351,
          62298,
          125920,
          74353.2,
          105,
          3.03,
          3541,
          110950,
          34150,
          5106,
          5596,
          10422,
          924,
          7722,
          31800,
          12041,
          4199,
          2318,
          75,
          4831,
          24836,
          99545,
          2072,
          4347,
          1720,
          100000,
          1827,
          30389,
          54755.7,
          366,
          25767,
          1012,
          6949,
          34888,
          22754,
          12890,
          34,
          10716,
          24572,
          2812,
          19685,
          2756,
          11189,
          9053,
          10025,
          181157,
          162876,
          43412.8,
          6889,
          2164,
          29414,
          1083,
          36456,
          8878,
          269970,
          56914,
          81,
          1782,
          19180,
          23080,
          6219,
          1023,
          3036,
          9632,
          6267.5,
          243,
          58180,
          9428,
          32855,
          30,
          122019,
          32,
          103070,
          203,
          194395,
          155356,
          1345,
          44630,
          78638,
          65308,
          82329,
          14335,
          3369,
          1828,
          26331,
          12034,
          126670,
          91077,
          2522,
          36512.3,
          30950,
          77088,
          7434,
          39730,
          128000,
          29817,
          30621,
          9160.52,
          9742.6,
          3288,
          23003,
          1637687,
          2467,
          26,
          61,
          39,
          283,
          96,
          214969,
          19253,
          8746,
          7218,
          4808.8,
          2014,
          2799,
          121309,
          50021,
          6271,
          0,
          15600,
          40734,
          3951.6,
          13996,
          51089,
          1487,
          5439,
          513,
          15536,
          76963,
          46993,
          20052,
          57932,
          7102,
          24193,
          88580,
          914742,
          17502,
          42540,
          1219,
          88205,
          31007,
          52797,
          74339,
          38685
         ]
        },
        {
         "marker": {
          "color": "rgb(55,126,184)",
          "line": {
           "width": 0
          },
          "size": 4
         },
         "mode": "markers",
         "name": 1,
         "type": "scatter3d",
         "x": [
          39003086,
          19900340
         ],
         "y": [
          1409517.397,
          1339180.127
         ],
         "z": [
          938821.1,
          297319
         ]
        },
        {
         "alphahull": 7,
         "color": "rgb(55,126,184)",
         "name": "y",
         "opacity": 0.1,
         "type": "mesh3d",
         "x": [
          39003086,
          19900340
         ],
         "y": [
          1409517.397,
          1339180.127
         ],
         "z": [
          938821.1,
          297319
         ]
        }
       ],
       "layout": {
        "autosize": false,
        "height": 550,
        "scene": {
         "aspectmode": "manual",
         "aspectratio": {
          "x": 1,
          "y": 1,
          "z": 0.7
         },
         "xaxis": {
          "backgroundcolor": "rgb(230, 230,230)",
          "gridcolor": "rgb(255, 255, 255)",
          "showbackground": true,
          "title": "Total Production",
          "zerolinecolor": "rgb(255, 255, 255)"
         },
         "yaxis": {
          "backgroundcolor": "rgb(230, 230,230)",
          "gridcolor": "rgb(255, 255, 255)",
          "showbackground": true,
          "title": "Population",
          "zerolinecolor": "rgb(255, 255, 255)"
         },
         "zaxis": {
          "backgroundcolor": "rgb(230, 230,230)",
          "gridcolor": "rgb(255, 255, 255)",
          "showbackground": true,
          "title": "Surface Area",
          "zerolinecolor": "rgb(255, 255, 255)"
         }
        },
        "title": "3D Clustering Plot",
        "width": 800
       }
      },
      "text/html": [
       "<div>                            <div id=\"6161f9fb-6146-4534-999b-7b73a44267dd\" class=\"plotly-graph-div\" style=\"height:550px; width:800px;\"></div>            <script type=\"text/javascript\">                require([\"plotly\"], function(Plotly) {                    window.PLOTLYENV=window.PLOTLYENV || {};                                    if (document.getElementById(\"6161f9fb-6146-4534-999b-7b73a44267dd\")) {                    Plotly.newPlot(                        \"6161f9fb-6146-4534-999b-7b73a44267dd\",                        [{\"name\":0,\"x\":[326921.0,120172.0,896114.0,352564.0,2079.0,1260870.0,93011.0,779031.0,354176.0,234677.0,10534.0,1797998.0,7764.0,366256.0,301287.0,7560.0,179902.0,2027.0,186292.0,127086.0,38010.0,5363608.0,9063.0,232529.0,290771.0,10269.0,185684.0,438739.0,1319821.0,80357.0,122502.0,442651.0,199523.0,11460.0,614834.0,1114673.0,79749.0,114224.0,154677.0,343217.0,30030.0,393672.0,466487.0,464102.0,229300.0,10936.0,2888.0,209343.0,320778.0,2255352.0,127739.0,51901.0,22362.0,908083.0,20265.0,217594.0,2499790.0,7358.0,40676.0,21497.0,120486.0,3324458.0,669110.0,538562.0,2511.0,223753.0,187570.0,21351.0,19244.0,138918.0,136890.0,344326.0,11037.0,3932518.0,2123485.0,482171.0,188771.0,262200.0,2593024.0,76638.0,3400471.0,126141.0,505006.0,701186.0,2326.0,77108.0,146567.0,110075.0,81263.0,136665.0,32418.0,53157.0,130558.0,15243.0,316546.0,244860.0,532251.0,7819.0,223695.0,16499.0,56113.0,29633.0,3019528.0,50326.0,11853.0,787088.0,369041.0,763194.0,41060.0,498234.0,710143.0,6282.0,146726.0,82299.0,223057.0,3641538.0,64388.0,182271.0,75669.0,3112101.0,69708.0,155647.0,630532.0,1698382.0,1460041.0,462108.0,1477941.0,108532.0,870340.0,4815293.0,268797.0,1009.0,4491.0,2781.0,5658.0,4321.0,566755.0,165602.0,113940.0,84660.0,165403.0,76559.0,12120.0,1054383.0,1695650.0,360730.0,84646.0,11149.0,377793.0,303248.0,118220.0,1477069.0,15110.0,98826.0,30671.0,309576.0,2563733.0,122484.0,744769.0,1608335.0,147012.0,2423034.0,847789.0,12779748.0,103895.0,683251.0,6059.0,682364.0,1540944.0,281252.0,165288.0,167171.0],\"y\":[35530.081,2930.187,41318.142,29784.193,102.012,44271.041,2930.45,24450.561,8735.453,9827.589,395.361,164669.751,285.719,9468.338,11429.336,374.681,11175.692,61.349,11051.6,3507.017,2291.661,209288.278,428.697,7084.571,19193.382,546.388,16005.373,24053.727,36624.199,4659.08,14899.994,18054.726,7364.883,622.567,23626.456,49065.615,5260.75,4905.769,4189.353,11484.636,1179.551,10618.303,24294.75,25490.965,5733.551,956.985,73.925,10766.998,16624.858,97553.151,6377.853,1309.632,1367.254,104957.438,905.502,5523.231,64979.548,283.007,2025.137,2100.568,3912.061,82114.224,28833.629,11159.773,107.825,16913.503,12717.176,1861.283,777.859,10981.229,9265.067,9721.559,335.025,263991.379,81162.788,38274.618,4761.657,8321.57,59359.9,2890.299,127484.45,9702.353,18204.499,49699.862,116.398,4136.528,6045.117,6858.16,1949.67,6082.357,2233.339,4731.906,2890.297,583.455,25570.895,18622.104,31624.264,436.33,18541.98,430.835,4420.184,1265.138,129163.276,3075.647,628.96,35739.58,29668.834,53370.609,2533.794,29304.998,17035.938,276.255,4705.818,6217.581,21477.348,190886.311,2083.16,5305.383,4636.262,197015.955,4098.587,6811.297,32165.485,104918.09,38170.712,10329.506,50982.212,4051.212,19679.306,143989.754,12208.407,55.345,178.844,109.897,196.44,204.327,32938.213,15850.567,8790.574,7557.212,5447.662,2079.976,611.343,56717.156,46354.321,20876.917,40533.33,563.402,9910.701,8476.005,8921.343,69037.513,1296.311,7797.694,1369.125,11532.127,80745.02,5758.075,42862.958,44222.947,9400.145,66181.585,57310.019,324459.463,3456.75,31910.641,276.244,31977.065,95540.8,28250.42,17094.13,16529.904],\"z\":[65286.0,2740.0,238174.0,124670.0,44.0,273669.0,2847.0,768230.0,8253.1,8265.9,1001.0,13017.0,43.0,20290.8,3028.0,2281.0,11276.0,5.4,108330.0,5120.0,56673.0,835814.0,527.0,10856.0,27360.0,403.0,17652.0,47271.0,909351.0,62298.0,125920.0,74353.2,105.0,3.03,3541.0,110950.0,34150.0,5106.0,5596.0,10422.0,924.0,7722.0,31800.0,12041.0,4199.0,2318.0,75.0,4831.0,24836.0,99545.0,2072.0,4347.0,1720.0,100000.0,1827.0,30389.0,54755.7,366.0,25767.0,1012.0,6949.0,34888.0,22754.0,12890.0,34.0,10716.0,24572.0,2812.0,19685.0,2756.0,11189.0,9053.0,10025.0,181157.0,162876.0,43412.8,6889.0,2164.0,29414.0,1083.0,36456.0,8878.0,269970.0,56914.0,81.0,1782.0,19180.0,23080.0,6219.0,1023.0,3036.0,9632.0,6267.5,243.0,58180.0,9428.0,32855.0,30.0,122019.0,32.0,103070.0,203.0,194395.0,155356.0,1345.0,44630.0,78638.0,65308.0,82329.0,14335.0,3369.0,1828.0,26331.0,12034.0,126670.0,91077.0,2522.0,36512.3,30950.0,77088.0,7434.0,39730.0,128000.0,29817.0,30621.0,9160.52,9742.6,3288.0,23003.0,1637687.0,2467.0,26.0,61.0,39.0,283.0,96.0,214969.0,19253.0,8746.0,7218.0,4808.8,2014.0,2799.0,121309.0,50021.0,6271.0,0.0,15600.0,40734.0,3951.6,13996.0,51089.0,1487.0,5439.0,513.0,15536.0,76963.0,46993.0,20052.0,57932.0,7102.0,24193.0,88580.0,914742.0,17502.0,42540.0,1219.0,88205.0,31007.0,52797.0,74339.0,38685.0],\"type\":\"scatter3d\",\"mode\":\"markers\",\"marker\":{\"size\":4,\"color\":\"rgb(228,26,28)\",\"line\":{\"width\":0}}},{\"color\":\"rgb(228,26,28)\",\"opacity\":0.1,\"type\":\"mesh3d\",\"alphahull\":7,\"name\":\"y\",\"x\":[326921.0,120172.0,896114.0,352564.0,2079.0,1260870.0,93011.0,779031.0,354176.0,234677.0,10534.0,1797998.0,7764.0,366256.0,301287.0,7560.0,179902.0,2027.0,186292.0,127086.0,38010.0,5363608.0,9063.0,232529.0,290771.0,10269.0,185684.0,438739.0,1319821.0,80357.0,122502.0,442651.0,199523.0,11460.0,614834.0,1114673.0,79749.0,114224.0,154677.0,343217.0,30030.0,393672.0,466487.0,464102.0,229300.0,10936.0,2888.0,209343.0,320778.0,2255352.0,127739.0,51901.0,22362.0,908083.0,20265.0,217594.0,2499790.0,7358.0,40676.0,21497.0,120486.0,3324458.0,669110.0,538562.0,2511.0,223753.0,187570.0,21351.0,19244.0,138918.0,136890.0,344326.0,11037.0,3932518.0,2123485.0,482171.0,188771.0,262200.0,2593024.0,76638.0,3400471.0,126141.0,505006.0,701186.0,2326.0,77108.0,146567.0,110075.0,81263.0,136665.0,32418.0,53157.0,130558.0,15243.0,316546.0,244860.0,532251.0,7819.0,223695.0,16499.0,56113.0,29633.0,3019528.0,50326.0,11853.0,787088.0,369041.0,763194.0,41060.0,498234.0,710143.0,6282.0,146726.0,82299.0,223057.0,3641538.0,64388.0,182271.0,75669.0,3112101.0,69708.0,155647.0,630532.0,1698382.0,1460041.0,462108.0,1477941.0,108532.0,870340.0,4815293.0,268797.0,1009.0,4491.0,2781.0,5658.0,4321.0,566755.0,165602.0,113940.0,84660.0,165403.0,76559.0,12120.0,1054383.0,1695650.0,360730.0,84646.0,11149.0,377793.0,303248.0,118220.0,1477069.0,15110.0,98826.0,30671.0,309576.0,2563733.0,122484.0,744769.0,1608335.0,147012.0,2423034.0,847789.0,12779748.0,103895.0,683251.0,6059.0,682364.0,1540944.0,281252.0,165288.0,167171.0],\"y\":[35530.081,2930.187,41318.142,29784.193,102.012,44271.041,2930.45,24450.561,8735.453,9827.589,395.361,164669.751,285.719,9468.338,11429.336,374.681,11175.692,61.349,11051.6,3507.017,2291.661,209288.278,428.697,7084.571,19193.382,546.388,16005.373,24053.727,36624.199,4659.08,14899.994,18054.726,7364.883,622.567,23626.456,49065.615,5260.75,4905.769,4189.353,11484.636,1179.551,10618.303,24294.75,25490.965,5733.551,956.985,73.925,10766.998,16624.858,97553.151,6377.853,1309.632,1367.254,104957.438,905.502,5523.231,64979.548,283.007,2025.137,2100.568,3912.061,82114.224,28833.629,11159.773,107.825,16913.503,12717.176,1861.283,777.859,10981.229,9265.067,9721.559,335.025,263991.379,81162.788,38274.618,4761.657,8321.57,59359.9,2890.299,127484.45,9702.353,18204.499,49699.862,116.398,4136.528,6045.117,6858.16,1949.67,6082.357,2233.339,4731.906,2890.297,583.455,25570.895,18622.104,31624.264,436.33,18541.98,430.835,4420.184,1265.138,129163.276,3075.647,628.96,35739.58,29668.834,53370.609,2533.794,29304.998,17035.938,276.255,4705.818,6217.581,21477.348,190886.311,2083.16,5305.383,4636.262,197015.955,4098.587,6811.297,32165.485,104918.09,38170.712,10329.506,50982.212,4051.212,19679.306,143989.754,12208.407,55.345,178.844,109.897,196.44,204.327,32938.213,15850.567,8790.574,7557.212,5447.662,2079.976,611.343,56717.156,46354.321,20876.917,40533.33,563.402,9910.701,8476.005,8921.343,69037.513,1296.311,7797.694,1369.125,11532.127,80745.02,5758.075,42862.958,44222.947,9400.145,66181.585,57310.019,324459.463,3456.75,31910.641,276.244,31977.065,95540.8,28250.42,17094.13,16529.904],\"z\":[65286.0,2740.0,238174.0,124670.0,44.0,273669.0,2847.0,768230.0,8253.1,8265.9,1001.0,13017.0,43.0,20290.8,3028.0,2281.0,11276.0,5.4,108330.0,5120.0,56673.0,835814.0,527.0,10856.0,27360.0,403.0,17652.0,47271.0,909351.0,62298.0,125920.0,74353.2,105.0,3.03,3541.0,110950.0,34150.0,5106.0,5596.0,10422.0,924.0,7722.0,31800.0,12041.0,4199.0,2318.0,75.0,4831.0,24836.0,99545.0,2072.0,4347.0,1720.0,100000.0,1827.0,30389.0,54755.7,366.0,25767.0,1012.0,6949.0,34888.0,22754.0,12890.0,34.0,10716.0,24572.0,2812.0,19685.0,2756.0,11189.0,9053.0,10025.0,181157.0,162876.0,43412.8,6889.0,2164.0,29414.0,1083.0,36456.0,8878.0,269970.0,56914.0,81.0,1782.0,19180.0,23080.0,6219.0,1023.0,3036.0,9632.0,6267.5,243.0,58180.0,9428.0,32855.0,30.0,122019.0,32.0,103070.0,203.0,194395.0,155356.0,1345.0,44630.0,78638.0,65308.0,82329.0,14335.0,3369.0,1828.0,26331.0,12034.0,126670.0,91077.0,2522.0,36512.3,30950.0,77088.0,7434.0,39730.0,128000.0,29817.0,30621.0,9160.52,9742.6,3288.0,23003.0,1637687.0,2467.0,26.0,61.0,39.0,283.0,96.0,214969.0,19253.0,8746.0,7218.0,4808.8,2014.0,2799.0,121309.0,50021.0,6271.0,0.0,15600.0,40734.0,3951.6,13996.0,51089.0,1487.0,5439.0,513.0,15536.0,76963.0,46993.0,20052.0,57932.0,7102.0,24193.0,88580.0,914742.0,17502.0,42540.0,1219.0,88205.0,31007.0,52797.0,74339.0,38685.0]},{\"name\":1,\"x\":[39003086.0,19900340.0],\"y\":[1409517.397,1339180.127],\"z\":[938821.1,297319.0],\"type\":\"scatter3d\",\"mode\":\"markers\",\"marker\":{\"size\":4,\"color\":\"rgb(55,126,184)\",\"line\":{\"width\":0}}},{\"color\":\"rgb(55,126,184)\",\"opacity\":0.1,\"type\":\"mesh3d\",\"alphahull\":7,\"name\":\"y\",\"x\":[39003086.0,19900340.0],\"y\":[1409517.397,1339180.127],\"z\":[938821.1,297319.0]}],                        {\"width\":800,\"height\":550,\"autosize\":false,\"title\":\"3D Clustering Plot\",\"scene\":{\"xaxis\":{\"gridcolor\":\"rgb(255, 255, 255)\",\"zerolinecolor\":\"rgb(255, 255, 255)\",\"showbackground\":true,\"title\":\"Total Production\",\"backgroundcolor\":\"rgb(230, 230,230)\"},\"yaxis\":{\"gridcolor\":\"rgb(255, 255, 255)\",\"zerolinecolor\":\"rgb(255, 255, 255)\",\"showbackground\":true,\"title\":\"Population\",\"backgroundcolor\":\"rgb(230, 230,230)\"},\"zaxis\":{\"gridcolor\":\"rgb(255, 255, 255)\",\"zerolinecolor\":\"rgb(255, 255, 255)\",\"showbackground\":true,\"title\":\"Surface Area\",\"backgroundcolor\":\"rgb(230, 230,230)\"},\"aspectratio\":{\"x\":1,\"y\":1,\"z\":0.7},\"aspectmode\":\"manual\"}},                        {\"responsive\": true}                    ).then(function(){\n",
       "                            \n",
       "var gd = document.getElementById('6161f9fb-6146-4534-999b-7b73a44267dd');\n",
       "var x = new MutationObserver(function (mutations, observer) {{\n",
       "        var display = window.getComputedStyle(gd).display;\n",
       "        if (!display || display === 'none') {{\n",
       "            console.log([gd, 'removed!']);\n",
       "            Plotly.purge(gd);\n",
       "            observer.disconnect();\n",
       "        }}\n",
       "}});\n",
       "\n",
       "// Listen for the removal of the full notebook cells\n",
       "var notebookContainer = gd.closest('#notebook-container');\n",
       "if (notebookContainer) {{\n",
       "    x.observe(notebookContainer, {childList: true});\n",
       "}}\n",
       "\n",
       "// Listen for the clearing of the current output cell\n",
       "var outputEl = gd.closest('.output');\n",
       "if (outputEl) {{\n",
       "    x.observe(outputEl, {childList: true});\n",
       "}}\n",
       "\n",
       "                        })                };                });            </script>        </div>"
      ]
     },
     "metadata": {},
     "output_type": "display_data"
    }
   ],
   "source": [
    "Plot3dClustering(n=2, X=X , type_c='kmeans')"
   ]
  },
  {
   "cell_type": "code",
   "execution_count": 32,
   "metadata": {
    "ExecuteTime": {
     "end_time": "2020-11-07T09:43:07.413929Z",
     "start_time": "2020-11-07T09:43:07.388922Z"
    }
   },
   "outputs": [
    {
     "data": {
      "text/html": [
       "<div>\n",
       "<style scoped>\n",
       "    .dataframe tbody tr th:only-of-type {\n",
       "        vertical-align: middle;\n",
       "    }\n",
       "\n",
       "    .dataframe tbody tr th {\n",
       "        vertical-align: top;\n",
       "    }\n",
       "\n",
       "    .dataframe thead th {\n",
       "        text-align: right;\n",
       "    }\n",
       "</style>\n",
       "<table border=\"1\" class=\"dataframe\">\n",
       "  <thead>\n",
       "    <tr style=\"text-align: right;\">\n",
       "      <th></th>\n",
       "      <th>Area</th>\n",
       "    </tr>\n",
       "  </thead>\n",
       "  <tbody>\n",
       "    <tr>\n",
       "      <th>35</th>\n",
       "      <td>China, mainland</td>\n",
       "    </tr>\n",
       "    <tr>\n",
       "      <th>74</th>\n",
       "      <td>India</td>\n",
       "    </tr>\n",
       "  </tbody>\n",
       "</table>\n",
       "</div>"
      ],
      "text/plain": [
       "               Area\n",
       "35  China, mainland\n",
       "74            India"
      ]
     },
     "execution_count": 32,
     "metadata": {},
     "output_type": "execute_result"
    }
   ],
   "source": [
    "cluster1 = pd.DataFrame(d[ X['kmeans'] == 1 ]['Area'])\n",
    "cluster1"
   ]
  },
  {
   "cell_type": "markdown",
   "metadata": {},
   "source": [
    "COMMENT: <br>\n",
    "   \n",
    "From the analysis China and India results as outlier. They are both big, popolous and producer countries, and they form a single cluster by them self."
   ]
  },
  {
   "cell_type": "code",
   "execution_count": 33,
   "metadata": {
    "ExecuteTime": {
     "end_time": "2020-11-07T09:43:07.542463Z",
     "start_time": "2020-11-07T09:43:07.535460Z"
    }
   },
   "outputs": [],
   "source": [
    "def Agglomerative(X, n): #number of clusters is not necessary but Python provides an option of providing the same for easy and simple use.\n",
    "    scaler = StandardScaler()\n",
    "    X = scaler.fit_transform(X)\n",
    "    model = AgglomerativeClustering(n_clusters=n, affinity = 'euclidean', linkage = 'ward')\n",
    "    clust_labels1 = model.fit_predict(X)\n",
    "    return (clust_labels1)"
   ]
  },
  {
   "cell_type": "code",
   "execution_count": 34,
   "metadata": {
    "ExecuteTime": {
     "end_time": "2020-11-07T09:43:19.903521Z",
     "start_time": "2020-11-07T09:43:19.853282Z"
    }
   },
   "outputs": [
    {
     "name": "stderr",
     "output_type": "stream",
     "text": [
      "c:\\Python311\\Lib\\site-packages\\sklearn\\cluster\\_agglomerative.py:983: FutureWarning:\n",
      "\n",
      "Attribute `affinity` was deprecated in version 1.2 and will be removed in 1.4. Use `metric` instead\n",
      "\n"
     ]
    },
    {
     "data": {
      "application/vnd.plotly.v1+json": {
       "config": {
        "linkText": "Export to plot.ly",
        "plotlyServerURL": "https://plot.ly",
        "showLink": false
       },
       "data": [
        {
         "marker": {
          "color": "rgb(228,26,28)",
          "line": {
           "width": 0
          },
          "size": 4
         },
         "mode": "markers",
         "name": 0,
         "type": "scatter3d",
         "x": [
          326921,
          120172,
          896114,
          352564,
          2079,
          1260870,
          93011,
          779031,
          354176,
          234677,
          10534,
          1797998,
          7764,
          366256,
          301287,
          7560,
          179902,
          2027,
          186292,
          127086,
          38010,
          5363608,
          9063,
          232529,
          290771,
          10269,
          185684,
          438739,
          1319821,
          80357,
          122502,
          442651,
          199523,
          11460,
          614834,
          1114673,
          79749,
          114224,
          154677,
          343217,
          30030,
          393672,
          466487,
          464102,
          229300,
          10936,
          2888,
          209343,
          320778,
          2255352,
          127739,
          51901,
          22362,
          908083,
          20265,
          217594,
          2499790,
          7358,
          40676,
          21497,
          120486,
          3324458,
          669110,
          538562,
          2511,
          223753,
          187570,
          21351,
          19244,
          138918,
          136890,
          344326,
          11037,
          3932518,
          2123485,
          482171,
          188771,
          262200,
          2593024,
          76638,
          3400471,
          126141,
          505006,
          701186,
          2326,
          77108,
          146567,
          110075,
          81263,
          136665,
          32418,
          53157,
          130558,
          15243,
          316546,
          244860,
          532251,
          7819,
          223695,
          16499,
          56113,
          29633,
          3019528,
          50326,
          11853,
          787088,
          369041,
          763194,
          41060,
          498234,
          710143,
          6282,
          146726,
          82299,
          223057,
          3641538,
          64388,
          182271,
          75669,
          3112101,
          69708,
          155647,
          630532,
          1698382,
          1460041,
          462108,
          1477941,
          108532,
          870340,
          4815293,
          268797,
          1009,
          4491,
          2781,
          5658,
          4321,
          566755,
          165602,
          113940,
          84660,
          165403,
          76559,
          12120,
          1054383,
          1695650,
          360730,
          84646,
          11149,
          377793,
          303248,
          118220,
          1477069,
          15110,
          98826,
          30671,
          309576,
          2563733,
          122484,
          744769,
          1608335,
          147012,
          2423034,
          847789,
          12779748,
          103895,
          683251,
          6059,
          682364,
          1540944,
          281252,
          165288,
          167171
         ],
         "y": [
          35530.081,
          2930.187,
          41318.142,
          29784.193,
          102.012,
          44271.041,
          2930.45,
          24450.561,
          8735.453,
          9827.589,
          395.361,
          164669.751,
          285.719,
          9468.338,
          11429.336,
          374.681,
          11175.692,
          61.349,
          11051.6,
          3507.017,
          2291.661,
          209288.278,
          428.697,
          7084.571,
          19193.382,
          546.388,
          16005.373,
          24053.727,
          36624.199,
          4659.08,
          14899.994,
          18054.726,
          7364.883,
          622.567,
          23626.456,
          49065.615,
          5260.75,
          4905.769,
          4189.353,
          11484.636,
          1179.551,
          10618.303,
          24294.75,
          25490.965,
          5733.551,
          956.985,
          73.925,
          10766.998,
          16624.858,
          97553.151,
          6377.853,
          1309.632,
          1367.254,
          104957.438,
          905.502,
          5523.231,
          64979.548,
          283.007,
          2025.137,
          2100.568,
          3912.061,
          82114.224,
          28833.629,
          11159.773,
          107.825,
          16913.503,
          12717.176,
          1861.283,
          777.859,
          10981.229,
          9265.067,
          9721.559,
          335.025,
          263991.379,
          81162.788,
          38274.618,
          4761.657,
          8321.57,
          59359.9,
          2890.299,
          127484.45,
          9702.353,
          18204.499,
          49699.862,
          116.398,
          4136.528,
          6045.117,
          6858.16,
          1949.67,
          6082.357,
          2233.339,
          4731.906,
          2890.297,
          583.455,
          25570.895,
          18622.104,
          31624.264,
          436.33,
          18541.98,
          430.835,
          4420.184,
          1265.138,
          129163.276,
          3075.647,
          628.96,
          35739.58,
          29668.834,
          53370.609,
          2533.794,
          29304.998,
          17035.938,
          276.255,
          4705.818,
          6217.581,
          21477.348,
          190886.311,
          2083.16,
          5305.383,
          4636.262,
          197015.955,
          4098.587,
          6811.297,
          32165.485,
          104918.09,
          38170.712,
          10329.506,
          50982.212,
          4051.212,
          19679.306,
          143989.754,
          12208.407,
          55.345,
          178.844,
          109.897,
          196.44,
          204.327,
          32938.213,
          15850.567,
          8790.574,
          7557.212,
          5447.662,
          2079.976,
          611.343,
          56717.156,
          46354.321,
          20876.917,
          40533.33,
          563.402,
          9910.701,
          8476.005,
          8921.343,
          69037.513,
          1296.311,
          7797.694,
          1369.125,
          11532.127,
          80745.02,
          5758.075,
          42862.958,
          44222.947,
          9400.145,
          66181.585,
          57310.019,
          324459.463,
          3456.75,
          31910.641,
          276.244,
          31977.065,
          95540.8,
          28250.42,
          17094.13,
          16529.904
         ],
         "z": [
          65286,
          2740,
          238174,
          124670,
          44,
          273669,
          2847,
          768230,
          8253.1,
          8265.9,
          1001,
          13017,
          43,
          20290.8,
          3028,
          2281,
          11276,
          5.4,
          108330,
          5120,
          56673,
          835814,
          527,
          10856,
          27360,
          403,
          17652,
          47271,
          909351,
          62298,
          125920,
          74353.2,
          105,
          3.03,
          3541,
          110950,
          34150,
          5106,
          5596,
          10422,
          924,
          7722,
          31800,
          12041,
          4199,
          2318,
          75,
          4831,
          24836,
          99545,
          2072,
          4347,
          1720,
          100000,
          1827,
          30389,
          54755.7,
          366,
          25767,
          1012,
          6949,
          34888,
          22754,
          12890,
          34,
          10716,
          24572,
          2812,
          19685,
          2756,
          11189,
          9053,
          10025,
          181157,
          162876,
          43412.8,
          6889,
          2164,
          29414,
          1083,
          36456,
          8878,
          269970,
          56914,
          81,
          1782,
          19180,
          23080,
          6219,
          1023,
          3036,
          9632,
          6267.5,
          243,
          58180,
          9428,
          32855,
          30,
          122019,
          32,
          103070,
          203,
          194395,
          155356,
          1345,
          44630,
          78638,
          65308,
          82329,
          14335,
          3369,
          1828,
          26331,
          12034,
          126670,
          91077,
          2522,
          36512.3,
          30950,
          77088,
          7434,
          39730,
          128000,
          29817,
          30621,
          9160.52,
          9742.6,
          3288,
          23003,
          1637687,
          2467,
          26,
          61,
          39,
          283,
          96,
          214969,
          19253,
          8746,
          7218,
          4808.8,
          2014,
          2799,
          121309,
          50021,
          6271,
          0,
          15600,
          40734,
          3951.6,
          13996,
          51089,
          1487,
          5439,
          513,
          15536,
          76963,
          46993,
          20052,
          57932,
          7102,
          24193,
          88580,
          914742,
          17502,
          42540,
          1219,
          88205,
          31007,
          52797,
          74339,
          38685
         ]
        },
        {
         "alphahull": 7,
         "color": "rgb(228,26,28)",
         "name": "y",
         "opacity": 0.1,
         "type": "mesh3d",
         "x": [
          326921,
          120172,
          896114,
          352564,
          2079,
          1260870,
          93011,
          779031,
          354176,
          234677,
          10534,
          1797998,
          7764,
          366256,
          301287,
          7560,
          179902,
          2027,
          186292,
          127086,
          38010,
          5363608,
          9063,
          232529,
          290771,
          10269,
          185684,
          438739,
          1319821,
          80357,
          122502,
          442651,
          199523,
          11460,
          614834,
          1114673,
          79749,
          114224,
          154677,
          343217,
          30030,
          393672,
          466487,
          464102,
          229300,
          10936,
          2888,
          209343,
          320778,
          2255352,
          127739,
          51901,
          22362,
          908083,
          20265,
          217594,
          2499790,
          7358,
          40676,
          21497,
          120486,
          3324458,
          669110,
          538562,
          2511,
          223753,
          187570,
          21351,
          19244,
          138918,
          136890,
          344326,
          11037,
          3932518,
          2123485,
          482171,
          188771,
          262200,
          2593024,
          76638,
          3400471,
          126141,
          505006,
          701186,
          2326,
          77108,
          146567,
          110075,
          81263,
          136665,
          32418,
          53157,
          130558,
          15243,
          316546,
          244860,
          532251,
          7819,
          223695,
          16499,
          56113,
          29633,
          3019528,
          50326,
          11853,
          787088,
          369041,
          763194,
          41060,
          498234,
          710143,
          6282,
          146726,
          82299,
          223057,
          3641538,
          64388,
          182271,
          75669,
          3112101,
          69708,
          155647,
          630532,
          1698382,
          1460041,
          462108,
          1477941,
          108532,
          870340,
          4815293,
          268797,
          1009,
          4491,
          2781,
          5658,
          4321,
          566755,
          165602,
          113940,
          84660,
          165403,
          76559,
          12120,
          1054383,
          1695650,
          360730,
          84646,
          11149,
          377793,
          303248,
          118220,
          1477069,
          15110,
          98826,
          30671,
          309576,
          2563733,
          122484,
          744769,
          1608335,
          147012,
          2423034,
          847789,
          12779748,
          103895,
          683251,
          6059,
          682364,
          1540944,
          281252,
          165288,
          167171
         ],
         "y": [
          35530.081,
          2930.187,
          41318.142,
          29784.193,
          102.012,
          44271.041,
          2930.45,
          24450.561,
          8735.453,
          9827.589,
          395.361,
          164669.751,
          285.719,
          9468.338,
          11429.336,
          374.681,
          11175.692,
          61.349,
          11051.6,
          3507.017,
          2291.661,
          209288.278,
          428.697,
          7084.571,
          19193.382,
          546.388,
          16005.373,
          24053.727,
          36624.199,
          4659.08,
          14899.994,
          18054.726,
          7364.883,
          622.567,
          23626.456,
          49065.615,
          5260.75,
          4905.769,
          4189.353,
          11484.636,
          1179.551,
          10618.303,
          24294.75,
          25490.965,
          5733.551,
          956.985,
          73.925,
          10766.998,
          16624.858,
          97553.151,
          6377.853,
          1309.632,
          1367.254,
          104957.438,
          905.502,
          5523.231,
          64979.548,
          283.007,
          2025.137,
          2100.568,
          3912.061,
          82114.224,
          28833.629,
          11159.773,
          107.825,
          16913.503,
          12717.176,
          1861.283,
          777.859,
          10981.229,
          9265.067,
          9721.559,
          335.025,
          263991.379,
          81162.788,
          38274.618,
          4761.657,
          8321.57,
          59359.9,
          2890.299,
          127484.45,
          9702.353,
          18204.499,
          49699.862,
          116.398,
          4136.528,
          6045.117,
          6858.16,
          1949.67,
          6082.357,
          2233.339,
          4731.906,
          2890.297,
          583.455,
          25570.895,
          18622.104,
          31624.264,
          436.33,
          18541.98,
          430.835,
          4420.184,
          1265.138,
          129163.276,
          3075.647,
          628.96,
          35739.58,
          29668.834,
          53370.609,
          2533.794,
          29304.998,
          17035.938,
          276.255,
          4705.818,
          6217.581,
          21477.348,
          190886.311,
          2083.16,
          5305.383,
          4636.262,
          197015.955,
          4098.587,
          6811.297,
          32165.485,
          104918.09,
          38170.712,
          10329.506,
          50982.212,
          4051.212,
          19679.306,
          143989.754,
          12208.407,
          55.345,
          178.844,
          109.897,
          196.44,
          204.327,
          32938.213,
          15850.567,
          8790.574,
          7557.212,
          5447.662,
          2079.976,
          611.343,
          56717.156,
          46354.321,
          20876.917,
          40533.33,
          563.402,
          9910.701,
          8476.005,
          8921.343,
          69037.513,
          1296.311,
          7797.694,
          1369.125,
          11532.127,
          80745.02,
          5758.075,
          42862.958,
          44222.947,
          9400.145,
          66181.585,
          57310.019,
          324459.463,
          3456.75,
          31910.641,
          276.244,
          31977.065,
          95540.8,
          28250.42,
          17094.13,
          16529.904
         ],
         "z": [
          65286,
          2740,
          238174,
          124670,
          44,
          273669,
          2847,
          768230,
          8253.1,
          8265.9,
          1001,
          13017,
          43,
          20290.8,
          3028,
          2281,
          11276,
          5.4,
          108330,
          5120,
          56673,
          835814,
          527,
          10856,
          27360,
          403,
          17652,
          47271,
          909351,
          62298,
          125920,
          74353.2,
          105,
          3.03,
          3541,
          110950,
          34150,
          5106,
          5596,
          10422,
          924,
          7722,
          31800,
          12041,
          4199,
          2318,
          75,
          4831,
          24836,
          99545,
          2072,
          4347,
          1720,
          100000,
          1827,
          30389,
          54755.7,
          366,
          25767,
          1012,
          6949,
          34888,
          22754,
          12890,
          34,
          10716,
          24572,
          2812,
          19685,
          2756,
          11189,
          9053,
          10025,
          181157,
          162876,
          43412.8,
          6889,
          2164,
          29414,
          1083,
          36456,
          8878,
          269970,
          56914,
          81,
          1782,
          19180,
          23080,
          6219,
          1023,
          3036,
          9632,
          6267.5,
          243,
          58180,
          9428,
          32855,
          30,
          122019,
          32,
          103070,
          203,
          194395,
          155356,
          1345,
          44630,
          78638,
          65308,
          82329,
          14335,
          3369,
          1828,
          26331,
          12034,
          126670,
          91077,
          2522,
          36512.3,
          30950,
          77088,
          7434,
          39730,
          128000,
          29817,
          30621,
          9160.52,
          9742.6,
          3288,
          23003,
          1637687,
          2467,
          26,
          61,
          39,
          283,
          96,
          214969,
          19253,
          8746,
          7218,
          4808.8,
          2014,
          2799,
          121309,
          50021,
          6271,
          0,
          15600,
          40734,
          3951.6,
          13996,
          51089,
          1487,
          5439,
          513,
          15536,
          76963,
          46993,
          20052,
          57932,
          7102,
          24193,
          88580,
          914742,
          17502,
          42540,
          1219,
          88205,
          31007,
          52797,
          74339,
          38685
         ]
        },
        {
         "marker": {
          "color": "rgb(55,126,184)",
          "line": {
           "width": 0
          },
          "size": 4
         },
         "mode": "markers",
         "name": 1,
         "type": "scatter3d",
         "x": [
          39003086,
          19900340
         ],
         "y": [
          1409517.397,
          1339180.127
         ],
         "z": [
          938821.1,
          297319
         ]
        },
        {
         "alphahull": 7,
         "color": "rgb(55,126,184)",
         "name": "y",
         "opacity": 0.1,
         "type": "mesh3d",
         "x": [
          39003086,
          19900340
         ],
         "y": [
          1409517.397,
          1339180.127
         ],
         "z": [
          938821.1,
          297319
         ]
        },
        {
         "marker": {
          "color": "rgb(77,175,74)",
          "line": {
           "width": 0
          },
          "size": 4
         },
         "mode": "markers",
         "name": 2,
         "type": "scatter3d",
         "x": [],
         "y": [],
         "z": []
        },
        {
         "alphahull": 7,
         "color": "rgb(77,175,74)",
         "name": "y",
         "opacity": 0.1,
         "type": "mesh3d",
         "x": [],
         "y": [],
         "z": []
        }
       ],
       "layout": {
        "autosize": false,
        "height": 550,
        "scene": {
         "aspectmode": "manual",
         "aspectratio": {
          "x": 1,
          "y": 1,
          "z": 0.7
         },
         "xaxis": {
          "backgroundcolor": "rgb(230, 230,230)",
          "gridcolor": "rgb(255, 255, 255)",
          "showbackground": true,
          "title": "Total Production",
          "zerolinecolor": "rgb(255, 255, 255)"
         },
         "yaxis": {
          "backgroundcolor": "rgb(230, 230,230)",
          "gridcolor": "rgb(255, 255, 255)",
          "showbackground": true,
          "title": "Population",
          "zerolinecolor": "rgb(255, 255, 255)"
         },
         "zaxis": {
          "backgroundcolor": "rgb(230, 230,230)",
          "gridcolor": "rgb(255, 255, 255)",
          "showbackground": true,
          "title": "Surface Area",
          "zerolinecolor": "rgb(255, 255, 255)"
         }
        },
        "title": "3D Clustering Plot",
        "width": 800
       }
      },
      "text/html": [
       "<div>                            <div id=\"5641e248-8114-4b0e-8821-db8bcad468e0\" class=\"plotly-graph-div\" style=\"height:550px; width:800px;\"></div>            <script type=\"text/javascript\">                require([\"plotly\"], function(Plotly) {                    window.PLOTLYENV=window.PLOTLYENV || {};                                    if (document.getElementById(\"5641e248-8114-4b0e-8821-db8bcad468e0\")) {                    Plotly.newPlot(                        \"5641e248-8114-4b0e-8821-db8bcad468e0\",                        [{\"name\":0,\"x\":[326921.0,120172.0,896114.0,352564.0,2079.0,1260870.0,93011.0,779031.0,354176.0,234677.0,10534.0,1797998.0,7764.0,366256.0,301287.0,7560.0,179902.0,2027.0,186292.0,127086.0,38010.0,5363608.0,9063.0,232529.0,290771.0,10269.0,185684.0,438739.0,1319821.0,80357.0,122502.0,442651.0,199523.0,11460.0,614834.0,1114673.0,79749.0,114224.0,154677.0,343217.0,30030.0,393672.0,466487.0,464102.0,229300.0,10936.0,2888.0,209343.0,320778.0,2255352.0,127739.0,51901.0,22362.0,908083.0,20265.0,217594.0,2499790.0,7358.0,40676.0,21497.0,120486.0,3324458.0,669110.0,538562.0,2511.0,223753.0,187570.0,21351.0,19244.0,138918.0,136890.0,344326.0,11037.0,3932518.0,2123485.0,482171.0,188771.0,262200.0,2593024.0,76638.0,3400471.0,126141.0,505006.0,701186.0,2326.0,77108.0,146567.0,110075.0,81263.0,136665.0,32418.0,53157.0,130558.0,15243.0,316546.0,244860.0,532251.0,7819.0,223695.0,16499.0,56113.0,29633.0,3019528.0,50326.0,11853.0,787088.0,369041.0,763194.0,41060.0,498234.0,710143.0,6282.0,146726.0,82299.0,223057.0,3641538.0,64388.0,182271.0,75669.0,3112101.0,69708.0,155647.0,630532.0,1698382.0,1460041.0,462108.0,1477941.0,108532.0,870340.0,4815293.0,268797.0,1009.0,4491.0,2781.0,5658.0,4321.0,566755.0,165602.0,113940.0,84660.0,165403.0,76559.0,12120.0,1054383.0,1695650.0,360730.0,84646.0,11149.0,377793.0,303248.0,118220.0,1477069.0,15110.0,98826.0,30671.0,309576.0,2563733.0,122484.0,744769.0,1608335.0,147012.0,2423034.0,847789.0,12779748.0,103895.0,683251.0,6059.0,682364.0,1540944.0,281252.0,165288.0,167171.0],\"y\":[35530.081,2930.187,41318.142,29784.193,102.012,44271.041,2930.45,24450.561,8735.453,9827.589,395.361,164669.751,285.719,9468.338,11429.336,374.681,11175.692,61.349,11051.6,3507.017,2291.661,209288.278,428.697,7084.571,19193.382,546.388,16005.373,24053.727,36624.199,4659.08,14899.994,18054.726,7364.883,622.567,23626.456,49065.615,5260.75,4905.769,4189.353,11484.636,1179.551,10618.303,24294.75,25490.965,5733.551,956.985,73.925,10766.998,16624.858,97553.151,6377.853,1309.632,1367.254,104957.438,905.502,5523.231,64979.548,283.007,2025.137,2100.568,3912.061,82114.224,28833.629,11159.773,107.825,16913.503,12717.176,1861.283,777.859,10981.229,9265.067,9721.559,335.025,263991.379,81162.788,38274.618,4761.657,8321.57,59359.9,2890.299,127484.45,9702.353,18204.499,49699.862,116.398,4136.528,6045.117,6858.16,1949.67,6082.357,2233.339,4731.906,2890.297,583.455,25570.895,18622.104,31624.264,436.33,18541.98,430.835,4420.184,1265.138,129163.276,3075.647,628.96,35739.58,29668.834,53370.609,2533.794,29304.998,17035.938,276.255,4705.818,6217.581,21477.348,190886.311,2083.16,5305.383,4636.262,197015.955,4098.587,6811.297,32165.485,104918.09,38170.712,10329.506,50982.212,4051.212,19679.306,143989.754,12208.407,55.345,178.844,109.897,196.44,204.327,32938.213,15850.567,8790.574,7557.212,5447.662,2079.976,611.343,56717.156,46354.321,20876.917,40533.33,563.402,9910.701,8476.005,8921.343,69037.513,1296.311,7797.694,1369.125,11532.127,80745.02,5758.075,42862.958,44222.947,9400.145,66181.585,57310.019,324459.463,3456.75,31910.641,276.244,31977.065,95540.8,28250.42,17094.13,16529.904],\"z\":[65286.0,2740.0,238174.0,124670.0,44.0,273669.0,2847.0,768230.0,8253.1,8265.9,1001.0,13017.0,43.0,20290.8,3028.0,2281.0,11276.0,5.4,108330.0,5120.0,56673.0,835814.0,527.0,10856.0,27360.0,403.0,17652.0,47271.0,909351.0,62298.0,125920.0,74353.2,105.0,3.03,3541.0,110950.0,34150.0,5106.0,5596.0,10422.0,924.0,7722.0,31800.0,12041.0,4199.0,2318.0,75.0,4831.0,24836.0,99545.0,2072.0,4347.0,1720.0,100000.0,1827.0,30389.0,54755.7,366.0,25767.0,1012.0,6949.0,34888.0,22754.0,12890.0,34.0,10716.0,24572.0,2812.0,19685.0,2756.0,11189.0,9053.0,10025.0,181157.0,162876.0,43412.8,6889.0,2164.0,29414.0,1083.0,36456.0,8878.0,269970.0,56914.0,81.0,1782.0,19180.0,23080.0,6219.0,1023.0,3036.0,9632.0,6267.5,243.0,58180.0,9428.0,32855.0,30.0,122019.0,32.0,103070.0,203.0,194395.0,155356.0,1345.0,44630.0,78638.0,65308.0,82329.0,14335.0,3369.0,1828.0,26331.0,12034.0,126670.0,91077.0,2522.0,36512.3,30950.0,77088.0,7434.0,39730.0,128000.0,29817.0,30621.0,9160.52,9742.6,3288.0,23003.0,1637687.0,2467.0,26.0,61.0,39.0,283.0,96.0,214969.0,19253.0,8746.0,7218.0,4808.8,2014.0,2799.0,121309.0,50021.0,6271.0,0.0,15600.0,40734.0,3951.6,13996.0,51089.0,1487.0,5439.0,513.0,15536.0,76963.0,46993.0,20052.0,57932.0,7102.0,24193.0,88580.0,914742.0,17502.0,42540.0,1219.0,88205.0,31007.0,52797.0,74339.0,38685.0],\"type\":\"scatter3d\",\"mode\":\"markers\",\"marker\":{\"size\":4,\"color\":\"rgb(228,26,28)\",\"line\":{\"width\":0}}},{\"color\":\"rgb(228,26,28)\",\"opacity\":0.1,\"type\":\"mesh3d\",\"alphahull\":7,\"name\":\"y\",\"x\":[326921.0,120172.0,896114.0,352564.0,2079.0,1260870.0,93011.0,779031.0,354176.0,234677.0,10534.0,1797998.0,7764.0,366256.0,301287.0,7560.0,179902.0,2027.0,186292.0,127086.0,38010.0,5363608.0,9063.0,232529.0,290771.0,10269.0,185684.0,438739.0,1319821.0,80357.0,122502.0,442651.0,199523.0,11460.0,614834.0,1114673.0,79749.0,114224.0,154677.0,343217.0,30030.0,393672.0,466487.0,464102.0,229300.0,10936.0,2888.0,209343.0,320778.0,2255352.0,127739.0,51901.0,22362.0,908083.0,20265.0,217594.0,2499790.0,7358.0,40676.0,21497.0,120486.0,3324458.0,669110.0,538562.0,2511.0,223753.0,187570.0,21351.0,19244.0,138918.0,136890.0,344326.0,11037.0,3932518.0,2123485.0,482171.0,188771.0,262200.0,2593024.0,76638.0,3400471.0,126141.0,505006.0,701186.0,2326.0,77108.0,146567.0,110075.0,81263.0,136665.0,32418.0,53157.0,130558.0,15243.0,316546.0,244860.0,532251.0,7819.0,223695.0,16499.0,56113.0,29633.0,3019528.0,50326.0,11853.0,787088.0,369041.0,763194.0,41060.0,498234.0,710143.0,6282.0,146726.0,82299.0,223057.0,3641538.0,64388.0,182271.0,75669.0,3112101.0,69708.0,155647.0,630532.0,1698382.0,1460041.0,462108.0,1477941.0,108532.0,870340.0,4815293.0,268797.0,1009.0,4491.0,2781.0,5658.0,4321.0,566755.0,165602.0,113940.0,84660.0,165403.0,76559.0,12120.0,1054383.0,1695650.0,360730.0,84646.0,11149.0,377793.0,303248.0,118220.0,1477069.0,15110.0,98826.0,30671.0,309576.0,2563733.0,122484.0,744769.0,1608335.0,147012.0,2423034.0,847789.0,12779748.0,103895.0,683251.0,6059.0,682364.0,1540944.0,281252.0,165288.0,167171.0],\"y\":[35530.081,2930.187,41318.142,29784.193,102.012,44271.041,2930.45,24450.561,8735.453,9827.589,395.361,164669.751,285.719,9468.338,11429.336,374.681,11175.692,61.349,11051.6,3507.017,2291.661,209288.278,428.697,7084.571,19193.382,546.388,16005.373,24053.727,36624.199,4659.08,14899.994,18054.726,7364.883,622.567,23626.456,49065.615,5260.75,4905.769,4189.353,11484.636,1179.551,10618.303,24294.75,25490.965,5733.551,956.985,73.925,10766.998,16624.858,97553.151,6377.853,1309.632,1367.254,104957.438,905.502,5523.231,64979.548,283.007,2025.137,2100.568,3912.061,82114.224,28833.629,11159.773,107.825,16913.503,12717.176,1861.283,777.859,10981.229,9265.067,9721.559,335.025,263991.379,81162.788,38274.618,4761.657,8321.57,59359.9,2890.299,127484.45,9702.353,18204.499,49699.862,116.398,4136.528,6045.117,6858.16,1949.67,6082.357,2233.339,4731.906,2890.297,583.455,25570.895,18622.104,31624.264,436.33,18541.98,430.835,4420.184,1265.138,129163.276,3075.647,628.96,35739.58,29668.834,53370.609,2533.794,29304.998,17035.938,276.255,4705.818,6217.581,21477.348,190886.311,2083.16,5305.383,4636.262,197015.955,4098.587,6811.297,32165.485,104918.09,38170.712,10329.506,50982.212,4051.212,19679.306,143989.754,12208.407,55.345,178.844,109.897,196.44,204.327,32938.213,15850.567,8790.574,7557.212,5447.662,2079.976,611.343,56717.156,46354.321,20876.917,40533.33,563.402,9910.701,8476.005,8921.343,69037.513,1296.311,7797.694,1369.125,11532.127,80745.02,5758.075,42862.958,44222.947,9400.145,66181.585,57310.019,324459.463,3456.75,31910.641,276.244,31977.065,95540.8,28250.42,17094.13,16529.904],\"z\":[65286.0,2740.0,238174.0,124670.0,44.0,273669.0,2847.0,768230.0,8253.1,8265.9,1001.0,13017.0,43.0,20290.8,3028.0,2281.0,11276.0,5.4,108330.0,5120.0,56673.0,835814.0,527.0,10856.0,27360.0,403.0,17652.0,47271.0,909351.0,62298.0,125920.0,74353.2,105.0,3.03,3541.0,110950.0,34150.0,5106.0,5596.0,10422.0,924.0,7722.0,31800.0,12041.0,4199.0,2318.0,75.0,4831.0,24836.0,99545.0,2072.0,4347.0,1720.0,100000.0,1827.0,30389.0,54755.7,366.0,25767.0,1012.0,6949.0,34888.0,22754.0,12890.0,34.0,10716.0,24572.0,2812.0,19685.0,2756.0,11189.0,9053.0,10025.0,181157.0,162876.0,43412.8,6889.0,2164.0,29414.0,1083.0,36456.0,8878.0,269970.0,56914.0,81.0,1782.0,19180.0,23080.0,6219.0,1023.0,3036.0,9632.0,6267.5,243.0,58180.0,9428.0,32855.0,30.0,122019.0,32.0,103070.0,203.0,194395.0,155356.0,1345.0,44630.0,78638.0,65308.0,82329.0,14335.0,3369.0,1828.0,26331.0,12034.0,126670.0,91077.0,2522.0,36512.3,30950.0,77088.0,7434.0,39730.0,128000.0,29817.0,30621.0,9160.52,9742.6,3288.0,23003.0,1637687.0,2467.0,26.0,61.0,39.0,283.0,96.0,214969.0,19253.0,8746.0,7218.0,4808.8,2014.0,2799.0,121309.0,50021.0,6271.0,0.0,15600.0,40734.0,3951.6,13996.0,51089.0,1487.0,5439.0,513.0,15536.0,76963.0,46993.0,20052.0,57932.0,7102.0,24193.0,88580.0,914742.0,17502.0,42540.0,1219.0,88205.0,31007.0,52797.0,74339.0,38685.0]},{\"name\":1,\"x\":[39003086.0,19900340.0],\"y\":[1409517.397,1339180.127],\"z\":[938821.1,297319.0],\"type\":\"scatter3d\",\"mode\":\"markers\",\"marker\":{\"size\":4,\"color\":\"rgb(55,126,184)\",\"line\":{\"width\":0}}},{\"color\":\"rgb(55,126,184)\",\"opacity\":0.1,\"type\":\"mesh3d\",\"alphahull\":7,\"name\":\"y\",\"x\":[39003086.0,19900340.0],\"y\":[1409517.397,1339180.127],\"z\":[938821.1,297319.0]},{\"name\":2,\"x\":[],\"y\":[],\"z\":[],\"type\":\"scatter3d\",\"mode\":\"markers\",\"marker\":{\"size\":4,\"color\":\"rgb(77,175,74)\",\"line\":{\"width\":0}}},{\"color\":\"rgb(77,175,74)\",\"opacity\":0.1,\"type\":\"mesh3d\",\"alphahull\":7,\"name\":\"y\",\"x\":[],\"y\":[],\"z\":[]}],                        {\"width\":800,\"height\":550,\"autosize\":false,\"title\":\"3D Clustering Plot\",\"scene\":{\"xaxis\":{\"gridcolor\":\"rgb(255, 255, 255)\",\"zerolinecolor\":\"rgb(255, 255, 255)\",\"showbackground\":true,\"title\":\"Total Production\",\"backgroundcolor\":\"rgb(230, 230,230)\"},\"yaxis\":{\"gridcolor\":\"rgb(255, 255, 255)\",\"zerolinecolor\":\"rgb(255, 255, 255)\",\"showbackground\":true,\"title\":\"Population\",\"backgroundcolor\":\"rgb(230, 230,230)\"},\"zaxis\":{\"gridcolor\":\"rgb(255, 255, 255)\",\"zerolinecolor\":\"rgb(255, 255, 255)\",\"showbackground\":true,\"title\":\"Surface Area\",\"backgroundcolor\":\"rgb(230, 230,230)\"},\"aspectratio\":{\"x\":1,\"y\":1,\"z\":0.7},\"aspectmode\":\"manual\"}},                        {\"responsive\": true}                    ).then(function(){\n",
       "                            \n",
       "var gd = document.getElementById('5641e248-8114-4b0e-8821-db8bcad468e0');\n",
       "var x = new MutationObserver(function (mutations, observer) {{\n",
       "        var display = window.getComputedStyle(gd).display;\n",
       "        if (!display || display === 'none') {{\n",
       "            console.log([gd, 'removed!']);\n",
       "            Plotly.purge(gd);\n",
       "            observer.disconnect();\n",
       "        }}\n",
       "}});\n",
       "\n",
       "// Listen for the removal of the full notebook cells\n",
       "var notebookContainer = gd.closest('#notebook-container');\n",
       "if (notebookContainer) {{\n",
       "    x.observe(notebookContainer, {childList: true});\n",
       "}}\n",
       "\n",
       "// Listen for the clearing of the current output cell\n",
       "var outputEl = gd.closest('.output');\n",
       "if (outputEl) {{\n",
       "    x.observe(outputEl, {childList: true});\n",
       "}}\n",
       "\n",
       "                        })                };                });            </script>        </div>"
      ]
     },
     "metadata": {},
     "output_type": "display_data"
    }
   ],
   "source": [
    "clust_labels1 = Agglomerative(X, 2)\n",
    "agglomerative = pd.DataFrame(clust_labels1)\n",
    "X.insert((X.shape[1]),'agglomerative',agglomerative)\n",
    "Plot3dClustering(n=3, X=X, type_c='agglomerative')"
   ]
  },
  {
   "cell_type": "code",
   "execution_count": 35,
   "metadata": {
    "ExecuteTime": {
     "end_time": "2020-11-07T10:13:29.902139Z",
     "start_time": "2020-11-07T10:13:29.877282Z"
    }
   },
   "outputs": [
    {
     "data": {
      "text/html": [
       "<div>\n",
       "<style scoped>\n",
       "    .dataframe tbody tr th:only-of-type {\n",
       "        vertical-align: middle;\n",
       "    }\n",
       "\n",
       "    .dataframe tbody tr th {\n",
       "        vertical-align: top;\n",
       "    }\n",
       "\n",
       "    .dataframe thead th {\n",
       "        text-align: right;\n",
       "    }\n",
       "</style>\n",
       "<table border=\"1\" class=\"dataframe\">\n",
       "  <thead>\n",
       "    <tr style=\"text-align: right;\">\n",
       "      <th></th>\n",
       "      <th>Area</th>\n",
       "    </tr>\n",
       "  </thead>\n",
       "  <tbody>\n",
       "    <tr>\n",
       "      <th>35</th>\n",
       "      <td>China, mainland</td>\n",
       "    </tr>\n",
       "    <tr>\n",
       "      <th>74</th>\n",
       "      <td>India</td>\n",
       "    </tr>\n",
       "  </tbody>\n",
       "</table>\n",
       "</div>"
      ],
      "text/plain": [
       "               Area\n",
       "35  China, mainland\n",
       "74            India"
      ]
     },
     "execution_count": 35,
     "metadata": {},
     "output_type": "execute_result"
    }
   ],
   "source": [
    "cluster1 = pd.DataFrame(d[ X['agglomerative'] == 1 ]['Area'])\n",
    "cluster1"
   ]
  },
  {
   "cell_type": "code",
   "execution_count": 36,
   "metadata": {
    "ExecuteTime": {
     "end_time": "2020-11-07T09:40:34.851871Z",
     "start_time": "2020-11-07T09:40:34.836868Z"
    }
   },
   "outputs": [
    {
     "data": {
      "text/html": [
       "<div>\n",
       "<style scoped>\n",
       "    .dataframe tbody tr th:only-of-type {\n",
       "        vertical-align: middle;\n",
       "    }\n",
       "\n",
       "    .dataframe tbody tr th {\n",
       "        vertical-align: top;\n",
       "    }\n",
       "\n",
       "    .dataframe thead th {\n",
       "        text-align: right;\n",
       "    }\n",
       "</style>\n",
       "<table border=\"1\" class=\"dataframe\">\n",
       "  <thead>\n",
       "    <tr style=\"text-align: right;\">\n",
       "      <th></th>\n",
       "      <th>Area</th>\n",
       "    </tr>\n",
       "  </thead>\n",
       "  <tbody>\n",
       "    <tr>\n",
       "      <th>35</th>\n",
       "      <td>China, mainland</td>\n",
       "    </tr>\n",
       "    <tr>\n",
       "      <th>74</th>\n",
       "      <td>India</td>\n",
       "    </tr>\n",
       "  </tbody>\n",
       "</table>\n",
       "</div>"
      ],
      "text/plain": [
       "               Area\n",
       "35  China, mainland\n",
       "74            India"
      ]
     },
     "execution_count": 36,
     "metadata": {},
     "output_type": "execute_result"
    }
   ],
   "source": [
    "cluster1 = pd.DataFrame(d[ X['agglomerative'] == 1 ]['Area'])\n",
    "cluster1"
   ]
  },
  {
   "cell_type": "code",
   "execution_count": 38,
   "metadata": {
    "ExecuteTime": {
     "end_time": "2020-11-07T10:13:49.860292Z",
     "start_time": "2020-11-07T10:13:37.364292Z"
    }
   },
   "outputs": [
    {
     "data": {
      "image/png": "[encoded data removed]",
      "text/plain": [
       "<Figure size 2500x1500 with 1 Axes>"
      ]
     },
     "metadata": {},
     "output_type": "display_data"
    }
   ],
   "source": [
    "import scipy.cluster.hierarchy as shc\n",
    "plt.figure(figsize=(25, 15))\n",
    "plt.title(\"Food Dendograms\")\n",
    "dend = shc.dendrogram(shc.linkage(X, method='complete'))"
   ]
  },
  {
   "cell_type": "code",
   "execution_count": null,
   "metadata": {},
   "outputs": [],
   "source": []
  }
 ],
 "metadata": {
  "kernelspec": {
   "display_name": "Python 3",
   "language": "python",
   "name": "python3"
  },
  "language_info": {
   "codemirror_mode": {
    "name": "ipython",
    "version": 3
   },
   "file_extension": ".py",
   "mimetype": "text/x-python",
   "name": "python",
   "nbconvert_exporter": "python",
   "pygments_lexer": "ipython3",
   "version": "3.11.2"
  }
 },
 "nbformat": 4,
 "nbformat_minor": 1
}
