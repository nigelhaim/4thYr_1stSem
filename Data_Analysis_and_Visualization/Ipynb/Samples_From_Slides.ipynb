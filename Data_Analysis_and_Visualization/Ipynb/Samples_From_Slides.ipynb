{
 "cells": [
  {
   "cell_type": "markdown",
   "metadata": {},
   "source": [
    "# Creating a NumPy Array"
   ]
  },
  {
   "cell_type": "code",
   "execution_count": 1,
   "metadata": {},
   "outputs": [
    {
     "name": "stdout",
     "output_type": "stream",
     "text": [
      "<class 'numpy.ndarray'>\n",
      "[0 1 2 3 4]\n"
     ]
    }
   ],
   "source": [
    "import numpy as np \n",
    "list1= [0,1,2,3,4]\n",
    "arr = np.array(list1)\n",
    "\n",
    "print(type(arr))\n",
    "print(arr)"
   ]
  },
  {
   "cell_type": "code",
   "execution_count": 2,
   "metadata": {},
   "outputs": [
    {
     "ename": "TypeError",
     "evalue": "can only concatenate list (not \"int\") to list",
     "output_type": "error",
     "traceback": [
      "\u001b[1;31m---------------------------------------------------------------------------\u001b[0m",
      "\u001b[1;31mTypeError\u001b[0m                                 Traceback (most recent call last)",
      "Cell \u001b[1;32mIn[2], line 3\u001b[0m\n\u001b[0;32m      1\u001b[0m \u001b[38;5;28;01mimport\u001b[39;00m \u001b[38;5;21;01mnumpy\u001b[39;00m \u001b[38;5;28;01mas\u001b[39;00m \u001b[38;5;21;01mnp\u001b[39;00m \n\u001b[0;32m      2\u001b[0m list1\n\u001b[1;32m----> 3\u001b[0m \u001b[38;5;28mlist\u001b[39m \u001b[38;5;241m=\u001b[39m \u001b[43mlist1\u001b[49m\u001b[38;5;241;43m+\u001b[39;49m\u001b[38;5;241;43m2\u001b[39;49m\n",
      "\u001b[1;31mTypeError\u001b[0m: can only concatenate list (not \"int\") to list"
     ]
    }
   ],
   "source": [
    "import numpy as np \n",
    "list1\n",
    "list = list1+2"
   ]
  },
  {
   "cell_type": "code",
   "execution_count": null,
   "metadata": {},
   "outputs": [
    {
     "name": "stdout",
     "output_type": "stream",
     "text": [
      "[0 1 2 3 4]\n",
      "[2 3 4 5 6]\n"
     ]
    }
   ],
   "source": [
    "import numpy as np \n",
    "list1 = [0,1,2,3,4]\n",
    "arr = np.array(list1)\n",
    "print(arr)\n",
    "arr = arr+2\n",
    "print(arr)"
   ]
  },
  {
   "cell_type": "code",
   "execution_count": null,
   "metadata": {},
   "outputs": [
    {
     "name": "stdout",
     "output_type": "stream",
     "text": [
      "[[0 1 2]\n",
      " [3 4 5]\n",
      " [6 7 8]]\n"
     ]
    }
   ],
   "source": [
    "import numpy as np\n",
    "list2 = [[0,1,2],[3,4,5],[6,7,8]]\n",
    "arr2 = np.array(list2)\n",
    "print(arr2)\n"
   ]
  },
  {
   "cell_type": "code",
   "execution_count": null,
   "metadata": {},
   "outputs": [
    {
     "name": "stdout",
     "output_type": "stream",
     "text": [
      "[[0 1 2]\n",
      " [3 4 5]\n",
      " [6 7 8]]\n"
     ]
    }
   ],
   "source": [
    "import numpy as np \n",
    "list2 = [[0,1,2],[3,4,5],[6,7,8]]\n",
    "arr2 = np.array(list2)\n",
    "print(arr2)"
   ]
  },
  {
   "cell_type": "code",
   "execution_count": null,
   "metadata": {},
   "outputs": [
    {
     "name": "stdout",
     "output_type": "stream",
     "text": [
      "[[0. 1. 2.]\n",
      " [3. 4. 5.]\n",
      " [6. 7. 8.]]\n"
     ]
    }
   ],
   "source": [
    "import numpy as np\n",
    "list2 = [[0,1,2],[3,4,5],[6,7,8]]\n",
    "arr3 = np.array(list2, dtype = 'float')\n",
    "print(arr3)\n"
   ]
  },
  {
   "cell_type": "code",
   "execution_count": null,
   "metadata": {},
   "outputs": [
    {
     "name": "stdout",
     "output_type": "stream",
     "text": [
      "[[0. 1. 2.]\n",
      " [3. 4. 5.]\n",
      " [6. 7. 8.]]\n",
      "[['0' '1' '2']\n",
      " ['3' '4' '5']\n",
      " ['6' '7' '8']]\n"
     ]
    }
   ],
   "source": [
    "import numpy as np\n",
    "list2 = [[0,1,2],[3,4,5],[6,7,8]]\n",
    "print(arr3)\n",
    "arr3_s = arr3.astype('int').astype('str')\n",
    "print(arr3_s)"
   ]
  },
  {
   "cell_type": "code",
   "execution_count": null,
   "metadata": {},
   "outputs": [
    {
     "name": "stdout",
     "output_type": "stream",
     "text": [
      "[1 'a']\n"
     ]
    }
   ],
   "source": [
    "arr_obj = np.array([1,'a'], dtype = 'object')\n",
    "print(arr_obj)"
   ]
  },
  {
   "cell_type": "code",
   "execution_count": null,
   "metadata": {},
   "outputs": [
    {
     "name": "stdout",
     "output_type": "stream",
     "text": [
      "[1, 'a']\n"
     ]
    }
   ],
   "source": [
    "arr_list = arr_obj.tolist()\n",
    "print(arr_list)"
   ]
  },
  {
   "cell_type": "code",
   "execution_count": null,
   "metadata": {},
   "outputs": [
    {
     "name": "stdout",
     "output_type": "stream",
     "text": [
      "[1, 'a']\n"
     ]
    }
   ],
   "source": [
    "arr_list = arr_obj.tolist()\n",
    "print(arr_list)"
   ]
  },
  {
   "cell_type": "code",
   "execution_count": null,
   "metadata": {},
   "outputs": [
    {
     "name": "stdout",
     "output_type": "stream",
     "text": [
      "Shape:  (3, 3)\n",
      "Data type:  float64\n",
      "Size:  9\n",
      "Num dimensions:  2\n"
     ]
    }
   ],
   "source": [
    "import numpy as np\n",
    "list2 = [[0,1,2],[3,4,5],[6,7,8]]\n",
    "arr3 = np.array(list2, dtype = 'float')\n",
    "print(\"Shape: \", arr3.shape)\n",
    "print(\"Data type: \", arr3.dtype)\n",
    "print(\"Size: \", arr3.size)\n",
    "print(\"Num dimensions: \", arr3.ndim)   "
   ]
  },
  {
   "cell_type": "code",
   "execution_count": null,
   "metadata": {},
   "outputs": [
    {
     "name": "stdout",
     "output_type": "stream",
     "text": [
      "Whole:  [[0. 1. 2.]\n",
      " [3. 4. 5.]\n",
      " [6. 7. 8.]]\n",
      "Part:  [[0. 1.]\n",
      " [3. 4.]]\n"
     ]
    }
   ],
   "source": [
    "import numpy as np\n",
    "list2 = [[0,1,2],[3,4,5],[6,7,8]]\n",
    "arr3 = np.array(list2, dtype = 'float')\n",
    "print(\"Whole: \", arr3)\n",
    "print(\"Part: \", arr3[:2, :2])\n"
   ]
  },
  {
   "cell_type": "code",
   "execution_count": null,
   "metadata": {},
   "outputs": [
    {
     "name": "stdout",
     "output_type": "stream",
     "text": [
      "[[False False False]\n",
      " [ True  True  True]\n",
      " [ True  True  True]]\n"
     ]
    }
   ],
   "source": [
    "import numpy as np\n",
    "list2 = [[0,1,2],[3,4,5],[6,7,8]]\n",
    "arr3 = np.array(list2, dtype = 'float')\n",
    "boo = arr3>2\n",
    "print(boo)"
   ]
  },
  {
   "cell_type": "code",
   "execution_count": null,
   "metadata": {},
   "outputs": [
    {
     "name": "stdout",
     "output_type": "stream",
     "text": [
      "0     5\n",
      "1     6\n",
      "2     7\n",
      "3     8\n",
      "4     9\n",
      "5    10\n",
      "dtype: int64\n"
     ]
    }
   ],
   "source": [
    "import pandas as pd \n",
    "new_series = pd.Series([5,6,7,8,9,10])\n",
    "print(new_series)"
   ]
  },
  {
   "cell_type": "code",
   "execution_count": null,
   "metadata": {},
   "outputs": [
    {
     "name": "stdout",
     "output_type": "stream",
     "text": [
      "[ 5  6  7  8  9 10]\n",
      "__________________\n",
      "9\n"
     ]
    }
   ],
   "source": [
    "import pandas as pd \n",
    "new_series = pd.Series([5,6,7,8,9,10])\n",
    "print(new_series.values)\n",
    "print('__________________')\n",
    "print(new_series[4])"
   ]
  },
  {
   "cell_type": "code",
   "execution_count": null,
   "metadata": {},
   "outputs": [
    {
     "name": "stdout",
     "output_type": "stream",
     "text": [
      "[ 5  6  7  8  9 10]\n",
      "__________________\n",
      "10\n"
     ]
    }
   ],
   "source": [
    "import pandas as pd\n",
    "new_series = pd.Series([5,6,7,8,9,10], index = ['a','b','c','d','e','f'])\n",
    "print(new_series.values)\n",
    "print('__________________')\n",
    "print(new_series['f'])"
   ]
  },
  {
   "cell_type": "code",
   "execution_count": null,
   "metadata": {},
   "outputs": [
    {
     "name": "stdout",
     "output_type": "stream",
     "text": [
      "a     5\n",
      "b     6\n",
      "c     7\n",
      "d     8\n",
      "e     9\n",
      "f    10\n",
      "dtype: int64\n",
      "__________________\n",
      "a    0\n",
      "b    0\n",
      "c    7\n",
      "d    8\n",
      "e    9\n",
      "f    0\n",
      "dtype: int64\n"
     ]
    }
   ],
   "source": [
    "import pandas as pd \n",
    "new_series = pd.Series([5,6,7,8,9,10], index = ['a','b','c','d','e','f'])\n",
    "print(new_series)\n",
    "print('__________________')\n",
    "new_series[['a','b','f']] = 0\n",
    "print(new_series)"
   ]
  },
  {
   "cell_type": "code",
   "execution_count": null,
   "metadata": {},
   "outputs": [
    {
     "name": "stdout",
     "output_type": "stream",
     "text": [
      "a     5\n",
      "b     6\n",
      "c     7\n",
      "d     8\n",
      "e     9\n",
      "f    10\n",
      "dtype: int64\n",
      "__________________\n",
      "a     5\n",
      "b     6\n",
      "c     7\n",
      "d     8\n",
      "e     9\n",
      "f    10\n",
      "dtype: int64\n",
      "__________________\n",
      "a     5\n",
      "b     6\n",
      "c     7\n",
      "d     8\n",
      "e     9\n",
      "f    10\n",
      "dtype: int64\n"
     ]
    }
   ],
   "source": [
    "import pandas as pd\n",
    "new_series = pd.Series([5,6,7,8,9,10], index = ['a','b','c','d','e','f'])\n",
    "new_series2 = new_series[new_series>0]\n",
    "print(new_series2)\n",
    "print('__________________')\n",
    "new_series2[new_series2>0]*2\n",
    "print(new_series2)\n",
    "print('__________________')\n",
    "new_series2[new_series2>0]*2\n",
    "print(new_series2)"
   ]
  },
  {
   "cell_type": "code",
   "execution_count": null,
   "metadata": {},
   "outputs": [
    {
     "name": "stdout",
     "output_type": "stream",
     "text": [
      "      country  population    square\n",
      "0  Kazakhstan       17.04   2724902\n",
      "1      Russia      143.50  17125191\n",
      "2     Belarus        9.50    207600\n",
      "3     Ukraine       45.50    603628\n"
     ]
    }
   ],
   "source": [
    "import pandas as pd\n",
    "df = pd.DataFrame({\n",
    "    'country': ['Kazakhstan', 'Russia', 'Belarus', 'Ukraine'],\n",
    "    'population': [17.04, 143.5, 9.5, 45.5],\n",
    "    'square': [2724902, 17125191, 207600, 603628]\n",
    "})\n",
    "print(df)"
   ]
  },
  {
   "cell_type": "code",
   "execution_count": null,
   "metadata": {},
   "outputs": [
    {
     "name": "stdout",
     "output_type": "stream",
     "text": [
      "   0  1  2\n",
      "0  0  1  2\n",
      "1  3  4  5\n",
      "2  6  7  8\n",
      "   V1  V2  V3\n",
      "0   0   1   2\n",
      "1   3   4   5\n",
      "2   6   7   8\n"
     ]
    }
   ],
   "source": [
    "import pandas as pd \n",
    "list2 = [[0,1,2],[3,4,5],[6,7,8]]\n",
    "df = pd.DataFrame(list2)\n",
    "print(df)\n",
    "df.columns = ['V1', 'V2', 'V3']\n",
    "print(df)"
   ]
  },
  {
   "cell_type": "code",
   "execution_count": null,
   "metadata": {},
   "outputs": [
    {
     "name": "stdout",
     "output_type": "stream",
     "text": [
      "<class 'pandas.core.series.Series'>\n"
     ]
    }
   ],
   "source": [
    "print(type(df['country']))"
   ]
  },
  {
   "cell_type": "code",
   "execution_count": null,
   "metadata": {},
   "outputs": [
    {
     "name": "stdout",
     "output_type": "stream",
     "text": [
      "Index(['country', 'population', 'square'], dtype='object')\n",
      "__________________\n",
      "RangeIndex(start=0, stop=4, step=1)\n"
     ]
    }
   ],
   "source": [
    "import pandas as pd\n",
    "df = pd.DataFrame({\n",
    "    'country': ['Kazakhstan', 'Russia', 'Belarus', 'Ukraine'],\n",
    "    'population': [17.04, 143.5, 9.5, 45.5],\n",
    "    'square': [2724902, 17125191, 207600, 603628]\n",
    "})\n",
    "print(df.columns)\n",
    "print('__________________')\n",
    "print(df.index)"
   ]
  },
  {
   "cell_type": "code",
   "execution_count": null,
   "metadata": {},
   "outputs": [
    {
     "name": "stdout",
     "output_type": "stream",
     "text": [
      "       country  population    square\n",
      "KZ  Kazakhstan       17.04   2724902\n",
      "RU      Russia      143.50  17125191\n",
      "BY     Belarus        9.50    207600\n",
      "UA     Ukraine       45.50    603628\n"
     ]
    }
   ],
   "source": [
    "import pandas as pd\n",
    "df = pd.DataFrame({\n",
    "    'country': ['Kazakhstan', 'Russia', 'Belarus', 'Ukraine'],\n",
    "    'population': [17.04, 143.5, 9.5, 45.5],\n",
    "    'square': [2724902, 17125191, 207600, 603628]\n",
    "}, index = ['KZ', 'RU', 'BY', 'UA'])\n",
    "print(df)"
   ]
  },
  {
   "cell_type": "code",
   "execution_count": null,
   "metadata": {},
   "outputs": [
    {
     "name": "stdout",
     "output_type": "stream",
     "text": [
      "      country  population    square\n",
      "0  Kazakhstan       17.04   2724902\n",
      "1      Russia      143.50  17125191\n",
      "2     Belarus        9.50    207600\n",
      "3     Ukraine       45.50    603628\n",
      "__________________\n",
      "                 country  population    square\n",
      "Country Code                                  \n",
      "KZ            Kazakhstan       17.04   2724902\n",
      "RU                Russia      143.50  17125191\n",
      "BY               Belarus        9.50    207600\n",
      "UA               Ukraine       45.50    603628\n"
     ]
    }
   ],
   "source": [
    "import pandas as pd\n",
    "df = pd.DataFrame({\n",
    "    'country': ['Kazakhstan', 'Russia', 'Belarus', 'Ukraine'],\n",
    "    'population': [17.04, 143.5, 9.5, 45.5],\n",
    "    'square': [2724902, 17125191, 207600, 603628]\n",
    "})\n",
    "print(df)\n",
    "print('__________________')\n",
    "df.index = ['KZ', 'RU', 'BY', 'UA']\n",
    "df.index.name = 'Country Code'\n",
    "print(df)\n"
   ]
  },
  {
   "cell_type": "code",
   "execution_count": null,
   "metadata": {},
   "outputs": [
    {
     "name": "stdout",
     "output_type": "stream",
     "text": [
      "country       Kazakhstan\n",
      "population         17.04\n",
      "square           2724902\n",
      "Name: KZ, dtype: object\n"
     ]
    }
   ],
   "source": [
    "print(df.loc['KZ'])"
   ]
  },
  {
   "cell_type": "code",
   "execution_count": null,
   "metadata": {},
   "outputs": [
    {
     "name": "stdout",
     "output_type": "stream",
     "text": [
      "country       Kazakhstan\n",
      "population         17.04\n",
      "square           2724902\n",
      "Name: KZ, dtype: object\n"
     ]
    }
   ],
   "source": [
    "print(df.iloc[0])"
   ]
  },
  {
   "cell_type": "code",
   "execution_count": null,
   "metadata": {},
   "outputs": [
    {
     "name": "stdout",
     "output_type": "stream",
     "text": [
      "Country Code\n",
      "KZ     17.04\n",
      "RU    143.50\n",
      "Name: population, dtype: float64\n"
     ]
    }
   ],
   "source": [
    "print(df.loc[['KZ', 'RU'], 'population'])"
   ]
  },
  {
   "cell_type": "code",
   "execution_count": null,
   "metadata": {},
   "outputs": [
    {
     "name": "stdout",
     "output_type": "stream",
     "text": [
      "                 country  population    square\n",
      "Country Code                                  \n",
      "KZ            Kazakhstan       17.04   2724902\n",
      "RU                Russia      143.50  17125191\n",
      "BY               Belarus        9.50    207600\n"
     ]
    }
   ],
   "source": [
    "print(df.loc['KZ':'BY', :])"
   ]
  },
  {
   "cell_type": "code",
   "execution_count": null,
   "metadata": {},
   "outputs": [
    {
     "name": "stdout",
     "output_type": "stream",
     "text": [
      "                 country    square\n",
      "Country Code                      \n",
      "KZ            Kazakhstan   2724902\n",
      "RU                Russia  17125191\n",
      "UA               Ukraine    603628\n"
     ]
    }
   ],
   "source": [
    "print(df[df.population > 10][['country', 'square']])"
   ]
  }
 ],
 "metadata": {
  "kernelspec": {
   "display_name": "Python 3",
   "language": "python",
   "name": "python3"
  },
  "language_info": {
   "codemirror_mode": {
    "name": "ipython",
    "version": 3
   },
   "file_extension": ".py",
   "mimetype": "text/x-python",
   "name": "python",
   "nbconvert_exporter": "python",
   "pygments_lexer": "ipython3",
   "version": "3.10.9"
  }
 },
 "nbformat": 4,
 "nbformat_minor": 2
}
