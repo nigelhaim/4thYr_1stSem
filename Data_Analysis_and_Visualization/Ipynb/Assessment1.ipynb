{
 "cells": [
  {
   "cell_type": "code",
   "execution_count": null,
   "metadata": {},
   "outputs": [],
   "source": [
    "# %pip install geopandas\n",
    "# %pip install geodatasets"
   ]
  },
  {
   "cell_type": "code",
   "execution_count": null,
   "metadata": {},
   "outputs": [],
   "source": [
    "import matplotlib.pyplot as plt\n",
    "import numpy as np\n",
    "import pandas as pd\n",
    "import seaborn as sns\n",
    "import geopandas as gpd\n",
    "import geodatasets as gds\n",
    "fao = pd.read_csv('Datasets/FAO.csv' , encoding='latin1')\n",
    "faostat = pd.read_csv('Datasets/faostat.csv' , encoding='latin1')"
   ]
  },
  {
   "cell_type": "code",
   "execution_count": null,
   "metadata": {},
   "outputs": [],
   "source": [
    "fao"
   ]
  },
  {
   "cell_type": "code",
   "execution_count": null,
   "metadata": {},
   "outputs": [],
   "source": [
    "faostat"
   ]
  },
  {
   "cell_type": "code",
   "execution_count": null,
   "metadata": {},
   "outputs": [],
   "source": [
    "# Print all columns with NaN values\n",
    "print(fao.isnull().sum())\n",
    "# print(faostat.isnull().sum())"
   ]
  },
  {
   "cell_type": "code",
   "execution_count": null,
   "metadata": {},
   "outputs": [],
   "source": [
    "# Handle missing values\n",
    "fao = fao.replace('...', np.nan)\n",
    "faostat = faostat.replace('...', np.nan)\n",
    "\n",
    "fao = fao.dropna()\n",
    "faostat = faostat.dropna()\n"
   ]
  },
  {
   "cell_type": "code",
   "execution_count": null,
   "metadata": {},
   "outputs": [],
   "source": [
    "# Print all columns with NaN v\n",
    "print(fao.isnull().sum())\n",
    "print(faostat.isnull().sum())"
   ]
  },
  {
   "cell_type": "code",
   "execution_count": null,
   "metadata": {},
   "outputs": [],
   "source": [
    "#creating the dictionary\n",
    "fao_dict = fao.to_dict()\n",
    "faostat_dict = faostat.to_dict()"
   ]
  },
  {
   "cell_type": "code",
   "execution_count": null,
   "metadata": {},
   "outputs": [],
   "source": [
    "fao"
   ]
  },
  {
   "cell_type": "code",
   "execution_count": null,
   "metadata": {},
   "outputs": [],
   "source": [
    "faostat"
   ]
  },
  {
   "cell_type": "code",
   "execution_count": null,
   "metadata": {},
   "outputs": [],
   "source": [
    "# print all duplicated rows or columns\n",
    "print(fao.duplicated().sum())\n",
    "print(faostat.duplicated().sum())"
   ]
  },
  {
   "cell_type": "code",
   "execution_count": null,
   "metadata": {},
   "outputs": [],
   "source": [
    "# Remove duplicates\n",
    "fao = fao.drop_duplicates()\n",
    "faostat = faostat.drop_duplicates()\n"
   ]
  },
  {
   "cell_type": "code",
   "execution_count": null,
   "metadata": {},
   "outputs": [],
   "source": [
    "#drop the flag column on faostat\n",
    "faostat = faostat.drop(columns=['Flag'])\n",
    "# Drop all the element with the value Feed \n",
    "fao = fao[fao.Element != 'Feed']"
   ]
  },
  {
   "cell_type": "code",
   "execution_count": null,
   "metadata": {},
   "outputs": [],
   "source": [
    "fao.dtypes"
   ]
  },
  {
   "cell_type": "code",
   "execution_count": null,
   "metadata": {},
   "outputs": [],
   "source": [
    "faostat.dtypes"
   ]
  },
  {
   "cell_type": "code",
   "execution_count": null,
   "metadata": {},
   "outputs": [],
   "source": [
    "# Standardize columns to ensure consistency between both datasets \n",
    "\n",
    "fao.head()\n"
   ]
  },
  {
   "cell_type": "code",
   "execution_count": null,
   "metadata": {},
   "outputs": [],
   "source": [
    "faostat.head()"
   ]
  },
  {
   "cell_type": "code",
   "execution_count": null,
   "metadata": {},
   "outputs": [],
   "source": [
    "# all columns in fao are in faostat\n",
    "# standardize column names\n",
    "fao.columns = fao.columns.str.lower()\n",
    "faostat.columns = faostat.columns.str.lower()"
   ]
  },
  {
   "cell_type": "code",
   "execution_count": null,
   "metadata": {},
   "outputs": [],
   "source": [
    "# get unique valuews in each column in fao\n",
    "\n",
    "for col in fao.columns:\n",
    "    print(fao[col], \" | \", fao[col].unique())"
   ]
  },
  {
   "cell_type": "code",
   "execution_count": null,
   "metadata": {},
   "outputs": [],
   "source": [
    "# get unique values in each column in faostat\n",
    "for column in faostat.columns:\n",
    "     print(faostat[column], \" | \", faostat[column].unique())"
   ]
  },
  {
   "cell_type": "code",
   "execution_count": null,
   "metadata": {},
   "outputs": [],
   "source": [
    "#print all unique values in Area\n",
    "print(fao['area'].unique())"
   ]
  },
  {
   "cell_type": "code",
   "execution_count": null,
   "metadata": {},
   "outputs": [],
   "source": [
    "#store all unique countries\n",
    "countries = fao['area'].unique()"
   ]
  },
  {
   "cell_type": "code",
   "execution_count": null,
   "metadata": {},
   "outputs": [],
   "source": [
    "# import pandas as pd\n",
    "# import matplotlib.pyplot as plt\n",
    "\n",
    "# # Assuming 'fao' is your original DataFrame\n",
    "# # Drop unnecessary columns\n",
    "# fao_top = fao.drop(columns=['area abbreviation', 'area code', 'item code', 'element code', 'unit', 'latitude', 'longitude'])\n",
    "# for country in countries:\n",
    "#     df_country = fao_top[fao_top['area'] == country]\n",
    "#     year_columns = [col for col in df_country.columns if col.startswith('y')]\n",
    "\n",
    "#     df_melted = df_country.melt(id_vars=['area', 'item'], value_vars=year_columns, var_name='Year', value_name='Value')\n",
    "\n",
    "#     df_melted['Year'] = df_melted['Year'].str.extract('(\\d+)').astype(int)\n",
    "\n",
    "#     df_average = df_melted.groupby('item')['Value'].mean().reset_index()\n",
    "\n",
    "#     df_average = df_average.rename(columns={'Value': 'AverageValue'})\n",
    "\n",
    "#     df_top10 = df_average.sort_values(by='AverageValue', ascending=False).head(10)\n",
    "\n",
    "#     print(df_top10)\n",
    "\n",
    "#     plt.figure(figsize=(10, 6))\n",
    "#     plt.bar(df_top10['item'], df_top10['AverageValue'], color='skyblue')\n",
    "#     plt.title(f'Top 10 Items in {country} Based on Average Value')\n",
    "#     plt.xlabel('Item')\n",
    "#     plt.ylabel('Average Value')\n",
    "#     plt.xticks(rotation=90)\n",
    "#     plt.grid(True)\n",
    "\n",
    "#     plt.show()\n"
   ]
  },
  {
   "cell_type": "code",
   "execution_count": null,
   "metadata": {},
   "outputs": [],
   "source": [
    "import pandas as pd\n",
    "import matplotlib.pyplot as plt\n",
    "\n",
    "\n",
    "    # Assuming 'fao' is your original DataFrame\n",
    "    # Drop unnecessary columns\n",
    "    # drop all values with the element value Feed\n",
    "fao_average = fao[fao['element'] != 'Feed']\n",
    "\n",
    "fao_average = fao.drop(columns=['area abbreviation', 'area code', 'item code', 'element code', 'unit', 'latitude', 'longitude'])\n",
    "for c in countries:\n",
    "    # Step 2: Filter data by country\n",
    "    country = c  # Replace with the specific country name\n",
    "    df_country = fao_average[fao_average['area'] == country]\n",
    "\n",
    "    # Step 3: Reshape the data\n",
    "    # Identify the year columns (assuming they start with 'y')\n",
    "    year_columns = [col for col in df_country.columns if col.startswith('y')]\n",
    "\n",
    "    # Melt the DataFrame to have 'Year' as a single column\n",
    "    df_melted = df_country.melt(id_vars=['area', 'item'], value_vars=year_columns, var_name='Year', value_name='Value')\n",
    "\n",
    "    # Remove the 'y' prefix from the 'Year' column to get the actual year as an integer\n",
    "    df_melted['Year'] = df_melted['Year'].str.extract('(\\d+)').astype(int)\n",
    "\n",
    "    # Get the average trhoughout the years for each item and create a new column\n",
    "    df_melted['Average'] = df_melted.groupby('item')['Value'].transform('mean')\n",
    "\n",
    "    # drop all the items that has an average below 500\n",
    "    df_melted = df_melted[df_melted['Average'] > 500]\n",
    "    if df_melted.empty:\n",
    "        df_melted = df_melted[df_melted['Average'] > 100]\n",
    "    # Verify the output\n",
    "    print(df_melted.head())\n",
    "\n",
    "    # drop all items with the value 0 an all years\n",
    "    df_melted = df_melted[df_melted['Value'] != 0]\n",
    "\n",
    "    # Plotting the data\n",
    "    plt.figure(figsize=(10, 6))\n",
    "    for item in df_melted['item'].unique():\n",
    "        df_item = df_melted[df_melted['item'] == item]\n",
    "        plt.plot(df_item['Year'], df_item['Value'], marker='o', label=item)\n",
    "\n",
    "    # Customize the plot\n",
    "    plt.title(f'Trend of Items in {country}')\n",
    "    plt.xlabel('Year')\n",
    "    plt.ylabel('Value')\n",
    "    plt.legend(title='Item')\n",
    "    plt.grid(True)\n",
    "\n",
    "    # Display the plot\n",
    "    plt.show()\n"
   ]
  },
  {
   "cell_type": "code",
   "execution_count": null,
   "metadata": {},
   "outputs": [],
   "source": [
    "# df_melted"
   ]
  },
  {
   "cell_type": "code",
   "execution_count": null,
   "metadata": {},
   "outputs": [],
   "source": [
    "import geopandas as gpd\n",
    "\n",
    "# Load the shapefile\n",
    "world = gpd.read_file('ne_10m_admin_0_countries/ne_10m_admin_0_countries.shp')\n",
    "world.sort_values(by='SOVEREIGNT', inplace=True)\n",
    "\n",
    "world.SOVEREIGNT.unique()"
   ]
  },
  {
   "cell_type": "markdown",
   "metadata": {},
   "source": [
    "# Replaces the countries names of the shp"
   ]
  },
  {
   "cell_type": "code",
   "execution_count": null,
   "metadata": {},
   "outputs": [],
   "source": [
    "import geopandas as gpd\n",
    "\n",
    "# Load the shapefile\n",
    "world = gpd.read_file('ne_10m_admin_0_countries/ne_10m_admin_0_countries.shp')\n",
    "\n",
    "# Define old and new country names\n",
    "old_names = ['Afghanistan', 'Albania', 'Algeria', 'Andorra', 'Angola',\n",
    "             'Antarctica', 'Antigua and Barbuda', 'Argentina', 'Armenia',\n",
    "             'Australia', 'Austria', 'Azerbaijan', 'Bahrain',\n",
    "             'Bajo Nuevo Bank (Petrel Is.)', 'Bangladesh', 'Barbados',\n",
    "             'Belarus', 'Belgium', 'Belize', 'Benin', 'Bhutan', 'Bir Tawil',\n",
    "             'Bolivia', 'Bosnia and Herzegovina', 'Botswana', 'Brazil',\n",
    "             'Brazilian Island', 'Brunei', 'Bulgaria', 'Burkina Faso',\n",
    "             'Burundi', 'Cabo Verde', 'Cambodia', 'Cameroon', 'Canada',\n",
    "             'Central African Republic', 'Chad', 'Chile', 'China', 'Colombia',\n",
    "             'Comoros', 'Costa Rica', 'Croatia', 'Cuba', 'Cyprus',\n",
    "             'Cyprus No Mans Area', 'Czechia',\n",
    "             'Congo, The Democratic Republic of the', 'Denmark', 'Djibouti',\n",
    "             'Dominica', 'Dominican Republic', 'East Timor', 'Ecuador', 'Egypt',\n",
    "             'El Salvador', 'Equatorial Guinea', 'Eritrea', 'Estonia',\n",
    "             'Ethiopia', 'Federated States of Micronesia', 'Fiji', 'Finland',\n",
    "             'France', 'Gabon', 'Gambia', 'Georgia', 'Germany', 'Ghana',\n",
    "             'Greece', 'Grenada', 'Guatemala', 'Guinea', 'Guinea-Bissau',\n",
    "             'Guyana', 'Haiti', 'Honduras', 'Hungary', 'Iceland', 'India',\n",
    "             'Indonesia', 'Iran', 'Iraq', 'Ireland', 'Israel', 'Italy',\n",
    "             'Ivory Coast', 'Jamaica', 'Japan', 'Jordan', 'Kashmir',\n",
    "             'Kazakhstan', 'Kenya', 'Kiribati', 'Kosovo', 'Kuwait',\n",
    "             'Kyrgyzstan', 'Laos', 'Latvia', 'Lebanon', 'Lesotho', 'Liberia',\n",
    "             'Libya', 'Liechtenstein', 'Lithuania', 'Luxembourg', 'Madagascar',\n",
    "             'Malawi', 'Malaysia', 'Maldives', 'Mali', 'Malta',\n",
    "             'Marshall Islands', 'Mauritania', 'Mauritius', 'Mexico', 'Moldova',\n",
    "             'Monaco', 'Mongolia', 'Montenegro', 'Morocco', 'Mozambique',\n",
    "             'Myanmar', 'Namibia', 'Nauru', 'Nepal', 'Netherlands',\n",
    "             'New Zealand', 'Nicaragua', 'Niger', 'Nigeria', 'North Korea',\n",
    "             'North Macedonia', 'Northern Cyprus', 'Norway', 'Oman', 'Pakistan',\n",
    "             'Palau', 'Panama', 'Papua New Guinea', 'Paraguay', 'Peru',\n",
    "             'Philippines', 'Poland', 'Portugal', 'Qatar', 'Serbia', 'Congo',\n",
    "             'Romania', 'Russia', 'Rwanda', 'Saint Kitts and Nevis',\n",
    "             'Saint Lucia', 'Saint Vincent and the Grenadines', 'Samoa',\n",
    "             'San Marino', 'Saudi Arabia', 'Scarborough Reef', 'Senegal',\n",
    "             'Serranilla Bank', 'Seychelles', 'Sierra Leone', 'Singapore',\n",
    "             'Slovakia', 'Slovenia', 'Solomon Islands', 'Somalia', 'Somaliland',\n",
    "             'South Africa', 'South Korea', 'South Sudan',\n",
    "             'Southern Patagonian Ice Field', 'Spain', 'Spratly Islands',\n",
    "             'Sri Lanka', 'Sudan', 'Suriname', 'Sweden', 'Switzerland', 'Syria',\n",
    "             'São Tomé and Principe', 'Taiwan', 'Tajikistan', 'Thailand',\n",
    "             'The Bahamas', 'Togo', 'Tonga', 'Trinidad and Tobago', 'Tunisia',\n",
    "             'Turkey', 'Turkmenistan', 'Tuvalu', 'Uganda', 'Ukraine',\n",
    "             'United Arab Emirates', 'United Kingdom',\n",
    "             'Tanzania, United Republic of', 'United States', 'Uruguay',\n",
    "             'Uzbekistan', 'Vanuatu', 'Vatican', 'Venezuela', 'Vietnam',\n",
    "             'Western Sahara', 'Yemen', 'Zambia', 'Zimbabwe', 'eSwatini']\n",
    "\n",
    "new_names = ['Afghanistan', 'Albania', 'Algeria', 'American Samoa', 'Andorra',\n",
    "             'Angola', 'Anguilla', 'Antigua and Barbuda', 'Argentina',\n",
    "             'Armenia', 'Aruba', 'Australia', 'Austria', 'Azerbaijan',\n",
    "             'Bahamas', 'Bahrain', 'Bangladesh', 'Barbados', 'Belarus',\n",
    "             'Belgium', 'Belize', 'Benin', 'Bermuda', 'Bhutan',\n",
    "             'Bolivia (Plurinational State of)', 'Bosnia and Herzegovina',\n",
    "             'Botswana', 'Brazil', 'British Virgin Islands',\n",
    "             'Brunei Darussalam', 'Bulgaria', 'Burkina Faso', 'Burundi',\n",
    "             'Cabo Verde', 'Cambodia', 'Cameroon', 'Canada', 'Cayman Islands',\n",
    "             'Central African Republic', 'Chad', 'Channel Islands', 'Chile',\n",
    "             'China, Hong Kong SAR', 'China, Macao SAR', 'China, mainland',\n",
    "             'China, Taiwan Province of', 'Colombia', 'Comoros', 'Congo',\n",
    "             'Cook Islands', 'Costa Rica', \"Côte d'Ivoire\", 'Croatia', 'Cuba',\n",
    "             'Cyprus', 'Czechia', \"Democratic People's Republic of Korea\",\n",
    "             'Democratic Republic of the Congo', 'Denmark', 'Djibouti',\n",
    "             'Dominica', 'Dominican Republic', 'Ecuador', 'Egypt',\n",
    "             'El Salvador', 'Equatorial Guinea', 'Eritrea', 'Estonia',\n",
    "             'Ethiopia', 'Falkland Islands (Malvinas)', 'Faroe Islands', 'Fiji',\n",
    "             'Finland', 'France', 'French Guiana', 'French Polynesia', 'Gabon',\n",
    "             'Gambia', 'Georgia', 'Germany', 'Ghana', 'Gibraltar', 'Greece',\n",
    "             'Greenland', 'Grenada', 'Guadeloupe', 'Guam', 'Guatemala',\n",
    "             'Guinea', 'Guinea-Bissau', 'Guyana', 'Haiti', 'Holy See',\n",
    "             'Honduras', 'Hungary', 'Iceland', 'India', 'Indonesia',\n",
    "             'Iran (Islamic Republic of)', 'Iraq', 'Ireland', 'Isle of Man',\n",
    "             'Israel', 'Italy', 'Jamaica', 'Japan', 'Jordan', 'Kazakhstan',\n",
    "             'Kenya', 'Kiribati', 'Kuwait', 'Kyrgyzstan',\n",
    "             \"Lao People's Democratic Republic\", 'Latvia', 'Lebanon', 'Lesotho',\n",
    "             'Liberia', 'Libya', 'Liechtenstein', 'Lithuania', 'Luxembourg',\n",
    "             'Madagascar', 'Malawi', 'Malaysia', 'Maldives', 'Mali', 'Malta',\n",
    "             'Marshall Islands', 'Martinique', 'Mauritania', 'Mauritius',\n",
    "             'Mayotte', 'Mexico', 'Micronesia (Federated States of)', 'Monaco',\n",
    "             'Mongolia', 'Montenegro', 'Montserrat', 'Morocco', 'Mozambique',\n",
    "             'Myanmar', 'Namibia', 'Nauru', 'Nepal', 'Netherlands',\n",
    "             'New Caledonia', 'New Zealand', 'Nicaragua', 'Niger', 'Nigeria',\n",
    "             'Niue', 'Northern Mariana Islands', 'Norway', 'Palestine', 'Oman',\n",
    "             'Pakistan', 'Palau', 'Panama', 'Papua New Guinea', 'Paraguay',\n",
    "             'Peru', 'Philippines', 'Poland', 'Portugal', 'Puerto Rico',\n",
    "             'Qatar', 'Republic of Korea', 'Republic of Moldova', 'Réunion',\n",
    "             'Romania', 'Russian Federation', 'Rwanda',\n",
    "             'Saint Helena, Ascension and Tristan da Cunha',\n",
    "             'Saint Kitts and Nevis', 'Saint Lucia',\n",
    "             'Saint Pierre and Miquelon', 'Saint Vincent and the Grenadines',\n",
    "             'Samoa', 'San Marino', 'Sao Tome and Principe', 'Saudi Arabia',\n",
    "             'Senegal', 'Serbia', 'Seychelles', 'Sierra Leone', 'Singapore',\n",
    "             'Slovakia', 'Slovenia', 'Solomon Islands', 'Somalia',\n",
    "             'South Africa', 'South Sudan', 'Spain', 'Sri Lanka', 'Sudan',\n",
    "             'Suriname', 'Eswatini', 'Sweden', 'Switzerland',\n",
    "             'Syrian Arab Republic', 'Tajikistan', 'Thailand',\n",
    "             'North Macedonia', 'Timor-Leste', 'Togo', 'Tokelau', 'Tonga',\n",
    "             'Trinidad and Tobago', 'Tunisia', 'Turkey', 'Turkmenistan',\n",
    "             'Turks and Caicos Islands', 'Tuvalu', 'Uganda', 'Ukraine',\n",
    "             'United Arab Emirates', 'United Kingdom',\n",
    "             'United Republic of Tanzania', 'United States of America',\n",
    "             'United States Virgin Islands', 'Uruguay', 'Uzbekistan', 'Vanuatu',\n",
    "             'Venezuela (Bolivarian Republic of)', 'Viet Nam',\n",
    "             'Wallis and Futuna Islands', 'Western Sahara', 'Yemen', 'Zambia',\n",
    "             'Zimbabwe', 'China']\n",
    "\n",
    "# Create a dictionary mapping old names to new names\n",
    "name_mapping = dict(zip(old_names, new_names))\n",
    "\n",
    "# Update the 'SOVEREIGNT' column with new names\n",
    "world['SOVEREIGNT'] = world['SOVEREIGNT'].map(name_mapping).fillna(world['SOVEREIGNT'])\n",
    "\n",
    "# Check if all names are correctly updated\n",
    "print(world['SOVEREIGNT'].unique())\n",
    "\n",
    "# Save the updated shapefile (optional)\n",
    "world.to_file('ne_10m_admin_0_countries/ne_10m_admin_0_countries.shp')\n"
   ]
  },
  {
   "cell_type": "code",
   "execution_count": null,
   "metadata": {},
   "outputs": [],
   "source": [
    "# check if all the countries from the fao dataset are in the world dataset\n",
    "for country in countries:\n",
    "    if country not in world['SOVEREIGNT'].unique():\n",
    "        print(country)"
   ]
  },
  {
   "cell_type": "markdown",
   "metadata": {},
   "source": [
    "## Population map throughout the world \n"
   ]
  },
  {
   "cell_type": "code",
   "execution_count": null,
   "metadata": {},
   "outputs": [],
   "source": [
    "import geopandas as gpd\n",
    "import pandas as pd\n",
    "import matplotlib.pyplot as plt\n",
    "\n",
    "# Your existing total_population DataFrame setup\n",
    "total_population = faostat[['area', 'unit', 'value']]\n",
    "\n",
    "# Convert the unit column to integer by removing 'persons' and white spaces\n",
    "total_population['unit'] = total_population['unit'].str.replace(' ', '').str.replace('persons', '').astype(int)\n",
    "\n",
    "# Calculate the total population\n",
    "total_population['total'] = total_population['unit'] * total_population['value']\n",
    "\n",
    "# Load the correct world GeoDataFrame\n",
    "world = gpd.read_file('ne_10m_admin_0_countries/ne_10m_admin_0_countries.shp')\n",
    "\n",
    "# Merge the total_population DataFrame with the world GeoDataFrame\n",
    "merged = world.merge(total_population, left_on='SOVEREIGNT', right_on='area', how='left')\n",
    "\n",
    "# Plot the data\n",
    "ax = merged.plot(column='total', cmap='OrRd', legend=True, \n",
    "                 legend_kwds={'label': \"Population by Country\",\n",
    "                              'orientation': \"horizontal\"},\n",
    "                 missing_kwds={'color': 'lightgrey'})\n",
    "\n",
    "# Customize plot (optional)\n",
    "plt.title('World Population by Country')\n",
    "plt.show()\n"
   ]
  },
  {
   "cell_type": "code",
   "execution_count": null,
   "metadata": {},
   "outputs": [],
   "source": []
  }
 ],
 "metadata": {
  "kernelspec": {
   "display_name": "Python 3",
   "language": "python",
   "name": "python3"
  },
  "language_info": {
   "codemirror_mode": {
    "name": "ipython",
    "version": 3
   },
   "file_extension": ".py",
   "mimetype": "text/x-python",
   "name": "python",
   "nbconvert_exporter": "python",
   "pygments_lexer": "ipython3",
   "version": "3.10.9"
  }
 },
 "nbformat": 4,
 "nbformat_minor": 2
}
